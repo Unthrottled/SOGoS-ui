{
 "cells": [
  {
   "cell_type": "code",
   "execution_count": 1,
   "metadata": {},
   "outputs": [
    {
     "name": "stdout",
     "output_type": "stream",
     "text": [
      "Installing packages:\n",
      "\t.package(url: \"https://github.com/mxcl/Path.swift\", from: \"0.16.1\")\n",
      "\t\tPath\n",
      "\t.package(url: \"https://github.com/saeta/Just\", from: \"0.7.2\")\n",
      "\t\tJust\n",
      "\t.package(url: \"https://github.com/latenitesoft/NotebookExport\", from: \"0.5.0\")\n",
      "\t\tNotebookExport\n",
      "With SwiftPM flags: []\n",
      "Working in: /tmp/tmpq1ksll0n/swift-install\n",
      "warning: /home/alex/swift/tensorflow/usr/bin/swiftc: /home/alex/miniconda3/envs/swift-env/lib/libuuid.so.1: no version information available (required by /home/alex/swift/tensorflow/usr/bin/swiftc)\n",
      "/home/alex/swift/tensorflow/usr/bin/swift: /home/alex/miniconda3/envs/swift-env/lib/libuuid.so.1: no version information available (required by /home/alex/swift/tensorflow/usr/bin/swift)\n",
      "Fetching https://github.com/mxcl/Path.swift\n",
      "Fetching https://github.com/saeta/Just\n",
      "Fetching https://github.com/latenitesoft/NotebookExport\n",
      "Cloning https://github.com/latenitesoft/NotebookExport\n",
      "Resolving https://github.com/latenitesoft/NotebookExport at 0.6.0\n",
      "Cloning https://github.com/mxcl/Path.swift\n",
      "Resolving https://github.com/mxcl/Path.swift at 0.16.3\n",
      "Cloning https://github.com/saeta/Just\n",
      "Resolving https://github.com/saeta/Just at 0.7.3\n",
      "warning: /home/alex/swift/tensorflow/usr/bin/swiftc: /home/alex/miniconda3/envs/swift-env/lib/libuuid.so.1: no version information available (required by /home/alex/swift/tensorflow/usr/bin/swiftc)\n",
      "/home/alex/swift/tensorflow/usr/bin/swift: /home/alex/miniconda3/envs/swift-env/lib/libuuid.so.1: no version information available (required by /home/alex/swift/tensorflow/usr/bin/swift)\n",
      "warning: /home/alex/swift/tensorflow/usr/bin/swiftc: /home/alex/miniconda3/envs/swift-env/lib/libuuid.so.1: no version information available (required by /home/alex/swift/tensorflow/usr/bin/swiftc)\n",
      "/home/alex/swift/tensorflow/usr/bin/swift: /home/alex/miniconda3/envs/swift-env/lib/libuuid.so.1: no version information available (required by /home/alex/swift/tensorflow/usr/bin/swift)\n",
      "warning: /home/alex/swift/tensorflow/usr/bin/swiftc: /home/alex/miniconda3/envs/swift-env/lib/libuuid.so.1: no version information available (required by /home/alex/swift/tensorflow/usr/bin/swiftc)\n",
      "/home/alex/swift/tensorflow/usr/bin/swift: /home/alex/miniconda3/envs/swift-env/lib/libuuid.so.1: no version information available (required by /home/alex/swift/tensorflow/usr/bin/swift)\n",
      "/home/alex/swift/tensorflow/usr/bin/swiftc: /home/alex/miniconda3/envs/swift-env/lib/libuuid.so.1: no version information available (required by /home/alex/swift/tensorflow/usr/bin/swiftc)\n",
      "/home/alex/swift/tensorflow/usr/bin/swiftc: /home/alex/miniconda3/envs/swift-env/lib/libuuid.so.1: no version information available (required by /home/alex/swift/tensorflow/usr/bin/swiftc)/home/alex/swift/tensorflow/usr/bin/swiftc: /home/alex/miniconda3/envs/swift-env/lib/libuuid.so.1: no version information available (required by /home/alex/swift/tensorflow/usr/bin/swiftc)[1/11] Compiling Path Path+Codable.swift\n",
      "/home/alex/swift/tensorflow/usr/bin/swift: /home/alex/miniconda3/envs/swift-env/lib/libuuid.so.1: no version information available (required by /home/alex/swift/tensorflow/usr/bin/swift)\n",
      "[2/11] Compiling Path Path+CommonDirectories.swift\n",
      "/home/alex/swift/tensorflow/usr/bin/swift: /home/alex/miniconda3/envs/swift-env/lib/libuuid.so.1: no version information available (required by /home/alex/swift/tensorflow/usr/bin/swift)\n",
      "[3/11] Compiling Path Path+StringConvertibles.swift\n",
      "/home/alex/swift/tensorflow/usr/bin/swift: /home/alex/miniconda3/envs/swift-env/lib/libuuid.so.1: no version information available (required by /home/alex/swift/tensorflow/usr/bin/swift)\n",
      "[4/11] Compiling Path Extensions.swift\n",
      "/home/alex/swift/tensorflow/usr/bin/swift: /home/alex/miniconda3/envs/swift-env/lib/libuuid.so.1: no version information available (required by /home/alex/swift/tensorflow/usr/bin/swift)\n",
      "[5/11] Compiling Path Path+FileManager.swift\n",
      "/home/alex/swift/tensorflow/usr/bin/swift: /home/alex/miniconda3/envs/swift-env/lib/libuuid.so.1: no version information available (required by /home/alex/swift/tensorflow/usr/bin/swift)\n",
      "[6/11] Compiling Path Path.swift\n",
      "/home/alex/swift/tensorflow/usr/bin/swift: /home/alex/miniconda3/envs/swift-env/lib/libuuid.so.1: no version information available (required by /home/alex/swift/tensorflow/usr/bin/swift)\n",
      "[7/11] Compiling Path Path+Attributes.swift\n",
      "/home/alex/swift/tensorflow/usr/bin/swift: /home/alex/miniconda3/envs/swift-env/lib/libuuid.so.1: no version information available (required by /home/alex/swift/tensorflow/usr/bin/swift)\n",
      "[8/11] Compiling Path Path+ls.swift\n",
      "/home/alex/swift/tensorflow/usr/bin/swift: /home/alex/miniconda3/envs/swift-env/lib/libuuid.so.1: no version information available (required by /home/alex/swift/tensorflow/usr/bin/swift)\n",
      "[9/11] Compiling Path Path->Bool.swift\n",
      "/home/alex/swift/tensorflow/usr/bin/swift: /home/alex/miniconda3/envs/swift-env/lib/libuuid.so.1: no version information available (required by /home/alex/swift/tensorflow/usr/bin/swift)\n",
      "/home/alex/swift/tensorflow/usr/bin/swift: /home/alex/miniconda3/envs/swift-env/lib/libuuid.so.1: no version information available (required by /home/alex/swift/tensorflow/usr/bin/swift)\n",
      "[11/13] Merging module Path\n",
      "/home/alex/swift/tensorflow/usr/bin/swift: /home/alex/miniconda3/envs/swift-env/lib/libuuid.so.1: no version information available (required by /home/alex/swift/tensorflow/usr/bin/swift)\n",
      "/home/alex/swift/tensorflow/usr/bin/swiftc: /home/alex/miniconda3/envs/swift-env/lib/libuuid.so.1: no version information available (required by /home/alex/swift/tensorflow/usr/bin/swiftc)[12/17] Merging module Just\n",
      "/home/alex/swift/tensorflow/usr/bin/swift: /home/alex/miniconda3/envs/swift-env/lib/libuuid.so.1: no version information available (required by /home/alex/swift/tensorflow/usr/bin/swift)\n",
      "[13/17] Compiling NotebookExport PackageManifest.swift\n",
      "/home/alex/swift/tensorflow/usr/bin/swift: /home/alex/miniconda3/envs/swift-env/lib/libuuid.so.1: no version information available (required by /home/alex/swift/tensorflow/usr/bin/swift)\n",
      "[14/17] Compiling NotebookExport DependencyDescription.swift\n",
      "/home/alex/swift/tensorflow/usr/bin/swift: /home/alex/miniconda3/envs/swift-env/lib/libuuid.so.1: no version information available (required by /home/alex/swift/tensorflow/usr/bin/swift)\n",
      "[15/17] Compiling NotebookExport ExtensionUtils.swift\n",
      "/home/alex/swift/tensorflow/usr/bin/swift: /home/alex/miniconda3/envs/swift-env/lib/libuuid.so.1: no version information available (required by /home/alex/swift/tensorflow/usr/bin/swift)\n",
      "[16/17] Compiling NotebookExport NotebookExport.swift\n",
      "/home/alex/swift/tensorflow/usr/bin/swift: /home/alex/miniconda3/envs/swift-env/lib/libuuid.so.1: no version information available (required by /home/alex/swift/tensorflow/usr/bin/swift)\n",
      "[17/18] Merging module NotebookExport\n",
      "/home/alex/swift/tensorflow/usr/bin/swift: /home/alex/miniconda3/envs/swift-env/lib/libuuid.so.1: no version information available (required by /home/alex/swift/tensorflow/usr/bin/swift)\n",
      "/home/alex/swift/tensorflow/usr/bin/swiftc: /home/alex/miniconda3/envs/swift-env/lib/libuuid.so.1: no version information available (required by /home/alex/swift/tensorflow/usr/bin/swiftc)[18/19] Compiling jupyterInstalledPackages jupyterInstalledPackages.swift\n",
      "/home/alex/swift/tensorflow/usr/bin/swift: /home/alex/miniconda3/envs/swift-env/lib/libuuid.so.1: no version information available (required by /home/alex/swift/tensorflow/usr/bin/swift)\n",
      "[19/20] Merging module jupyterInstalledPackages\n",
      "/home/alex/swift/tensorflow/usr/bin/swift: /home/alex/miniconda3/envs/swift-env/lib/libuuid.so.1: no version information available (required by /home/alex/swift/tensorflow/usr/bin/swift)\n",
      "/home/alex/swift/tensorflow/usr/bin/swiftc: /home/alex/miniconda3/envs/swift-env/lib/libuuid.so.1: no version information available (required by /home/alex/swift/tensorflow/usr/bin/swiftc)\n",
      "/home/alex/swift/tensorflow/usr/bin/swift-autolink-extract: /home/alex/miniconda3/envs/swift-env/lib/libuuid.so.1: no version information available (required by /home/alex/swift/tensorflow/usr/bin/swift-autolink-extract)\n",
      "[20/20] Linking libjupyterInstalledPackages.so\n",
      "Initializing Swift...\n",
      "Installation complete!\n"
     ]
    }
   ],
   "source": [
    "%install-location $cwd/swift-install\n",
    "%install '.package(url: \"https://github.com/mxcl/Path.swift\", from: \"0.16.1\")' Path\n",
    "%install '.package(url: \"https://github.com/saeta/Just\", from: \"0.7.2\")' Just\n",
    "%install '.package(url: \"https://github.com/latenitesoft/NotebookExport\", from: \"0.5.0\")' NotebookExport"
   ]
  },
  {
   "cell_type": "code",
   "execution_count": 3,
   "metadata": {},
   "outputs": [],
   "source": [
    "//export\n",
    "import Path\n",
    "import TensorFlow"
   ]
  },
  {
   "cell_type": "markdown",
   "metadata": {},
   "source": [
    "### Rando Stuff I need"
   ]
  },
  {
   "cell_type": "code",
   "execution_count": 7,
   "metadata": {},
   "outputs": [],
   "source": [
    "//export\n",
    "protocol ConvertibleFromByte: TensorFlowScalar {\n",
    "    init(_ d:UInt8)\n",
    "}\n",
    "extension Float : ConvertibleFromByte {}\n",
    "extension Int32 : ConvertibleFromByte {}\n",
    "\n",
    "//export \n",
    "import Dispatch\n",
    "\n",
    "public func getTimeUnit(_ nanoSeconds: Double) -> String {\n",
    "    let powerOfTen = floor(log10(nanoSeconds))\n",
    "    switch powerOfTen {\n",
    "        case 1..<3:\n",
    "            return \"\\(nanoSeconds) ns\"\n",
    "        case 3..<6:\n",
    "            return \"\\(nanoSeconds/1e3) µs\"\n",
    "        case 6..<9: \n",
    "            return \"\\(nanoSeconds/1e6) ms\"\n",
    "        default: \n",
    "            return \"\\(nanoSeconds/1e9) s\"\n",
    "    }\n",
    "}\n",
    "\n",
    "// ⏰Time how long it takes to run the specified function, optionally taking\n",
    "// the average across a number of repetitions.\n",
    "public func withTime<T>(_ f: () -> T) -> T {\n",
    "    let start = DispatchTime.now()\n",
    "    let value = f()\n",
    "    let end = DispatchTime.now()\n",
    "    let nanoSeconds = Double(end.uptimeNanoseconds - start.uptimeNanoseconds)\n",
    "    print(\"elapsed time: \\(getTimeUnit(nanoSeconds))\")\n",
    "    return value\n",
    "}\n",
    "\n",
    "public func timeTrials(trials: Int = 1, _ f: () -> ()) {\n",
    "    guard trials > 0 else { return }\n",
    "    \n",
    "    // Warmup\n",
    "    if trials > 1 { f() }\n",
    "    \n",
    "    var times = [Double]()\n",
    "    for _ in 1...trials {\n",
    "        let start = DispatchTime.now()\n",
    "        f()\n",
    "        let end = DispatchTime.now()\n",
    "        let nanoseconds = Double(end.uptimeNanoseconds - start.uptimeNanoseconds)\n",
    "        times.append(nanoseconds)\n",
    "    }\n",
    "    print(\"average: \\(getTimeUnit(times.reduce(0.0, +)/Double(times.count))),   \" +\n",
    "          \"min: \\(getTimeUnit(times.reduce(times[0], min))),   \" +\n",
    "          \"max: \\(getTimeUnit(times.reduce(times[0], max)))\")\n",
    "}\n",
    "\n",
    "public extension String {\n",
    "    func findFirst(pat: String) -> Range<String.Index>? {\n",
    "        return range(of: pat, options: .regularExpression)\n",
    "    }\n",
    "    func hasMatch(pat: String) -> Bool {\n",
    "        return findFirst(pat:pat) != nil\n",
    "    }\n",
    "}\n",
    "public func normalizeTensor<T:TensorFlowFloatingPoint>(tensor: Tensor<T>)-> Tensor<T>{\n",
    "    return (tensor - tensor.mean())/tensor.standardDeviation()\n",
    "}\n",
    "public struct AssertionError: Error {\n",
    "    let message: String\n",
    "    init(_ message: String){\n",
    "        self.message = message\n",
    "    }\n",
    "}\n",
    "public func assert(toAssert: Bool, message: String = \"Not True!\") throws {\n",
    "    if(!toAssert){\n",
    "        throw AssertionError(message)\n",
    "    }\n",
    "}\n",
    "public extension StringTensor {\n",
    "    // Read a file into a Tensor.\n",
    "    init(readFile filename: String) {\n",
    "        self.init(readFile: StringTensor(filename))\n",
    "    }\n",
    "    init(readFile filename: StringTensor) {\n",
    "        self = Raw.readFile(filename: filename)\n",
    "    }\n",
    "\n",
    "    // Decode a StringTensor holding a JPEG file into a Tensor<UInt8>.\n",
    "    func decodeJpeg(channels: Int = 0) -> Tensor<UInt8> {\n",
    "        return Raw.decodeJpeg(contents: self, channels: Int64(channels), dctMethod: \"\") \n",
    "    }\n",
    "}\n",
    "public func reLU<T>(tensor: Tensor<T>) -> Tensor<T> where T : FloatingPoint, T: TensorFlowScalar {\n",
    "    return max(tensor, 0)\n",
    "}\n",
    "public func linearCombination<T>(inputs: Tensor<T>, weights: Tensor<T>, bias: Tensor<T>) -> Tensor<T> where T: FloatingPoint, T: TensorFlowScalar {\n",
    "    return matmul(inputs, weights) + bias\n",
    "}\n",
    "public typealias TensorFloat=Tensor<Float>\n",
    "public func assertNearZero(_ tensor: TensorFloat, _ threshold: Float = 1e-3){\n",
    "    assert(tensor < threshold, \"Expected \\(tensor) to be less than \\(threshold)\")\n",
    "}\n",
    "public func assertEquals(_ a: TensorFloat, _ b: TensorFloat, _ message: String) {\n",
    "    // Check shapes match so broadcasting doesn't hide shape errors.\n",
    "    assert(a.shape == b.shape)\n",
    "    assertNearZero(a-b)\n",
    "}"
   ]
  },
  {
   "cell_type": "code",
   "execution_count": null,
   "metadata": {},
   "outputs": [],
   "source": []
  },
  {
   "cell_type": "code",
   "execution_count": null,
   "metadata": {},
   "outputs": [],
   "source": []
  },
  {
   "cell_type": "code",
   "execution_count": null,
   "metadata": {},
   "outputs": [],
   "source": []
  },
  {
   "cell_type": "code",
   "execution_count": null,
   "metadata": {},
   "outputs": [],
   "source": []
  },
  {
   "cell_type": "markdown",
   "metadata": {
    "heading_collapsed": true
   },
   "source": [
    "### Things Needed\n",
    "----\n",
    "- Layer Activations Statistics (mean/standard deviation)\n",
    "- Optimization\n",
    "- Learning Rate over Time"
   ]
  },
  {
   "cell_type": "code",
   "execution_count": 8,
   "metadata": {
    "hidden": true
   },
   "outputs": [
    {
     "name": "stdout",
     "output_type": "stream",
     "text": [
      "9 10\r\n",
      "8 9\r\n",
      "7 8\r\n",
      "6 7\r\n",
      "5 6\r\n",
      "4 5\r\n",
      "3 4\r\n",
      "2 3\r\n",
      "1 2\r\n",
      "0 1\r\n"
     ]
    }
   ],
   "source": [
    "Array(1...10).enumerated().reversed().forEach {\n",
    "    print($0, $1)\n",
    "}"
   ]
  },
  {
   "cell_type": "code",
   "execution_count": 9,
   "metadata": {
    "hidden": true
   },
   "outputs": [
    {
     "data": {
      "text/plain": [
       "▿ 6 elements\n",
       "  - 0 : 0\n",
       "  - 1 : 1\n",
       "  - 2 : 2\n",
       "  - 3 : 3\n",
       "  - 4 : 4\n",
       "  - 5 : 5\n"
      ]
     },
     "execution_count": 9,
     "metadata": {},
     "output_type": "execute_result"
    }
   ],
   "source": [
    "var yeetBoi = [1,2,3,4,5]\n",
    "yeetBoi.insert(0, at:0)\n",
    "yeetBoi"
   ]
  },
  {
   "cell_type": "code",
   "execution_count": 10,
   "metadata": {
    "hidden": true
   },
   "outputs": [
    {
     "name": "stdout",
     "output_type": "stream",
     "text": [
      "Fam\r\n",
      "Ravioli\r\n"
     ]
    }
   ],
   "source": [
    "protocol Fam {\n",
    "    func fam()\n",
    "}\n",
    "\n",
    "extension Fam {\n",
    "    func fam() {\n",
    "        print(\"Fam\")\n",
    "    }\n",
    "}\n",
    "\n",
    "protocol Ravioli {\n",
    "    func ravioli()\n",
    "}\n",
    "\n",
    "extension Ravioli {\n",
    "    func ravioli() {\n",
    "        print(\"Ravioli\")\n",
    "    }\n",
    "}\n",
    "\n",
    "struct FamRavioli: Fam, Ravioli {}\n",
    "\n",
    "let famRav = FamRavioli()\n",
    "\n",
    "famRav.fam()\n",
    "famRav.ravioli()"
   ]
  },
  {
   "cell_type": "code",
   "execution_count": 11,
   "metadata": {
    "hidden": true
   },
   "outputs": [],
   "source": [
    "var thingDictionary: [Int: [Float]] =  [:]"
   ]
  },
  {
   "cell_type": "code",
   "execution_count": 12,
   "metadata": {
    "hidden": true
   },
   "outputs": [
    {
     "data": {
      "text/plain": [
       "▿ 10 elements\n",
       "  ▿ 0 : 2 elements\n",
       "    - key : 4\n",
       "    ▿ value : 2 elements\n",
       "      - 0 : 69.0\n",
       "      - 1 : 4.0\n",
       "  ▿ 1 : 2 elements\n",
       "    - key : 3\n",
       "    ▿ value : 2 elements\n",
       "      - 0 : 69.0\n",
       "      - 1 : 3.0\n",
       "  ▿ 2 : 2 elements\n",
       "    - key : 10\n",
       "    ▿ value : 2 elements\n",
       "      - 0 : 69.0\n",
       "      - 1 : 10.0\n",
       "  ▿ 3 : 2 elements\n",
       "    - key : 1\n",
       "    ▿ value : 2 elements\n",
       "      - 0 : 69.0\n",
       "      - 1 : 1.0\n",
       "  ▿ 4 : 2 elements\n",
       "    - key : 9\n",
       "    ▿ value : 2 elements\n",
       "      - 0 : 69.0\n",
       "      - 1 : 9.0\n",
       "  ▿ 5 : 2 elements\n",
       "    - key : 8\n",
       "    ▿ value : 2 elements\n",
       "      - 0 : 69.0\n",
       "      - 1 : 8.0\n",
       "  ▿ 6 : 2 elements\n",
       "    - key : 5\n",
       "    ▿ value : 2 elements\n",
       "      - 0 : 69.0\n",
       "      - 1 : 5.0\n",
       "  ▿ 7 : 2 elements\n",
       "    - key : 6\n",
       "    ▿ value : 2 elements\n",
       "      - 0 : 69.0\n",
       "      - 1 : 6.0\n",
       "  ▿ 8 : 2 elements\n",
       "    - key : 2\n",
       "    ▿ value : 2 elements\n",
       "      - 0 : 69.0\n",
       "      - 1 : 2.0\n",
       "  ▿ 9 : 2 elements\n",
       "    - key : 7\n",
       "    ▿ value : 2 elements\n",
       "      - 0 : 69.0\n",
       "      - 1 : 7.0\n"
      ]
     },
     "execution_count": 12,
     "metadata": {},
     "output_type": "execute_result"
    }
   ],
   "source": [
    "for a in 1...10 {\n",
    "    if thingDictionary[a] == nil {\n",
    "        thingDictionary[a] = [Float(69)]\n",
    "    } \n",
    "    \n",
    "    thingDictionary[a]?.append(Float(a))\n",
    "}\n",
    "thingDictionary"
   ]
  },
  {
   "cell_type": "markdown",
   "metadata": {},
   "source": [
    "## Model\n"
   ]
  },
  {
   "cell_type": "code",
   "execution_count": 13,
   "metadata": {},
   "outputs": [],
   "source": [
    "//export\n",
    "public struct HyperParameters {\n",
    "    public let learningRate: Float\n",
    "}"
   ]
  },
  {
   "cell_type": "code",
   "execution_count": 14,
   "metadata": {},
   "outputs": [],
   "source": [
    "//export\n",
    "public protocol ParameterActivationSubscriber {\n",
    "    func observe(parameterNumber: Int, activations: TensorFloat)\n",
    "}"
   ]
  },
  {
   "cell_type": "code",
   "execution_count": 15,
   "metadata": {},
   "outputs": [],
   "source": [
    "//export\n",
    "public protocol TeachableModel {\n",
    "    \n",
    "    func apply(inputTensor: TensorFloat) -> TensorFloat\n",
    "    \n",
    "    func forwardPass(inputTensor: TensorFloat) -> (TensorFloat, TeachableModel)\n",
    "    \n",
    "    func backwardsPass(ddx: TensorFloat, hyperParameters: HyperParameters) -> TeachableModel    \n",
    "    \n",
    "    func addActivationSubscriber(subscriber: @escaping (Int, TensorFloat) -> ()) -> TeachableModel\n",
    "}"
   ]
  },
  {
   "cell_type": "code",
   "execution_count": 16,
   "metadata": {},
   "outputs": [],
   "source": [
    "//export\n",
    "public protocol ModelParameterV2 {\n",
    "    \n",
    "    func forwardPass(inputTensor: TensorFloat) -> (TensorFloat, ModelParameterV2)\n",
    "    \n",
    "    func apply(_ inputTensor: TensorFloat) -> TensorFloat \n",
    "    \n",
    "    func backwardPass(ddx: TensorFloat, hyperParameters: HyperParameters) -> (TensorFloat, ModelParameterV2)\n",
    "}"
   ]
  },
  {
   "cell_type": "code",
   "execution_count": 17,
   "metadata": {},
   "outputs": [],
   "source": [
    "//export\n",
    "public protocol ModelParameters {\n",
    "    \n",
    "    func forwardPass(inputTensor: TensorFloat) -> (TensorFloat, ModelParameters)\n",
    "    \n",
    "    func apply(_ inputTensor: TensorFloat) -> TensorFloat \n",
    "    \n",
    "    func backwardPass(ddx: TensorFloat, hyperParameters: HyperParameters) -> (TensorFloat, ModelParameters)\n",
    "    \n",
    "    func subscribeToActivations(subscriber:@escaping (Int, TensorFloat) -> ()) -> ModelParameters\n",
    "}"
   ]
  },
  {
   "cell_type": "code",
   "execution_count": 18,
   "metadata": {},
   "outputs": [],
   "source": [
    "//export\n",
    "public struct SequentialParameter: ModelParameters {\n",
    "    \n",
    "    private let parameters: [ModelParameterV2]\n",
    "    private let subscribers: [(Int, TensorFloat) -> ()]\n",
    "    \n",
    "    public init(parameters: [ModelParameterV2]) {\n",
    "        self.parameters = parameters\n",
    "        subscribers = []\n",
    "    }\n",
    "    \n",
    "    private init(parameters: [ModelParameterV2],\n",
    "                 subscribers: [(Int, TensorFloat) -> ()]) {\n",
    "        self.parameters = parameters\n",
    "        self.subscribers = subscribers\n",
    "    }\n",
    "    \n",
    "    \n",
    "    public func apply(_ inputTensor: TensorFloat) -> TensorFloat {\n",
    "        return parameters.reduce(inputTensor) {\n",
    "            (layerInput, nextParameter) in nextParameter.apply(layerInput)\n",
    "        }\n",
    "    }\n",
    "    \n",
    "    public func forwardPass(inputTensor: TensorFloat) -> (TensorFloat, ModelParameters) {\n",
    "        return runThroughLayers({self.parameters}, inputTensor, {\n",
    "            $0.append($1)\n",
    "            return $0\n",
    "        }) { (previousActivations: TensorFloat, \n",
    "              parameter: ModelParameterV2, \n",
    "              index: Int) -> (TensorFloat, ModelParameterV2) in\n",
    "            let activations = parameter.forwardPass(inputTensor: previousActivations)\n",
    "            self.subscribers.forEach { subscriber in\n",
    "                                      subscriber(index, activations.0)\n",
    "            }\n",
    "            return activations\n",
    "        }\n",
    "    }\n",
    "    \n",
    "    public func backwardPass(ddx: TensorFloat, \n",
    "                             hyperParameters: HyperParameters) -> (TensorFloat, ModelParameters) {\n",
    "        return runThroughLayers({self.parameters.reversed()}, ddx, {\n",
    "            $0.insert($1, at: 0)\n",
    "            return $0\n",
    "        }) { (previousActivations: TensorFloat, \n",
    "              parameter: ModelParameterV2, \n",
    "              index: Int) -> (TensorFloat, ModelParameterV2) in\n",
    "            let activations = parameter.backwardPass(ddx: previousActivations,\n",
    "                                                     hyperParameters: hyperParameters)\n",
    "            \n",
    "            return activations\n",
    "        }\n",
    "    }\n",
    "    \n",
    "    \n",
    "    private func runThroughLayers(\n",
    "        _ parameterSupplier: () -> [ModelParameterV2],\n",
    "        _ initialValue: TensorFloat,\n",
    "        _ paramAccumulator: (inout [ModelParameterV2], ModelParameterV2) -> [ModelParameterV2],\n",
    "        _ paramActivator: (TensorFloat, ModelParameterV2, Int) -> (TensorFloat, ModelParameterV2)) \n",
    "                                                                            -> (TensorFloat, ModelParameters){\n",
    "        var nextParamters : [ModelParameterV2] = []\n",
    "        let (output, forwardParams) = parameterSupplier().enumerated().reduce(\n",
    "            (activations: initialValue, params:  nextParamters)) {\n",
    "            (accum, nextParameterAndValue) in \n",
    "            let (index, nextParameter) = nextParameterAndValue\n",
    "            var (activations, params) = accum\n",
    "            let (nextInput, modifiedParam) = paramActivator(activations, nextParameter, index)\n",
    "            return (activations: nextInput,\n",
    "                    params: paramAccumulator(&params, modifiedParam))\n",
    "        }\n",
    "\n",
    "        return (output, SequentialParameter(parameters: forwardParams,\n",
    "                                            subscribers: subscribers))\n",
    "    }\n",
    "    \n",
    "    public func subscribeToActivations(subscriber: @escaping (Int, TensorFloat) -> ()) -> ModelParameters {\n",
    "        let subscribers: [(Int, TensorFloat) -> ()] = [subscriber] + self.subscribers\n",
    "        return SequentialParameter(parameters: parameters, \n",
    "                                   subscribers: subscribers)\n",
    "        \n",
    "    }\n",
    "    \n",
    "}"
   ]
  },
  {
   "cell_type": "code",
   "execution_count": 20,
   "metadata": {},
   "outputs": [],
   "source": [
    "public func reLUAndGradient(inputTensor: TensorFloat) -> (value: TensorFloat, \n",
    "                                                   gradientChain: (TensorFloat) -> TensorFloat){\n",
    "    return (value: max(0.0, inputTensor), \n",
    "            gradientChain: {ddx in ddx.replacing(with: TensorFloat(zeros: ddx.shape), where: inputTensor .< 0.0 )})\n",
    "}"
   ]
  },
  {
   "cell_type": "code",
   "execution_count": 21,
   "metadata": {},
   "outputs": [],
   "source": [
    "//export\n",
    "public struct ReLUParameter: ModelParameterV2 {\n",
    "    \n",
    "    private let gradientChain: (TensorFloat) -> TensorFloat\n",
    "    \n",
    "    public init() {\n",
    "        gradientChain = { $0 }\n",
    "    }\n",
    "    \n",
    "    private init(_ gradChain: @escaping (TensorFloat) -> TensorFloat) {\n",
    "        gradientChain = gradChain\n",
    "    }\n",
    "    \n",
    "    public func apply(_ inputTensor: TensorFloat) -> TensorFloat {\n",
    "        return reLU(tensor: inputTensor)\n",
    "    }\n",
    "    \n",
    "    public func forwardPass(inputTensor: TensorFloat) -> (TensorFloat, ModelParameterV2) {\n",
    "        let (value, gradientDude) = reLUAndGradient(inputTensor: inputTensor)\n",
    "        return (value, ReLUParameter(gradientDude))\n",
    "    }\n",
    "    \n",
    "    public func backwardPass(ddx: TensorFloat,\n",
    "                             hyperParameters: HyperParameters) -> (TensorFloat, ModelParameterV2) {\n",
    "        let reluDDX = gradientChain(ddx)\n",
    "        return (reluDDX, self)\n",
    "    }\n",
    "}"
   ]
  },
  {
   "cell_type": "code",
   "execution_count": 28,
   "metadata": {},
   "outputs": [],
   "source": [
    "//export\n",
    "\n",
    "// Matrix Shapez\n",
    "// M x N * N x O = M x O\n",
    "\n",
    "// ddx shape = M x O\n",
    "\n",
    "public func linearCombinationAndGradient(inputTensor: TensorFloat, \n",
    "                                  weightParameter: TensorFloat,\n",
    "                                  biasParameter: TensorFloat) -> (value: TensorFloat, \n",
    "                                                                  gradientChain: (TensorFloat) -> (TensorFloat, TensorFloat, TensorFloat)) {\n",
    "    return (value: matmul(inputTensor, weightParameter) + biasParameter, \n",
    "            gradientChain: { ddx in \n",
    "                           ( inputTensor,\n",
    "                             matmul(inputTensor.transposed(),  ddx),\n",
    "                             ddx.unbroadcasted(to: biasParameter.shape)\n",
    "                           )\n",
    "                           })\n",
    "}"
   ]
  },
  {
   "cell_type": "code",
   "execution_count": 31,
   "metadata": {},
   "outputs": [],
   "source": [
    "//export\n",
    "public extension Tensor where Scalar: TensorFlowFloatingPoint {\n",
    "    init(kaimingUniform shape: TensorShape, negativeSlope: Double = 1.0) {\n",
    "        // Assumes Leaky ReLU nonlinearity\n",
    "        let gain = Scalar.init(TensorFlow.sqrt(2.0 / (1.0 + TensorFlow.pow(negativeSlope, 2))))\n",
    "        let spatialDimCount = shape.count - 2\n",
    "        let receptiveField = shape[0..<spatialDimCount].contiguousSize\n",
    "        let fanIn = shape[shape.count - 2] * receptiveField\n",
    "        let bound = TensorFlow.sqrt(Scalar(3.0)) * gain / TensorFlow.sqrt(Scalar(fanIn))\n",
    "        self = bound * (2 * Tensor(randomUniform: shape) - 1) // todo: I goofed with this\n",
    "    }\n",
    "}"
   ]
  },
  {
   "cell_type": "code",
   "execution_count": 32,
   "metadata": {},
   "outputs": [],
   "source": [
    "//export\n",
    "typealias ThreeInputGradient = (TensorFloat) -> (TensorFloat, TensorFloat, TensorFloat)\n",
    "public struct DenseLayerV2: ModelParameterV2 {\n",
    "    let weightParameter: TensorFloat\n",
    "    let biasParameter: TensorFloat\n",
    "    private let gradientChain: ThreeInputGradient\n",
    "\n",
    "    private init(weightParameter: TensorFloat,\n",
    "                 biasParameter: TensorFloat,\n",
    "                 gradientChain: @escaping ThreeInputGradient) {        \n",
    "        self.weightParameter = weightParameter\n",
    "        self.biasParameter = biasParameter\n",
    "        self.gradientChain = gradientChain\n",
    "    }\n",
    "\n",
    "    private init(denseLayer: DenseLayerV2,\n",
    "                 gradientChain: @escaping ThreeInputGradient) {\n",
    "        self.weightParameter = denseLayer.weightParameter\n",
    "        self.biasParameter = denseLayer.biasParameter\n",
    "        self.gradientChain = gradientChain\n",
    "    }\n",
    "\n",
    "    public init(inputSize: Int,\n",
    "                outputSize: Int){\n",
    "        self.weightParameter = TensorFloat(kaimingUniform: TensorShape([inputSize, outputSize]))\n",
    "        self.biasParameter = TensorFloat(zeros: [outputSize])\n",
    "        self.gradientChain = { (x: TensorFloat)  in (TensorFloat([1]), TensorFloat([1]), TensorFloat([1]))}\n",
    "    }\n",
    "\n",
    "    public func forwardPass(inputTensor: TensorFloat) -> (TensorFloat, ModelParameterV2) {\n",
    "        let (parameterOutput, parameterGradientChain) =\n",
    "          linearCombinationAndGradient(inputTensor: inputTensor,\n",
    "                                       weightParameter: self.weightParameter,\n",
    "                                       biasParameter: self.biasParameter)\n",
    "\n",
    "        return (parameterOutput, DenseLayerV2(denseLayer: self,\n",
    "                                       gradientChain: {ddx in parameterGradientChain(ddx)}))\n",
    "    }\n",
    "\n",
    "    public func apply(_ inputTensor: TensorFloat) -> TensorFloat {\n",
    "        return linearCombination(inputs: inputTensor,\n",
    "                                       weights: self.weightParameter,\n",
    "                                       bias: self.biasParameter)\n",
    "    }\n",
    "\n",
    "    public func backwardPass(ddx: TensorFloat, \n",
    "                             hyperParameters: HyperParameters) -> (TensorFloat, ModelParameterV2) {\n",
    "        let (ddxInput, ddxParameter, ddxBias) = self.gradientChain(ddx)\n",
    "        return (ddxInput, DenseLayerV2(\n",
    "            weightParameter: self.weightParameter - hyperParameters.learningRate * ddxParameter,\n",
    "            biasParameter: self.biasParameter - hyperParameters.learningRate * ddxBias,\n",
    "            gradientChain: self.gradientChain))\n",
    "    }\n",
    "}\n",
    "\n"
   ]
  },
  {
   "cell_type": "markdown",
   "metadata": {},
   "source": [
    "### SequentialModel"
   ]
  },
  {
   "cell_type": "code",
   "execution_count": 35,
   "metadata": {},
   "outputs": [],
   "source": [
    "struct SequentialModel : TeachableModel {\n",
    "    \n",
    "    private let sequentialParameter: ModelParameters\n",
    "    \n",
    "    private init(sequentialParameter: ModelParameters){\n",
    "        self.sequentialParameter = sequentialParameter\n",
    "    }\n",
    "    \n",
    "    public init(layerSizes: [Int]) {\n",
    "        let denseLayers = layerSizes.prefix(upTo: layerSizes.count - 1)\n",
    "                                        .enumerated()\n",
    "                                        .flatMap { \n",
    "                                            (element: (Int, Int)) -> [ModelParameterV2] in                                       \n",
    "                                            if(element.0 < layerSizes.count - 2){\n",
    "                                               return [DenseLayerV2(inputSize: element.1, \n",
    "                                                               outputSize: layerSizes[element.0 + 1]), \n",
    "                                                ReLUParameter()]\n",
    "                                            }\n",
    "                                            else {\n",
    "                                                return [\n",
    "                                                    DenseLayerV2(inputSize: element.1, \n",
    "                                                               outputSize: layerSizes[element.0 + 1])\n",
    "                                                ]\n",
    "                                            }\n",
    "                                        }\n",
    "        self.sequentialParameter = SequentialParameter(parameters: denseLayers)\n",
    "    }\n",
    "    \n",
    "    public func apply(inputTensor: TensorFloat) -> TensorFloat {\n",
    "        return self.sequentialParameter.apply(inputTensor)\n",
    "    }\n",
    "    \n",
    "    public func forwardPass(inputTensor: TensorFloat) -> (TensorFloat, TeachableModel) {\n",
    "        let (activations, newSequentialModel) = self.sequentialParameter\n",
    "                                                        .forwardPass(inputTensor: inputTensor)\n",
    "        return (activations, SequentialModel(sequentialParameter: newSequentialModel))\n",
    "    }\n",
    "    \n",
    "    public func backwardsPass(ddx: TensorFloat, \n",
    "                              hyperParameters: HyperParameters) -> TeachableModel {\n",
    "        let (_, optimizedSequentialLayer) = self.sequentialParameter.backwardPass(ddx: ddx, \n",
    "                                                          hyperParameters: hyperParameters)\n",
    "        return SequentialModel(sequentialParameter: optimizedSequentialLayer)\n",
    "    }\n",
    "    \n",
    "    public func addActivationSubscriber(subscriber: @escaping (Int, TensorFloat) -> ()) -> TeachableModel {\n",
    "     return SequentialModel(sequentialParameter: sequentialParameter\n",
    "                                                       .subscribeToActivations(subscriber: subscriber))   \n",
    "    }\n",
    "}"
   ]
  },
  {
   "cell_type": "code",
   "execution_count": 36,
   "metadata": {},
   "outputs": [
    {
     "data": {
      "text/plain": [
       "▿ SequentialModel\n",
       "  ▿ sequentialParameter : SequentialParameter\n",
       "    ▿ parameters : 5 elements\n",
       "      ▿ 0 : DenseLayerV2\n",
       "        - weightParameter : [[ -0.08587631,   0.48531803,   0.42132404,   -0.2501874,   0.25972244, -0.022685047],\n",
       " [ 0.037066728,    0.5611654,  -0.04696603,  0.107777186,   0.21884903,    0.6098961],\n",
       " [-0.024938717,  -0.35745564,   -0.5596229,   0.50589174,  -0.44066408,    0.4950328],\n",
       " [  0.17955783,   0.08297907,  -0.47517636,   -0.2943657,   0.48907506,   0.21263786],\n",
       " [ 0.016816245,    0.3371939,    0.5344748,  0.037969887, -0.034443382,   0.14850488],\n",
       " [ -0.32045066,   0.47950837,  -0.28467342, -0.072379686,   0.45363978,   0.32140917],\n",
       " [ -0.24074654,   -0.5215569,  -0.11250236,     0.549817,   0.07163859,   0.40962428],\n",
       " [  0.12477272,  0.032165326,   0.18687218,  0.118466645,  -0.59267896,  -0.45921394]]\n",
       "        - biasParameter : [0.0, 0.0, 0.0, 0.0, 0.0, 0.0]\n",
       "        - gradientChain : (Function)\n",
       "      ▿ 1 : ReLUParameter\n",
       "        - gradientChain : (Function)\n",
       "      ▿ 2 : DenseLayerV2\n",
       "        - weightParameter : [[  0.01171615,  -0.42821687,  -0.65385354],\n",
       " [  0.11596908,   -0.2220478,    0.5423568],\n",
       " [   0.5834956,     0.629886,   -0.1353944],\n",
       " [ -0.09132935,  -0.33897716,    0.6094689],\n",
       " [  0.35142902,  -0.34910116,   -0.5491702],\n",
       " [  -0.5906709,  -0.33799192, -0.000562239]]\n",
       "        - biasParameter : [0.0, 0.0, 0.0]\n",
       "        - gradientChain : (Function)\n",
       "      ▿ 3 : ReLUParameter\n",
       "        - gradientChain : (Function)\n",
       "      ▿ 4 : DenseLayerV2\n",
       "        - weightParameter : [[ 0.60440254],\n",
       " [0.108297825],\n",
       " [ -0.5057025]]\n",
       "        - biasParameter : [0.0]\n",
       "        - gradientChain : (Function)\n",
       "    - subscribers : 0 elements\n"
      ]
     },
     "execution_count": 36,
     "metadata": {},
     "output_type": "execute_result"
    }
   ],
   "source": [
    "let testSequentialModel = SequentialModel(layerSizes: [8, 6, 3, 1])\n",
    "testSequentialModel"
   ]
  },
  {
   "cell_type": "markdown",
   "metadata": {},
   "source": [
    "## Data"
   ]
  },
  {
   "cell_type": "code",
   "execution_count": 37,
   "metadata": {},
   "outputs": [],
   "source": [
    "//export\n",
    "public struct DataBunch<T> where T: TensorGroup {\n",
    "    public let trainingDataset: Dataset<T>\n",
    "    public let validationDataset: Dataset<T>\n",
    "}"
   ]
  },
  {
   "cell_type": "code",
   "execution_count": 38,
   "metadata": {},
   "outputs": [],
   "source": [
    "// export\n",
    "public struct SupervisedLearningGroup {\n",
    "    let features: TensorFloat\n",
    "    let labels: TensorFloat\n",
    "}\n",
    "\n",
    "extension SupervisedLearningGroup: TensorGroup {\n",
    "    \n",
    "    public static var _typeList: [TensorDataType] = [\n",
    "        Float.tensorFlowDataType,\n",
    "        Float.tensorFlowDataType\n",
    "    ]\n",
    "    public static var _unknownShapeList: [TensorShape?] = [nil, nil]\n",
    "    public var _tensorHandles: [_AnyTensorHandle] {\n",
    "        fatalError(\"unimplemented\")\n",
    "    }\n",
    "    public func _unpackTensorHandles(into address: UnsafeMutablePointer<CTensorHandle>?) {\n",
    "        address!.advanced(by: 0).initialize(to: features.handle._cTensorHandle)\n",
    "        address!.advanced(by: 1).initialize(to: labels.handle._cTensorHandle)\n",
    "    }\n",
    "    public init(_owning tensorHandles: UnsafePointer<CTensorHandle>?) {\n",
    "        features = Tensor(handle: TensorHandle(_owning: tensorHandles!.advanced(by: 0).pointee))\n",
    "        labels = Tensor(handle: TensorHandle(_owning: tensorHandles!.advanced(by: 1).pointee))\n",
    "    }\n",
    "    public init<C: RandomAccessCollection>(_handles: C) where C.Element: _AnyTensorHandle {\n",
    "        fatalError(\"unimplemented\")\n",
    "    }\n",
    "}\n",
    "\n",
    "public extension Sequence where Element == SupervisedLearningGroup {\n",
    "    var first: SupervisedLearningGroup? {\n",
    "        return first(where: { _ in true })\n",
    "    }\n",
    "}\n",
    "\n",
    "public extension Dataset where Element == SupervisedLearningGroup {\n",
    "    init(featuresTensor: TensorFloat, labelsTensor: TensorFloat) {\n",
    "        self.init(elements: SupervisedLearningGroup(\n",
    "                                                    features: featuresTensor, \n",
    "                                                    labels: labelsTensor.expandingShape(at: 1)))\n",
    "    }\n",
    "}"
   ]
  },
  {
   "cell_type": "code",
   "execution_count": 39,
   "metadata": {},
   "outputs": [],
   "source": [
    "import Python"
   ]
  },
  {
   "cell_type": "markdown",
   "metadata": {},
   "source": [
    "\n",
    "## Teach"
   ]
  },
  {
   "cell_type": "code",
   "execution_count": 40,
   "metadata": {},
   "outputs": [],
   "source": [
    "//export \n",
    "public protocol TeachingDelegate {\n",
    "    \n",
    "    func preTeach(epochs: Int)\n",
    "    \n",
    "    func postTeach()\n",
    "    \n",
    "    func preEpoch(epochNumber: Int, dataSet: Dataset<SupervisedLearningGroup>)\n",
    "    \n",
    "    func postEpoch(epochNumber: Int)\n",
    "    \n",
    "    func processBatch(model: TeachableModel, \n",
    "                      xDataPoints: TensorFloat,\n",
    "                      yValidationPoints: TensorFloat) -> TeachableModel    \n",
    "}"
   ]
  },
  {
   "cell_type": "code",
   "execution_count": 41,
   "metadata": {},
   "outputs": [],
   "source": [
    "//export\n",
    "public struct Teacher {\n",
    "    \n",
    "    private let dataBunch: DataBunch<SupervisedLearningGroup>\n",
    "    private let trainingDelegate: TeachingDelegate\n",
    "    private let validationDelegate: TeachingDelegate\n",
    "    \n",
    "    \n",
    "    public func teachModel(model: TeachableModel,\n",
    "                           numberOfEpochs: Int) -> TeachableModel {\n",
    "        notifyPreTeach(epochs: numberOfEpochs)\n",
    "        let taughtModel = (1...numberOfEpochs)\n",
    "            .reduce(into: model) { (currentModel: inout TeachableModel, \n",
    "                                    epoch: Int) in\n",
    "                let trainedModel = trainModel(modelToTeach: currentModel,\n",
    "                                              currentEpoch: epoch)\n",
    "                currentModel = validateModel(modelToValidate: trainedModel,\n",
    "                                             currentEpoch: epoch)\n",
    "            }\n",
    "        notifyPostTeach()\n",
    "        return taughtModel\n",
    "    }\n",
    "    \n",
    "    private func trainModel(modelToTeach: TeachableModel, \n",
    "                            currentEpoch: Int) -> TeachableModel {\n",
    "        return processDataSet(model: modelToTeach,\n",
    "                           epoch: currentEpoch,\n",
    "                           dataSet: dataBunch.trainingDataset,\n",
    "                           teachingDelegate: trainingDelegate)\n",
    "    }\n",
    "    \n",
    "    private func validateModel(modelToValidate: TeachableModel, \n",
    "                               currentEpoch: Int) -> TeachableModel {\n",
    "        return processDataSet(model: modelToValidate,\n",
    "                              epoch: currentEpoch,\n",
    "                              dataSet: dataBunch.validationDataset,\n",
    "                              teachingDelegate: validationDelegate)\n",
    "    }\n",
    "    \n",
    "    private func processDataSet(model: TeachableModel,\n",
    "                             epoch: Int,\n",
    "                             dataSet: Dataset<SupervisedLearningGroup>,\n",
    "                             teachingDelegate: TeachingDelegate\n",
    "                            ) -> TeachableModel {\n",
    "        \n",
    "        teachingDelegate.preEpoch(epochNumber: epoch, \n",
    "                                  dataSet: dataSet)\n",
    "        \n",
    "        let taughtModel: TeachableModel = dataSet.reduce(model) {\n",
    "            (currentModel:TeachableModel, dataGroup: SupervisedLearningGroup) in\n",
    "            return teachingDelegate.processBatch(model: currentModel, \n",
    "                                                         xDataPoints: dataGroup.features, \n",
    "                                                         yValidationPoints: dataGroup.labels)\n",
    "        }\n",
    "        \n",
    "        teachingDelegate.postEpoch(epochNumber: epoch)\n",
    "        \n",
    "        return taughtModel\n",
    "    }\n",
    "    \n",
    "    \n",
    "    private func notifyPreTeach(epochs: Int) {\n",
    "        trainingDelegate.preTeach(epochs: epochs)\n",
    "        validationDelegate.preTeach(epochs: epochs)\n",
    "    }\n",
    "    \n",
    "    private func notifyPostTeach() {\n",
    "        trainingDelegate.postTeach()\n",
    "        validationDelegate.postTeach()\n",
    "    }\n",
    "}"
   ]
  },
  {
   "cell_type": "markdown",
   "metadata": {},
   "source": [
    "## Teaching Delegates"
   ]
  },
  {
   "cell_type": "code",
   "execution_count": 42,
   "metadata": {},
   "outputs": [],
   "source": [
    "//export\n",
    "public protocol LossFunction {\n",
    "    func lossAndGradient(expectedTensor: TensorFloat,\n",
    "                         actualTensor: TensorFloat) -> (loss: TensorFloat,\n",
    "                                                        gradientSupplier: () -> TensorFloat)\n",
    "    func calculateLoss(expectedTensor: TensorFloat,\n",
    "                       actualTensor: TensorFloat) -> TensorFloat\n",
    "}"
   ]
  },
  {
   "cell_type": "code",
   "execution_count": 44,
   "metadata": {},
   "outputs": [],
   "source": [
    "//export\n",
    "public func squaredWithGradient(inputTensor: TensorFloat) -> (value: TensorFloat, \n",
    "                                                       gradientChain: (TensorFloat) -> TensorFloat) {\n",
    "    return (value: inputTensor * inputTensor, \n",
    "            gradientChain: {ddx in 2 * inputTensor * ddx})\n",
    "}"
   ]
  },
  {
   "cell_type": "code",
   "execution_count": 46,
   "metadata": {},
   "outputs": [],
   "source": [
    "//export\n",
    "public func meanWithGradient(inputTensor: TensorFloat) -> (value: TensorFloat, \n",
    "                                                       gradientChain: (TensorFloat) -> TensorFloat) {\n",
    " let totalElements = Float(inputTensor.shape.dimensions.reduce(1) { accum, thing in accum * thing })\n",
    " return (value: inputTensor.sum(squeezingAxes: Array(inputTensor.shape.indices)) / totalElements,\n",
    "         gradientChain: {ddx in TensorFloat([1]) / totalElements * ddx})   \n",
    "}"
   ]
  },
  {
   "cell_type": "code",
   "execution_count": 47,
   "metadata": {},
   "outputs": [],
   "source": [
    "//export\n",
    "public struct MeanSquaredErrorLossFunction: LossFunction {\n",
    "        \n",
    "    public func calculateLoss(expectedTensor: TensorFloat, \n",
    "                              actualTensor: TensorFloat) -> TensorFloat {\n",
    "        let error: TensorFloat = calculateError(expectedTensor: expectedTensor,\n",
    "                                   actualTensor: actualTensor)\n",
    "        return error.squared().mean()\n",
    "    }\n",
    "    \n",
    "    public func lossAndGradient(expectedTensor: TensorFloat, \n",
    "                                actualTensor: TensorFloat) -> (loss: TensorFloat, \n",
    "                                                               gradientSupplier: () -> TensorFloat) {\n",
    "        let error = calculateError(expectedTensor:expectedTensor, \n",
    "                                   actualTensor: actualTensor)\n",
    "        let (squareValue, squareGradient) = squaredWithGradient(inputTensor: error)\n",
    "        let (meanValue, meanGradient) = meanWithGradient(inputTensor: squareValue)\n",
    "\n",
    "        return (loss: meanValue, gradientSupplier: { squareGradient(meanGradient(TensorFloat([1]))) })\n",
    "    }\n",
    "    \n",
    "    private func calculateError(expectedTensor: TensorFloat,\n",
    "                                actualTensor: TensorFloat) -> TensorFloat {\n",
    "        assert(expectedTensor.shape == actualTensor.shape, \"Expected \\(expectedTensor.shape) to be the same as \\(actualTensor.shape)\")\n",
    "        return actualTensor - expectedTensor // order is SUPER important here\n",
    "    }\n",
    "}"
   ]
  },
  {
   "cell_type": "code",
   "execution_count": 48,
   "metadata": {},
   "outputs": [],
   "source": [
    "class ValidationDelegate: TeachingDelegate {\n",
    "    \n",
    "    let lossFunction: LossFunction\n",
    "    \n",
    "    public init(lossFunction: LossFunction) {\n",
    "        self.lossFunction = lossFunction\n",
    "    }\n",
    "    \n",
    "    private var epochNumber: Int = 0\n",
    "    private var numberOfBatches: Int = 0\n",
    "    private var totalLoss: TensorFloat = TensorFloat([0.0])\n",
    "    var lossCount: [Float] = []\n",
    "    \n",
    "    public func postEpoch(epochNumber: Int) {\n",
    "        let loss = totalLoss / Float(numberOfBatches) \n",
    "        lossCount.append(loss.scalarized())\n",
    "        \n",
    "    }\n",
    "    \n",
    "    public func preEpoch(epochNumber: Int, \n",
    "                         dataSet: Dataset<SupervisedLearningGroup>) {\n",
    "        numberOfBatches = 0\n",
    "        totalLoss = TensorFloat([0.0])\n",
    "    }\n",
    "    \n",
    "    public func preTeach(epochs: Int) {\n",
    "    \n",
    "    }\n",
    "    \n",
    "    public func postTeach() {\n",
    "    \n",
    "    }\n",
    "    \n",
    "    \n",
    "    public func processBatch(model: TeachableModel, \n",
    "                             xDataPoints: TensorFloat, \n",
    "                             yValidationPoints: TensorFloat) -> TeachableModel {\n",
    "\n",
    "        let predictions = model.apply(inputTensor: xDataPoints)\n",
    "        \n",
    "        let loss = lossFunction.calculateLoss(expectedTensor: yValidationPoints, \n",
    "                                                                    actualTensor: predictions)\n",
    "        totalLoss += loss\n",
    "        numberOfBatches += 1\n",
    "        \n",
    "        return model\n",
    "    }\n",
    "    \n",
    "}"
   ]
  },
  {
   "cell_type": "code",
   "execution_count": 49,
   "metadata": {},
   "outputs": [],
   "source": [
    "class TrainingDelegate: TeachingDelegate {\n",
    "    \n",
    "    let lossFunction: LossFunction\n",
    "    \n",
    "    public init(lossFunction: LossFunction) {\n",
    "        self.lossFunction = lossFunction\n",
    "    }\n",
    "    \n",
    "    private var epochNumber: Int = 0\n",
    "    private var numberOfBatches: Int = 0\n",
    "    private var totalLoss: TensorFloat = TensorFloat([0.0])\n",
    "    var lossCount: [Float] = []\n",
    "    var activationBuckets: [Int: [[Float]]] = [:]\n",
    "    \n",
    "    \n",
    "    public func postEpoch(epochNumber: Int) {\n",
    "        let loss = totalLoss / Float(numberOfBatches)\n",
    "        lossCount.append(loss.scalarized())\n",
    "    }\n",
    "    \n",
    "    public func preEpoch(epochNumber: Int, \n",
    "                         dataSet: Dataset<SupervisedLearningGroup>) {\n",
    "        numberOfBatches = 0\n",
    "        totalLoss = TensorFloat([0.0])\n",
    "    }\n",
    "    \n",
    "    public func preTeach(epochs: Int) {\n",
    "    \n",
    "    }\n",
    "    \n",
    "    public func postTeach() {\n",
    "        \n",
    "    }\n",
    "    \n",
    "    \n",
    "    public func processBatch(model: TeachableModel, \n",
    "                             xDataPoints: TensorFloat, \n",
    "                             yValidationPoints: TensorFloat) -> TeachableModel {\n",
    "//         let subcribedModel = model.addActivationSubscriber(subscriber:  {\n",
    "//             (parameterNumber: Int, activations: TensorFloat) in\n",
    "//                 if self.activationBuckets[parameterNumber] == nil {\n",
    "//                     self.activationBuckets[parameterNumber] = [[],[]]\n",
    "//                 } \n",
    "//                 self.activationBuckets[parameterNumber]?[0].append(activations.mean().scalarized())\n",
    "//                 self.activationBuckets[parameterNumber]?[1].append(activations.standardDeviation().scalarized())\n",
    "                \n",
    "//         })\n",
    "        \n",
    "        let (predictions, modelWithChain) = model.forwardPass(inputTensor: xDataPoints)\n",
    "        \n",
    "        let (lossyBoi, predictionGradientSupplier) = lossFunction.lossAndGradient(expectedTensor: yValidationPoints, \n",
    "                                                                    actualTensor: predictions)\n",
    "        \n",
    "        totalLoss += lossyBoi\n",
    "        numberOfBatches += 1\n",
    "        \n",
    "        // todo: Optimize Hyper Parameters beforehand\n",
    "        let hyperParameters = HyperParameters(learningRate: 1e-2)\n",
    "        \n",
    "        return modelWithChain.backwardsPass(ddx: predictionGradientSupplier(),\n",
    "                                            hyperParameters: hyperParameters)\n",
    "    }\n",
    "    \n",
    "}"
   ]
  },
  {
   "cell_type": "markdown",
   "metadata": {},
   "source": [
    "# Point Data Trials\n",
    "---"
   ]
  },
  {
   "cell_type": "code",
   "execution_count": 50,
   "metadata": {},
   "outputs": [
    {
     "data": {
      "text/plain": [
       "▿ [100, 2]\n",
       "  ▿ dimensions : 2 elements\n",
       "    - 0 : 100\n",
       "    - 1 : 2\n"
      ]
     },
     "execution_count": 50,
     "metadata": {},
     "output_type": "execute_result"
    }
   ],
   "source": [
    "let n = 100\n",
    "let inputPoints = TensorFloat(randomNormal: [100, 1])\n",
    "let A = inputPoints.concatenated(with: TensorFloat(ones: inputPoints.shape), alongAxis: 1)\n",
    "A.shape"
   ]
  },
  {
   "cell_type": "code",
   "execution_count": 51,
   "metadata": {},
   "outputs": [
    {
     "data": {
      "text/plain": [
       "▿ [100, 1]\n",
       "  ▿ dimensions : 2 elements\n",
       "    - 0 : 100\n",
       "    - 1 : 1\n"
      ]
     },
     "execution_count": 51,
     "metadata": {},
     "output_type": "execute_result"
    }
   ],
   "source": [
    "let yValidationPoints = matmul(A, TensorFloat([-2, 7]).expandingShape(at: 1)) + \n",
    "                (TensorFloat(randomNormal: inputPoints.shape, seed: (69, 420)) * 2.5)\n",
    "yValidationPoints.shape"
   ]
  },
  {
   "cell_type": "code",
   "execution_count": 52,
   "metadata": {},
   "outputs": [
    {
     "data": {
      "text/plain": [
       "('inline', 'module://ipykernel.pylab.backend_inline')\n"
      ]
     },
     "execution_count": 52,
     "metadata": {},
     "output_type": "execute_result"
    }
   ],
   "source": [
    "import Python\n",
    "%include \"EnableIPythonDisplay.swift\"\n",
    "IPythonDisplay.shell.enable_matplotlib(\"inline\")"
   ]
  },
  {
   "cell_type": "code",
   "execution_count": 53,
   "metadata": {},
   "outputs": [],
   "source": [
    "public let plotter = Python.import(\"matplotlib.pyplot\")"
   ]
  },
  {
   "cell_type": "code",
   "execution_count": 54,
   "metadata": {},
   "outputs": [],
   "source": [
    "// public extension TrainingDelegate {\n",
    "    \n",
    "//     func plotMeansAndStandardDeviations() {\n",
    "//         let figureAndAxes = plotter.subplots(1, 2, figsize: [10, 4])\n",
    "//         activationBuckets.forEach { (key: Int, value: [[Float]]) in\n",
    "//             figureAndAxes[1][0].plot(value[0])\n",
    "//             figureAndAxes[1][1].plot(value[1])\n",
    "//         }\n",
    "        \n",
    "//         plotter.legend(Array(1...activationBuckets.count))\n",
    "//         plotter.show()\n",
    "//     }\n",
    "// }"
   ]
  },
  {
   "cell_type": "code",
   "execution_count": 55,
   "metadata": {},
   "outputs": [
    {
     "data": {
      "image/png": "[encoded data removed]",
      "text/plain": [
       "<Figure size 432x288 with 1 Axes>"
      ]
     },
     "metadata": {
      "needs_background": "light"
     },
     "output_type": "display_data"
    },
    {
     "data": {
      "text/plain": [
       "None\n"
      ]
     },
     "execution_count": 55,
     "metadata": {},
     "output_type": "execute_result"
    }
   ],
   "source": [
    "plotter.scatter(x: A.slice(lowerBounds: [0, 0], upperBounds:[A.shape[0], 1] ).makeNumpyArray(), \n",
    "                y: yValidationPoints.makeNumpyArray())\n",
    "plotter.show()\n"
   ]
  },
  {
   "cell_type": "code",
   "execution_count": 56,
   "metadata": {},
   "outputs": [],
   "source": [
    "func showYHat(yHat: TensorFloat) {\n",
    "    plotter.scatter(x: A.slice(lowerBounds: [0, 0], upperBounds:[A.shape[0], 1] ).makeNumpyArray(), \n",
    "                y: yValidationPoints.makeNumpyArray())\n",
    "    plotter.scatter(x: A.slice(lowerBounds: [0, 0], upperBounds:[A.shape[0], 1] ).makeNumpyArray(), \n",
    "                y: yHat.makeNumpyArray())\n",
    "    plotter.show()\n",
    "}"
   ]
  },
  {
   "cell_type": "code",
   "execution_count": 57,
   "metadata": {},
   "outputs": [
    {
     "data": {
      "text/plain": [
       "▿ SequentialModel\n",
       "  ▿ sequentialParameter : SequentialParameter\n",
       "    ▿ parameters : 1 element\n",
       "      ▿ 0 : DenseLayerV2\n",
       "        - weightParameter : [[ 0.2632637],\n",
       " [-0.2624648]]\n",
       "        - biasParameter : [0.0]\n",
       "        - gradientChain : (Function)\n",
       "    - subscribers : 0 elements\n"
      ]
     },
     "execution_count": 57,
     "metadata": {},
     "output_type": "execute_result"
    }
   ],
   "source": [
    "let linearModel = SequentialModel(layerSizes: [2, 1])\n",
    "linearModel"
   ]
  },
  {
   "cell_type": "code",
   "execution_count": 58,
   "metadata": {},
   "outputs": [
    {
     "data": {
      "image/png": "[encoded data removed]",
      "text/plain": [
       "<Figure size 432x288 with 1 Axes>"
      ]
     },
     "metadata": {
      "needs_background": "light"
     },
     "output_type": "display_data"
    }
   ],
   "source": [
    "showYHat(yHat: linearModel.apply(inputTensor: A))"
   ]
  },
  {
   "cell_type": "code",
   "execution_count": 59,
   "metadata": {},
   "outputs": [],
   "source": [
    "//export\n",
    "public extension Dataset where Element == SupervisedLearningGroup {\n",
    "    init(featureTensor: TensorFloat, labelTensor: TensorFloat) {\n",
    "        self.init(elements: SupervisedLearningGroup(features: featureTensor, \n",
    "                                     labels: labelTensor))\n",
    "    }\n",
    "}"
   ]
  },
  {
   "cell_type": "code",
   "execution_count": 60,
   "metadata": {},
   "outputs": [],
   "source": [
    "let linearDataSet = Dataset(featureTensor: A, labelTensor: yValidationPoints).batched(100)\n",
    "let linearDataBunch = DataBunch(trainingDataset: linearDataSet,\n",
    "                               validationDataset: linearDataSet)"
   ]
  },
  {
   "cell_type": "code",
   "execution_count": 61,
   "metadata": {},
   "outputs": [],
   "source": [
    "let meanSquaredLossFunction = MeanSquaredErrorLossFunction()\n",
    "let simpleTrainingDelegate = TrainingDelegate(lossFunction: meanSquaredLossFunction)\n",
    "let simpleValidationDelegate = ValidationDelegate(lossFunction: meanSquaredLossFunction)"
   ]
  },
  {
   "cell_type": "code",
   "execution_count": 62,
   "metadata": {},
   "outputs": [],
   "source": [
    "let linearTeacher = Teacher(dataBunch: linearDataBunch, \n",
    "                            trainingDelegate: simpleTrainingDelegate, \n",
    "                            validationDelegate: simpleValidationDelegate)"
   ]
  },
  {
   "cell_type": "code",
   "execution_count": 63,
   "metadata": {},
   "outputs": [],
   "source": [
    "let taughtLinearModel = linearTeacher.teachModel(model: linearModel, \n",
    "                                                 numberOfEpochs: 50)"
   ]
  },
  {
   "cell_type": "code",
   "execution_count": 64,
   "metadata": {},
   "outputs": [
    {
     "data": {
      "image/png": "[encoded data removed]",
      "text/plain": [
       "<Figure size 432x288 with 1 Axes>"
      ]
     },
     "metadata": {
      "needs_background": "light"
     },
     "output_type": "display_data"
    }
   ],
   "source": [
    "showYHat(yHat: taughtLinearModel.apply(inputTensor: A))"
   ]
  },
  {
   "cell_type": "code",
   "execution_count": 65,
   "metadata": {},
   "outputs": [],
   "source": [
    "func plotLoss(lossArray: [Float]){\n",
    "    plotter.figure(figsize: [12, 8])\n",
    "\n",
    "    let lossAxes = plotter.subplot(2, 1, 2)\n",
    "    lossAxes.set_ylabel(\"Loss\")\n",
    "    lossAxes.set_xlabel(\"Epoch\")\n",
    "    lossAxes.plot(lossArray)\n",
    "\n",
    "    plotter.show()\n",
    "}"
   ]
  },
  {
   "cell_type": "code",
   "execution_count": 66,
   "metadata": {},
   "outputs": [
    {
     "data": {
      "image/png": "[encoded data removed]",
      "text/plain": [
       "<Figure size 864x576 with 1 Axes>"
      ]
     },
     "metadata": {
      "needs_background": "light"
     },
     "output_type": "display_data"
    }
   ],
   "source": [
    "plotLoss(lossArray: simpleTrainingDelegate.lossCount)"
   ]
  },
  {
   "cell_type": "code",
   "execution_count": 67,
   "metadata": {},
   "outputs": [
    {
     "data": {
      "image/png": "[encoded data removed]",
      "text/plain": [
       "<Figure size 864x576 with 1 Axes>"
      ]
     },
     "metadata": {
      "needs_background": "light"
     },
     "output_type": "display_data"
    }
   ],
   "source": [
    "plotLoss(lossArray: simpleValidationDelegate.lossCount)"
   ]
  },
  {
   "cell_type": "markdown",
   "metadata": {},
   "source": [
    "----"
   ]
  },
  {
   "cell_type": "markdown",
   "metadata": {},
   "source": [
    "# Activity Data!\n",
    "----"
   ]
  },
  {
   "cell_type": "code",
   "execution_count": 52,
   "metadata": {},
   "outputs": [],
   "source": [
    "//export\n",
    "let carDataYCSV = \"./data/activity_labels.csv\"\n",
    "let carDataXCSV = \"./data/activities_x_data.csv\"\n",
    "\n",
    "public let numpy = Python.import(\"numpy\")\n",
    "\n",
    "func createDataSet(featureTensor: TensorFloat, \n",
    "                   labelTensor: TensorFloat, \n",
    "                   batchSize: Int) -> Dataset<SupervisedLearningGroup> {\n",
    "    return Dataset(featuresTensor: featureTensor, labelsTensor: labelTensor)\n",
    "                    .batched(batchSize)\n",
    "                    .shuffled(sampleCount: 64, \n",
    "                              randomSeed: 69, \n",
    "                              reshuffleForEachIterator: true)\n",
    "}\n",
    "\n",
    "public func getUsedCarDataBunch(validationSize: Double = 0.2,\n",
    "                             batchSize: Int = 1028\n",
    "                            ) -> DataBunch<SupervisedLearningGroup> {\n",
    "    let usedCarFeaturesArray = numpy.loadtxt(carDataXCSV, \n",
    "                                delimiter: \",\", \n",
    "                                skiprows: 1, \n",
    "                                usecols: Array(1...8), \n",
    "                                dtype: Float.numpyScalarTypes.first!)\n",
    "    let categoricalVariableSet: Set = [0,1,2,3,4,5,6,7]\n",
    "    let continousVariableSet: Set = [-1]\n",
    "    let usedCarFeatureTensor = reScaleFeatures(featureTensor: TensorFloat(numpy: usedCarFeaturesArray)!, \n",
    "                                               catVars: categoricalVariableSet, \n",
    "                                               contVars: continousVariableSet)\n",
    "    \n",
    "    let usedCarPrices = numpy.loadtxt(carDataYCSV, \n",
    "                                delimiter: \",\", \n",
    "                                skiprows: 0, \n",
    "                                usecols: [1], \n",
    "                                dtype: Float.numpyScalarTypes.first!)\n",
    "    let usedCarLabelsTensor = TensorFloat(numpy: usedCarPrices)!\n",
    "    \n",
    "    let numberOfUsedCars = usedCarFeatureTensor.shape[0]\n",
    "    let numberOfUsedCarFeatures = usedCarFeatureTensor.shape[1]\n",
    "    \n",
    "    let validationDatasetSize = Int32(floor(validationSize * Double(numberOfUsedCars)))\n",
    "    let trainingDataSetSize = Int32(numberOfUsedCars) - validationDatasetSize\n",
    "    \n",
    "    \n",
    "    let splitFeatures = usedCarFeatureTensor\n",
    "                                .split(sizes: Tensor<Int32>([validationDatasetSize, trainingDataSetSize]), \n",
    "                                       alongAxis: 0)\n",
    "    let splitLabels = usedCarLabelsTensor\n",
    "                            .split(sizes: Tensor<Int32>([validationDatasetSize, trainingDataSetSize]), \n",
    "                                   alongAxis: 0)\n",
    "    \n",
    "    let validationDataSet = createDataSet(featureTensor: splitFeatures[0],\n",
    "                                        labelTensor: splitLabels[0], batchSize: batchSize)\n",
    "    let trainingDataSet = createDataSet(featureTensor: splitFeatures[1],\n",
    "                                        labelTensor: splitLabels[1], batchSize: batchSize)\n",
    "    return DataBunch(trainingDataset: trainingDataSet, \n",
    "                     validationDataset: validationDataSet)\n",
    "}"
   ]
  },
  {
   "cell_type": "code",
   "execution_count": 53,
   "metadata": {},
   "outputs": [],
   "source": [
    "let usedCarDataBunch = getUsedCarDataBunch()"
   ]
  },
  {
   "cell_type": "markdown",
   "metadata": {},
   "source": [
    "# Car Data Test"
   ]
  },
  {
   "cell_type": "code",
   "execution_count": 61,
   "metadata": {},
   "outputs": [],
   "source": [
    "let meanSquaredErrorLossy = MeanSquaredErrorLossFunction()\n",
    "let protoTrainingDelegate = TrainingDelegate(lossFunction: meanSquaredErrorLossy)\n",
    "let protoValidationDelegate = ValidationDelegate(lossFunction: meanSquaredErrorLossy)"
   ]
  },
  {
   "cell_type": "code",
   "execution_count": 62,
   "metadata": {},
   "outputs": [],
   "source": [
    "let protoModelTeacher = Teacher(dataBunch: usedCarDataBunch, \n",
    "                                trainingDelegate: protoTrainingDelegate, \n",
    "                                validationDelegate: protoValidationDelegate)"
   ]
  },
  {
   "cell_type": "code",
   "execution_count": 63,
   "metadata": {},
   "outputs": [
    {
     "data": {
      "text/plain": [
       "▿ SequentialModel\n",
       "  ▿ sequentialParameter : SequentialParameter\n",
       "    ▿ parameters : 3 elements\n",
       "      ▿ 0 : DenseLayerV2\n",
       "        - weightParameter : [[ -0.31221417,   -0.1813481,   -0.4010892,  -0.06853278, 0.0056331553,  -0.10257305,\n",
       "    0.54068816,   0.16231987,   0.59980947,  -0.17287749,  -0.14410755,   -0.5711798,\n",
       "     0.4212926,  -0.19379987,   -0.2975017,  -0.51354015],\n",
       " [   0.5836598,  0.080035396,    0.4410134,    -0.574986,   0.19662082,   0.43100837,\n",
       "    0.24528491,  -0.21612896,    0.4654939, -0.070848726,   0.26795185,   0.44352707,\n",
       "    0.21043791,   0.20359127,  -0.27630413,  -0.17228436],\n",
       " [  -0.3041568,   -0.0682272,  -0.40061098,   0.15619761,  -0.49816757,   0.35791796,\n",
       "   -0.27202442,  -0.43650422,  -0.21683976, -0.073697716,  -0.20914793,  -0.15375896,\n",
       "     0.1705468,  -0.31996325,  -0.40226203,   0.35158604],\n",
       " [ -0.27857074,  -0.33643034,   0.34593448,  -0.43182737,   0.17504129,   -0.5036919,\n",
       "   -0.55183876, -0.064306855,   0.18629235,   -0.4567487,  -0.23800611,    0.5919786,\n",
       "  -0.051843047, 0.0108999945,   -0.6064414, -0.048644822],\n",
       " [  -0.1256734,  -0.17749915,    0.5588522,  -0.37071946,  -0.22169021,   0.38597634,\n",
       "     0.5152014,  -0.26232675,    0.1460125,  0.097258545,    0.1439214,   0.47752815,\n",
       "   -0.16686575,  0.025622586,  0.109329835,  -0.12778516],\n",
       " [    0.609833,   0.07425851,   0.29386514,   -0.5215316,  0.032018013,  -0.31124246,\n",
       "  -0.041908264,   0.28835988,   -0.1792762,    0.0705384,    0.5480647,    0.3373129,\n",
       "    -0.1362319,    0.5411874,     0.322331,  -0.16231337],\n",
       " [  0.13243814,   0.28586587,  0.078745626,  -0.18869889,   0.59052706,  -0.59161913,\n",
       "    0.16598792,  -0.03637337,   0.10484439,  -0.39721805,  -0.07477148,      0.52765,\n",
       "    0.48651582,    0.3861046, -0.102983244,  -0.54958665],\n",
       " [ -0.03569001,   0.36068073,   0.28355104, -0.007333994, 0.0008108894,   -0.5341129,\n",
       "     0.5601724,  -0.04501765,     0.381117,   0.30954242,  0.020493425, -0.032930374,\n",
       "    0.45825726,   0.44472122,   0.34684363,  -0.39945376]]\n",
       "        - biasParameter : [0.0, 0.0, 0.0, 0.0, 0.0, 0.0, 0.0, 0.0, 0.0, 0.0, 0.0, 0.0, 0.0, 0.0, 0.0, 0.0]\n",
       "        - gradientChain : (Function)\n",
       "      ▿ 1 : ReLUParameter\n",
       "        - gradientChain : (Function)\n",
       "      ▿ 2 : DenseLayerV2\n",
       "        - weightParameter : [[  0.33726048],\n",
       " [ -0.18156025],\n",
       " [  0.17829126],\n",
       " [  0.11485092],\n",
       " [  0.32029954],\n",
       " [  0.40498644],\n",
       " [  -0.2766939],\n",
       " [  0.14140056],\n",
       " [  0.11086371],\n",
       " [ -0.38773224],\n",
       " [  -0.3426791],\n",
       " [  0.07999975],\n",
       " [ -0.26988435],\n",
       " [  0.03183027],\n",
       " [-0.093731984],\n",
       " [  0.20113938]]\n",
       "        - biasParameter : [0.0]\n",
       "        - gradientChain : (Function)\n",
       "    - subscribers : 0 elements\n"
      ]
     },
     "execution_count": 63,
     "metadata": {},
     "output_type": "execute_result"
    }
   ],
   "source": [
    "let firstValidationBatch = usedCarDataBunch.validationDataset.first!\n",
    "let firstTrainingBatch = usedCarDataBunch.trainingDataset.first!\n",
    "\n",
    "let simpleUntrainedModel = SequentialModel(layerSizes: [\n",
    "    firstValidationBatch.features.shape[1],\n",
    "    firstValidationBatch.features.shape[1] * 2,\n",
    "    1\n",
    "])\n",
    "simpleUntrainedModel"
   ]
  },
  {
   "cell_type": "code",
   "execution_count": 64,
   "metadata": {},
   "outputs": [
    {
     "data": {
      "text/plain": [
       "1.6359748e+12\n"
      ]
     },
     "execution_count": 64,
     "metadata": {},
     "output_type": "execute_result"
    }
   ],
   "source": [
    "let predictions = simpleUntrainedModel.apply(inputTensor: firstValidationBatch.features)\n",
    "meanSquaredErrorLossy.calculateLoss(expectedTensor: firstValidationBatch.labels, \n",
    "                                    actualTensor: predictions)"
   ]
  },
  {
   "cell_type": "code",
   "execution_count": 65,
   "metadata": {},
   "outputs": [
    {
     "data": {
      "text/plain": [
       "1.635975e+12\n"
      ]
     },
     "execution_count": 65,
     "metadata": {},
     "output_type": "execute_result"
    }
   ],
   "source": [
    "let testPreds = testSequentialModel.apply(inputTensor: firstValidationBatch.features)\n",
    "meanSquaredErrorLossy.calculateLoss(expectedTensor: firstValidationBatch.labels, \n",
    "                                    actualTensor: testPreds)"
   ]
  },
  {
   "cell_type": "code",
   "execution_count": 66,
   "metadata": {},
   "outputs": [
    {
     "name": "stdout",
     "output_type": "stream",
     "text": [
      "elapsed time: 12.002535176 s\r\n"
     ]
    }
   ],
   "source": [
    "let simpleTrainedModel = withTime { \n",
    "    protoModelTeacher.teachModel(model: simpleUntrainedModel, \n",
    "                                                      numberOfEpochs: 100)\n",
    "                                  }"
   ]
  },
  {
   "cell_type": "code",
   "execution_count": 67,
   "metadata": {},
   "outputs": [
    {
     "data": {
      "text/plain": [
       "8.4722654e+11\n"
      ]
     },
     "execution_count": 67,
     "metadata": {},
     "output_type": "execute_result"
    }
   ],
   "source": [
    "let predictions = simpleTrainedModel.apply(inputTensor: firstValidationBatch.features)\n",
    "meanSquaredErrorLossy.calculateLoss(expectedTensor: firstValidationBatch.labels, \n",
    "                                    actualTensor: predictions)"
   ]
  },
  {
   "cell_type": "code",
   "execution_count": 68,
   "metadata": {},
   "outputs": [
    {
     "data": {
      "text/plain": [
       "7.813652e+12\n"
      ]
     },
     "execution_count": 68,
     "metadata": {},
     "output_type": "execute_result"
    }
   ],
   "source": [
    "let predictions = simpleTrainedModel.apply(inputTensor: firstTrainingBatch.features)\n",
    "meanSquaredErrorLossy.calculateLoss(expectedTensor: firstTrainingBatch.labels, \n",
    "                                    actualTensor: predictions)"
   ]
  },
  {
   "cell_type": "code",
   "execution_count": 69,
   "metadata": {},
   "outputs": [
    {
     "name": "stdout",
     "output_type": "stream",
     "text": [
      "7.813652e+12\n",
      "9.718131e+11\n",
      "7.440386e+11\n",
      "1.6784907e+13\n",
      "1.09278206e+12\n",
      "8.10965e+11\n",
      "7.580418e+11\n",
      "8.3467954e+11\n",
      "7.2892364e+11\n",
      "3.3467093e+12\n",
      "1.2441564e+12\n",
      "1.0028363e+12\n",
      "1.8302243e+12\n",
      "1.1889159e+13\n",
      "1.2560199e+12\n",
      "9.5393356e+11\n",
      "5.3671907e+11\n",
      "7.0035676e+11\n",
      "4.7862078e+11\n",
      "5.8798696e+11\n"
     ]
    },
    {
     "data": {
      "text/plain": [
       "▿ SequentialModel\n",
       "  ▿ sequentialParameter : SequentialParameter\n",
       "    ▿ parameters : 3 elements\n",
       "      ▿ 0 : DenseLayerV2\n",
       "        - weightParameter : [[ -2.4091973e+09,      -236.98416,  -3.5750848e+09,     -0.06853278,    -9.20618e+09,\n",
       "   -2.5019725e+08,       -715.3832,      -1001791.4,   -5.011806e+09,     -0.17287749,\n",
       "       -319.13477,  -1.2943116e+10,       -721.2462,   -6.418137e+09,      -0.3038446,\n",
       "       -369.76785],\n",
       " [  -3.030919e+09,        -774.179,  -4.4976783e+09,       -0.574986,   -1.158194e+10,\n",
       "   -3.1476387e+08,      -1510.9191,      -1260326.6,   -6.305163e+09,    -0.070848726,\n",
       "       -923.31555,  -1.6283254e+10,      -1498.5547,   -8.074413e+09,     -0.27630413,\n",
       "      -0.17228436],\n",
       " [ -6.9693804e+09,      -900.82025,  -1.0342087e+10,      0.15619761,  -2.6631825e+10,\n",
       "    -7.237777e+08,      -1594.4639,      -2898027.8,  -1.4498261e+10,    -0.073697716,\n",
       "       -586.00806,  -3.7442146e+10,      -1688.2852,   -1.856653e+10,     -0.43143928,\n",
       "       -7535.5264],\n",
       " [ -3.0584676e+09,       -576.6188,   -4.538552e+09,     -0.43182737,  -1.1687198e+10,\n",
       "   -3.1762454e+08,      -1008.9429,      -1271779.2,   -6.362467e+09,      -0.4567487,\n",
       "       -204.44772,  -1.6431233e+10,      -1179.3114,   -8.147801e+09,     -0.60692286,\n",
       "       -2959.6838],\n",
       " [  -1.125149e+09,      -516.72845,   -1.669645e+09,     -0.37071946,  -4.2994893e+09,\n",
       "   -1.1684784e+08,       -869.0685,      -467862.78,  -2.3406257e+09,     0.097258545,\n",
       "       -305.79672,   -6.044727e+09,       -884.7609,  -2.9974134e+09,   -0.0054659247,\n",
       "       -2347.3684],\n",
       " [  -1.707957e+09,      -18.403196,  -2.5344911e+09,      -0.5215316,  -6.5265536e+09,\n",
       "    -1.773727e+08,      -303.01776,       -710206.9,  -3.5530301e+09,       0.0705384,\n",
       "       -377.59738,   -9.175791e+09,       -299.1343,   -4.550022e+09,      0.24938788,\n",
       "         -7536.04],\n",
       " [ -2.0914231e+10,      -3903.7505,  -3.1035322e+10,     -0.18869889,  -7.9918825e+10,\n",
       "    -2.171966e+09,      -5845.6475,      -8696615.0,   -4.350752e+10,     -0.39721805,\n",
       "       -1177.6285, -1.12359145e+11,       -6100.922,   -5.571585e+10,     -0.24865296,\n",
       "      -0.54958665],\n",
       " [ -3.2856118e+08,      -28.238626,  -4.8756272e+08,    -0.007333994,   -1.255519e+09,\n",
       "   -3.4121428e+07,       -41.46909,      -136623.28,   -6.834987e+08,      0.30954242,\n",
       "       -3.9327235,  -1.7651548e+09,      -43.879883,  -8.7529075e+08,      0.34655184,\n",
       "      -0.39945376]]\n",
       "        - biasParameter : [-2.1900786e+10,      -3921.325, -3.2499274e+10,            0.0,  -8.368864e+10,\n",
       " -2.2744195e+09,      -6149.545,     -9106842.0,  -4.555978e+10,            0.0,\n",
       "     -1524.8099,  -1.176593e+11,      -6400.077, -5.8344006e+10,    -0.14588627,\n",
       "     -7535.8784]\n",
       "        - gradientChain : (Function)\n",
       "      ▿ 1 : ReLUParameter\n",
       "        - gradientChain : (Function)\n",
       "      ▿ 2 : DenseLayerV2\n",
       "        - weightParameter : [[ -8.1545585e+10],\n",
       " [       4404.528],\n",
       " [ -5.6167522e+10],\n",
       " [     0.11485092],\n",
       " [-1.09045015e+11],\n",
       " [ -4.9449856e+09],\n",
       " [       4325.153],\n",
       " [ -1.2474136e+08],\n",
       " [  -3.907894e+10],\n",
       " [    -0.38773224],\n",
       " [      564.90424],\n",
       " [ -2.8199465e+10],\n",
       " [       13511.67],\n",
       " [ -1.1227446e+10],\n",
       " [    -0.01642438],\n",
       " [     -3941.3223]]\n",
       "        - biasParameter : [923109.3]\n",
       "        - gradientChain : (Function)\n",
       "    - subscribers : 0 elements\n"
      ]
     },
     "execution_count": 69,
     "metadata": {},
     "output_type": "execute_result"
    }
   ],
   "source": [
    "usedCarDataBunch.trainingDataset.reduce(simpleTrainedModel){\n",
    "    let predictions = $0.apply(inputTensor: $1.features)\n",
    "    let lossBoi = meanSquaredErrorLossy.calculateLoss(expectedTensor: $1.labels, \n",
    "                                    actualTensor: predictions)\n",
    "    print(lossBoi)\n",
    "    return $0\n",
    "}"
   ]
  },
  {
   "cell_type": "code",
   "execution_count": 70,
   "metadata": {},
   "outputs": [
    {
     "data": {
      "image/png": "[encoded data removed]",
      "text/plain": [
       "<Figure size 864x576 with 1 Axes>"
      ]
     },
     "metadata": {
      "needs_background": "light"
     },
     "output_type": "display_data"
    }
   ],
   "source": [
    "plotLoss(lossArray: protoTrainingDelegate.lossCount)"
   ]
  },
  {
   "cell_type": "code",
   "execution_count": 71,
   "metadata": {},
   "outputs": [
    {
     "data": {
      "image/png": "[encoded data removed]",
      "text/plain": [
       "<Figure size 864x576 with 1 Axes>"
      ]
     },
     "metadata": {
      "needs_background": "light"
     },
     "output_type": "display_data"
    }
   ],
   "source": [
    "plotLoss(lossArray: protoValidationDelegate.lossCount)"
   ]
  },
  {
   "cell_type": "code",
   "execution_count": null,
   "metadata": {},
   "outputs": [],
   "source": []
  },
  {
   "cell_type": "markdown",
   "metadata": {},
   "source": [
    "# Tensor Flow Stuff"
   ]
  },
  {
   "cell_type": "code",
   "execution_count": 72,
   "metadata": {},
   "outputs": [],
   "source": [
    "let inputSize = firstValidationBatch.features.shape[1]\n",
    "let hiddenSize = inputSize - 2\n",
    "\n",
    "\n",
    "struct UsedCarModel: Layer {\n",
    "    var layer1 = Dense<Float>(inputSize: inputSize, outputSize: inputSize / 2, activation: relu)\n",
    "    var layer2 = Dense<Float>(inputSize: inputSize / 2, outputSize: 1)\n",
    "    \n",
    "    @differentiable\n",
    "    func callAsFunction(_ input: Tensor<Float>) -> Tensor<Float> {\n",
    "        return input.sequenced(through: layer1, layer2)\n",
    "    }\n",
    "}"
   ]
  },
  {
   "cell_type": "code",
   "execution_count": 73,
   "metadata": {},
   "outputs": [],
   "source": [
    "var model = UsedCarModel()"
   ]
  },
  {
   "cell_type": "code",
   "execution_count": 74,
   "metadata": {},
   "outputs": [
    {
     "data": {
      "text/plain": [
       "[[  -0.9944627],\n",
       " [-0.040694006],\n",
       " [  -0.6011223],\n",
       " [ -0.93189156],\n",
       " [ -0.93189156]]\n"
      ]
     },
     "execution_count": 74,
     "metadata": {},
     "output_type": "execute_result"
    }
   ],
   "source": [
    "let firstTrainPredictions = model(firstValidationBatch.features)\n",
    "firstTrainPredictions[0..<5]"
   ]
  },
  {
   "cell_type": "code",
   "execution_count": 75,
   "metadata": {},
   "outputs": [
    {
     "data": {
      "text/plain": [
       "1.6359761e+12\n"
      ]
     },
     "execution_count": 75,
     "metadata": {},
     "output_type": "execute_result"
    }
   ],
   "source": [
    "let libLoss = meanSquaredError(predicted: firstTrainPredictions, expected:firstValidationBatch.labels)\n",
    "libLoss"
   ]
  },
  {
   "cell_type": "code",
   "execution_count": 76,
   "metadata": {},
   "outputs": [
    {
     "data": {
      "text/plain": [
       "1.6359761e+12\n"
      ]
     },
     "execution_count": 76,
     "metadata": {},
     "output_type": "execute_result"
    }
   ],
   "source": [
    "let (myLoss, myGrad) = meanSquaredErrorAndGradient(yHat: firstTrainPredictions, y: firstValidationBatch.labels)\n",
    "myLoss"
   ]
  },
  {
   "cell_type": "code",
   "execution_count": 77,
   "metadata": {},
   "outputs": [],
   "source": [
    "let optimizer = SGD(for: model, learningRate: 1e-2)"
   ]
  },
  {
   "cell_type": "code",
   "execution_count": 78,
   "metadata": {},
   "outputs": [
    {
     "data": {
      "text/plain": [
       "1.6359761e+12\n"
      ]
     },
     "execution_count": 78,
     "metadata": {},
     "output_type": "execute_result"
    }
   ],
   "source": [
    "let (libLoss2, libGrads) = model.valueWithGradient {\n",
    "    model -> TensorFloat in\n",
    "    let libPreds = model(firstValidationBatch.features)\n",
    "    return meanSquaredError(predicted: libPreds, expected: firstValidationBatch.labels)\n",
    "}\n",
    "libLoss2"
   ]
  },
  {
   "cell_type": "code",
   "execution_count": 79,
   "metadata": {},
   "outputs": [],
   "source": [
    "optimizer.update(&model.allDifferentiableVariables, along: libGrads)"
   ]
  },
  {
   "cell_type": "code",
   "execution_count": 80,
   "metadata": {},
   "outputs": [
    {
     "data": {
      "text/plain": [
       "1.6694523e+14\n"
      ]
     },
     "execution_count": 80,
     "metadata": {},
     "output_type": "execute_result"
    }
   ],
   "source": [
    "let libLossEnhanced = meanSquaredError(predicted: model(firstValidationBatch.features), \n",
    "                                       expected:firstValidationBatch.labels)\n",
    "libLossEnhanced"
   ]
  },
  {
   "cell_type": "code",
   "execution_count": 81,
   "metadata": {},
   "outputs": [],
   "source": [
    "func accuracy(expected: TensorFloat, actual: TensorFloat) -> Float {\n",
    "    return (actual - expected).mean().scalarized()\n",
    "}"
   ]
  },
  {
   "cell_type": "code",
   "execution_count": 82,
   "metadata": {},
   "outputs": [],
   "source": [
    "let epochCount = 100\n",
    "var trainingLoss: [Float] = []\n"
   ]
  },
  {
   "cell_type": "code",
   "execution_count": 83,
   "metadata": {},
   "outputs": [],
   "source": [
    "\n",
    "var model3 = UsedCarModel()"
   ]
  },
  {
   "cell_type": "code",
   "execution_count": 84,
   "metadata": {},
   "outputs": [],
   "source": [
    "let optimizer = SGD(for: model3, learningRate: 1e-2)"
   ]
  },
  {
   "cell_type": "code",
   "execution_count": 85,
   "metadata": {},
   "outputs": [
    {
     "name": "stdout",
     "output_type": "stream",
     "text": [
      "elapsed time: 14.922213058 s\r\n"
     ]
    }
   ],
   "source": [
    "withTime { \n",
    "    for epoch in 1...100 {\n",
    "        var epochLoss: Float = 0\n",
    "        var epochAccuracy: Float = 0\n",
    "        var batchCount: Int = 0\n",
    "\n",
    "        for dataGroup in usedCarDataBunch.trainingDataset {\n",
    "            let (loss, libraryGradients) = model3.valueWithGradient {\n",
    "                model -> TensorFloat in\n",
    "                let libPreds = model(dataGroup.features)\n",
    "                return  meanSquaredError(predicted: libPreds, expected: dataGroup.labels)\n",
    "            }\n",
    "\n",
    "            optimizer.update(&model3.allDifferentiableVariables, along: libraryGradients)\n",
    "\n",
    "            let preds = model(dataGroup.features)\n",
    "            let batchAccuracy = accuracy(expected: dataGroup.labels, \n",
    "                                      actual: preds)\n",
    "            let batchLoss = loss.scalarized()\n",
    "            epochAccuracy += batchAccuracy\n",
    "            epochLoss += batchLoss\n",
    "\n",
    "            batchCount += 1\n",
    "        }\n",
    "        trainingLoss.append(epochLoss / Float(batchCount))\n",
    "    }\n",
    "}"
   ]
  },
  {
   "cell_type": "code",
   "execution_count": null,
   "metadata": {},
   "outputs": [],
   "source": [
    "14.845449664 / 12.98729881"
   ]
  },
  {
   "cell_type": "code",
   "execution_count": null,
   "metadata": {},
   "outputs": [],
   "source": [
    "plotLoss(lossArray: trainingLoss)"
   ]
  },
  {
   "cell_type": "code",
   "execution_count": null,
   "metadata": {},
   "outputs": [],
   "source": [
    "let firstValidationBatch = usedCarDataBunch.validationDataset.first!\n",
    "let myFinalLoss = meanSquaredError(predicted: simpleTrainedModel.apply(inputTensor: firstValidationBatch.features), \n",
    "                                   expected: firstValidationBatch.labels)\n",
    "let tfFinalLoss = meanSquaredError(predicted: model3(firstValidationBatch.features), \n",
    "                                   expected: firstValidationBatch.labels)\n",
    "\n",
    "print(myFinalLoss, tfFinalLoss, myFinalLoss <= tfFinalLoss)"
   ]
  },
  {
   "cell_type": "code",
   "execution_count": null,
   "metadata": {},
   "outputs": [],
   "source": [
    "usedCarDataBunch.trainingDataset.reduce(model3){\n",
    "    let predictions = $0($1.features)\n",
    "    let lossBoi = meanSquaredErrorLossy.calculateLoss(expectedTensor: $1.labels, \n",
    "                                    actualTensor: predictions)\n",
    "    \n",
    "    let myPredictions = simpleTrainedModel.apply(inputTensor: $1.features)\n",
    "    let myLoss = meanSquaredErrorLossy.calculateLoss(expectedTensor: $1.labels, \n",
    "                                    actualTensor: myPredictions)\n",
    "    print(myLoss - lossBoi)\n",
    "    return $0\n",
    "}"
   ]
  },
  {
   "cell_type": "markdown",
   "metadata": {},
   "source": [
    "![weird](https://external-preview.redd.it/Ac-PqYwJtp2M_cC2MctlPHJywidGSu9rBh2AsUO_a4A.jpg?auto=webp&s=4775fedb64e4a69ec301828a2720af9d591ce44e)"
   ]
  },
  {
   "cell_type": "markdown",
   "metadata": {},
   "source": [
    "# Tensorflow simple"
   ]
  },
  {
   "cell_type": "code",
   "execution_count": null,
   "metadata": {},
   "outputs": [],
   "source": [
    "struct SimpleModelTF: Layer {\n",
    "    var layer1 = Dense<Float>(inputSize: 2, outputSize: 1)\n",
    "    \n",
    "    @differentiable\n",
    "    func callAsFunction(_ input: Tensor<Float>) -> Tensor<Float> {\n",
    "        return layer1(input)\n",
    "    }\n",
    "}"
   ]
  },
  {
   "cell_type": "code",
   "execution_count": null,
   "metadata": {},
   "outputs": [],
   "source": [
    "var tfSimpleModel = SimpleModelTF()"
   ]
  },
  {
   "cell_type": "code",
   "execution_count": null,
   "metadata": {},
   "outputs": [],
   "source": [
    "let optimizerTF = SGD(for: tfSimpleModel, learningRate: 1e-2)"
   ]
  },
  {
   "cell_type": "code",
   "execution_count": null,
   "metadata": {},
   "outputs": [],
   "source": [
    "showYHat(yHat: tfSimpleModel(A))"
   ]
  },
  {
   "cell_type": "code",
   "execution_count": null,
   "metadata": {},
   "outputs": [],
   "source": [
    "var simpleTrainingAccuracy: [Float] = []\n",
    "var simpleTrainingLoss: [Float] = []"
   ]
  },
  {
   "cell_type": "code",
   "execution_count": null,
   "metadata": {},
   "outputs": [],
   "source": [
    "for epoch in 1...50 {\n",
    "    var epochLoss: Float = 0\n",
    "    var epochAccuracy: Float = 0\n",
    "    var batchCount: Int = 0\n",
    "    \n",
    "    for dataGroup in linearDataBunch.trainingDataset {\n",
    "        let (loss, libraryGradients) = tfSimpleModel.valueWithGradient {\n",
    "            model -> TensorFloat in\n",
    "            let libPreds = model(dataGroup.features)            \n",
    "            return  meanSquaredError(predicted: libPreds, expected: dataGroup.labels)\n",
    "        }\n",
    "        \n",
    "        optimizerTF.update(&tfSimpleModel.allDifferentiableVariables, along: libraryGradients)\n",
    "        \n",
    "        let preds = tfSimpleModel(dataGroup.features)\n",
    "        let batchAccuracy = accuracy(expected: dataGroup.labels, \n",
    "                                  actual: preds)\n",
    "        let batchLoss = loss.scalarized()\n",
    "        \n",
    "        simpleTrainingAccuracy.append(batchAccuracy)\n",
    "        simpleTrainingLoss.append(batchLoss)\n",
    "    }\n",
    "}"
   ]
  },
  {
   "cell_type": "code",
   "execution_count": null,
   "metadata": {},
   "outputs": [],
   "source": [
    "plotLoss(lossArray: simpleTrainingLoss)"
   ]
  },
  {
   "cell_type": "code",
   "execution_count": null,
   "metadata": {},
   "outputs": [],
   "source": [
    "showYHat(yHat: tfSimpleModel(A))"
   ]
  },
  {
   "cell_type": "code",
   "execution_count": null,
   "metadata": {},
   "outputs": [],
   "source": []
  }
 ],
 "metadata": {
  "kernelspec": {
   "display_name": "Swift",
   "language": "swift",
   "name": "swift"
  },
  "language_info": {
   "file_extension": ".swift",
   "mimetype": "text/x-swift",
   "name": "swift",
   "version": ""
  }
 },
 "nbformat": 4,
 "nbformat_minor": 2
}
