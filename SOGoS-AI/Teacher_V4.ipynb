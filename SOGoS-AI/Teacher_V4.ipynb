{
 "cells": [
  {
   "cell_type": "code",
   "execution_count": 1,
   "metadata": {},
   "outputs": [
    {
     "name": "stdout",
     "output_type": "stream",
     "text": [
      "Installing packages:\n",
      "\t.package(url: \"https://github.com/mxcl/Path.swift\", from: \"0.16.1\")\n",
      "\t\tPath\n",
      "\t.package(url: \"https://github.com/saeta/Just\", from: \"0.7.2\")\n",
      "\t\tJust\n",
      "\t.package(url: \"https://github.com/latenitesoft/NotebookExport\", from: \"0.5.0\")\n",
      "\t\tNotebookExport\n",
      "With SwiftPM flags: []\n",
      "Working in: /tmp/tmpq7sh_vsp/swift-install\n",
      "warning: /home/alex/swift/tensorflow/usr/bin/swiftc: /home/alex/miniconda3/envs/swift-env/lib/libuuid.so.1: no version information available (required by /home/alex/swift/tensorflow/usr/bin/swiftc)\n",
      "/home/alex/swift/tensorflow/usr/bin/swift: /home/alex/miniconda3/envs/swift-env/lib/libuuid.so.1: no version information available (required by /home/alex/swift/tensorflow/usr/bin/swift)\n",
      "warning: /home/alex/swift/tensorflow/usr/bin/swiftc: /home/alex/miniconda3/envs/swift-env/lib/libuuid.so.1: no version information available (required by /home/alex/swift/tensorflow/usr/bin/swiftc)\n",
      "/home/alex/swift/tensorflow/usr/bin/swift: /home/alex/miniconda3/envs/swift-env/lib/libuuid.so.1: no version information available (required by /home/alex/swift/tensorflow/usr/bin/swift)\n",
      "warning: /home/alex/swift/tensorflow/usr/bin/swiftc: /home/alex/miniconda3/envs/swift-env/lib/libuuid.so.1: no version information available (required by /home/alex/swift/tensorflow/usr/bin/swiftc)\n",
      "/home/alex/swift/tensorflow/usr/bin/swift: /home/alex/miniconda3/envs/swift-env/lib/libuuid.so.1: no version information available (required by /home/alex/swift/tensorflow/usr/bin/swift)\n",
      "warning: /home/alex/swift/tensorflow/usr/bin/swiftc: /home/alex/miniconda3/envs/swift-env/lib/libuuid.so.1: no version information available (required by /home/alex/swift/tensorflow/usr/bin/swiftc)\n",
      "/home/alex/swift/tensorflow/usr/bin/swift: /home/alex/miniconda3/envs/swift-env/lib/libuuid.so.1: no version information available (required by /home/alex/swift/tensorflow/usr/bin/swift)\n",
      "/home/alex/swift/tensorflow/usr/bin/swiftc: /home/alex/miniconda3/envs/swift-env/lib/libuuid.so.1: no version information available (required by /home/alex/swift/tensorflow/usr/bin/swiftc)\n",
      "/home/alex/swift/tensorflow/usr/bin/swiftc: /home/alex/miniconda3/envs/swift-env/lib/libuuid.so.1: no version information available (required by /home/alex/swift/tensorflow/usr/bin/swiftc)[1/2] Compiling jupyterInstalledPackages jupyterInstalledPackages.swift\n",
      "/home/alex/swift/tensorflow/usr/bin/swift: /home/alex/miniconda3/envs/swift-env/lib/libuuid.so.1: no version information available (required by /home/alex/swift/tensorflow/usr/bin/swift)\n",
      "[2/3] Merging module jupyterInstalledPackages\n",
      "/home/alex/swift/tensorflow/usr/bin/swift: /home/alex/miniconda3/envs/swift-env/lib/libuuid.so.1: no version information available (required by /home/alex/swift/tensorflow/usr/bin/swift)\n",
      "Initializing Swift...\n",
      "Installation complete!\n"
     ]
    }
   ],
   "source": [
    "%install-location $cwd/swift-install\n",
    "%install '.package(url: \"https://github.com/mxcl/Path.swift\", from: \"0.16.1\")' Path\n",
    "%install '.package(url: \"https://github.com/saeta/Just\", from: \"0.7.2\")' Just\n",
    "%install '.package(url: \"https://github.com/latenitesoft/NotebookExport\", from: \"0.5.0\")' NotebookExport"
   ]
  },
  {
   "cell_type": "code",
   "execution_count": 2,
   "metadata": {},
   "outputs": [],
   "source": [
    "//export\n",
    "import Path\n",
    "import TensorFlow"
   ]
  },
  {
   "cell_type": "markdown",
   "metadata": {},
   "source": [
    "### Rando Stuff I need"
   ]
  },
  {
   "cell_type": "code",
   "execution_count": 3,
   "metadata": {},
   "outputs": [],
   "source": [
    "//export\n",
    "protocol ConvertibleFromByte: TensorFlowScalar {\n",
    "    init(_ d:UInt8)\n",
    "}\n",
    "extension Float : ConvertibleFromByte {}\n",
    "extension Int32 : ConvertibleFromByte {}\n",
    "\n",
    "//export \n",
    "import Dispatch\n",
    "\n",
    "public func getTimeUnit(_ nanoSeconds: Double) -> String {\n",
    "    let powerOfTen = floor(log10(nanoSeconds))\n",
    "    switch powerOfTen {\n",
    "        case 1..<3:\n",
    "            return \"\\(nanoSeconds) ns\"\n",
    "        case 3..<6:\n",
    "            return \"\\(nanoSeconds/1e3) µs\"\n",
    "        case 6..<9: \n",
    "            return \"\\(nanoSeconds/1e6) ms\"\n",
    "        default: \n",
    "            return \"\\(nanoSeconds/1e9) s\"\n",
    "    }\n",
    "}\n",
    "\n",
    "// ⏰Time how long it takes to run the specified function, optionally taking\n",
    "// the average across a number of repetitions.\n",
    "public func withTime<T>(_ f: () -> T) -> T {\n",
    "    let start = DispatchTime.now()\n",
    "    let value = f()\n",
    "    let end = DispatchTime.now()\n",
    "    let nanoSeconds = Double(end.uptimeNanoseconds - start.uptimeNanoseconds)\n",
    "    print(\"elapsed time: \\(getTimeUnit(nanoSeconds))\")\n",
    "    return value\n",
    "}\n",
    "\n",
    "public func timeTrials(trials: Int = 1, _ f: () -> ()) {\n",
    "    guard trials > 0 else { return }\n",
    "    \n",
    "    // Warmup\n",
    "    if trials > 1 { f() }\n",
    "    \n",
    "    var times = [Double]()\n",
    "    for _ in 1...trials {\n",
    "        let start = DispatchTime.now()\n",
    "        f()\n",
    "        let end = DispatchTime.now()\n",
    "        let nanoseconds = Double(end.uptimeNanoseconds - start.uptimeNanoseconds)\n",
    "        times.append(nanoseconds)\n",
    "    }\n",
    "    print(\"average: \\(getTimeUnit(times.reduce(0.0, +)/Double(times.count))),   \" +\n",
    "          \"min: \\(getTimeUnit(times.reduce(times[0], min))),   \" +\n",
    "          \"max: \\(getTimeUnit(times.reduce(times[0], max)))\")\n",
    "}\n",
    "\n",
    "public extension String {\n",
    "    func findFirst(pat: String) -> Range<String.Index>? {\n",
    "        return range(of: pat, options: .regularExpression)\n",
    "    }\n",
    "    func hasMatch(pat: String) -> Bool {\n",
    "        return findFirst(pat:pat) != nil\n",
    "    }\n",
    "}\n",
    "public func normalizeTensor<T:TensorFlowFloatingPoint>(tensor: Tensor<T>)-> Tensor<T>{\n",
    "    return (tensor - tensor.mean())/tensor.standardDeviation()\n",
    "}\n",
    "public struct AssertionError: Error {\n",
    "    let message: String\n",
    "    init(_ message: String){\n",
    "        self.message = message\n",
    "    }\n",
    "}\n",
    "public func assert(toAssert: Bool, message: String = \"Not True!\") throws {\n",
    "    if(!toAssert){\n",
    "        throw AssertionError(message)\n",
    "    }\n",
    "}\n",
    "public extension StringTensor {\n",
    "    // Read a file into a Tensor.\n",
    "    init(readFile filename: String) {\n",
    "        self.init(readFile: StringTensor(filename))\n",
    "    }\n",
    "    init(readFile filename: StringTensor) {\n",
    "        self = Raw.readFile(filename: filename)\n",
    "    }\n",
    "\n",
    "    // Decode a StringTensor holding a JPEG file into a Tensor<UInt8>.\n",
    "    func decodeJpeg(channels: Int = 0) -> Tensor<UInt8> {\n",
    "        return Raw.decodeJpeg(contents: self, channels: Int64(channels), dctMethod: \"\") \n",
    "    }\n",
    "}\n",
    "public func reLU<T>(tensor: Tensor<T>) -> Tensor<T> where T : FloatingPoint, T: TensorFlowScalar {\n",
    "    return max(tensor, 0)\n",
    "}\n",
    "public func linearCombination<T>(inputs: Tensor<T>, weights: Tensor<T>, bias: Tensor<T>) -> Tensor<T> where T: FloatingPoint, T: TensorFlowScalar {\n",
    "    return matmul(inputs, weights) + bias\n",
    "}\n",
    "public typealias TensorFloat=Tensor<Float>\n",
    "public func assertNearZero(_ tensor: TensorFloat, _ threshold: Float = 1e-3){\n",
    "    assert(tensor < threshold, \"Expected \\(tensor) to be less than \\(threshold)\")\n",
    "}\n",
    "public func assertEquals(_ a: TensorFloat, _ b: TensorFloat, _ message: String) {\n",
    "    // Check shapes match so broadcasting doesn't hide shape errors.\n",
    "    assert(a.shape == b.shape)\n",
    "    assertNearZero(a-b)\n",
    "}"
   ]
  },
  {
   "cell_type": "markdown",
   "metadata": {},
   "source": [
    "### Things Needed\n",
    "----\n",
    "- Layer Activations Statistics (mean/standard deviation)\n",
    "- Optimization\n",
    "- Learning Rate over Time"
   ]
  },
  {
   "cell_type": "code",
   "execution_count": 4,
   "metadata": {},
   "outputs": [
    {
     "name": "stdout",
     "output_type": "stream",
     "text": [
      "9 10\r\n",
      "8 9\r\n",
      "7 8\r\n",
      "6 7\r\n",
      "5 6\r\n",
      "4 5\r\n",
      "3 4\r\n",
      "2 3\r\n",
      "1 2\r\n",
      "0 1\r\n"
     ]
    }
   ],
   "source": [
    "Array(1...10).enumerated().reversed().forEach {\n",
    "    print($0, $1)\n",
    "}"
   ]
  },
  {
   "cell_type": "code",
   "execution_count": 5,
   "metadata": {},
   "outputs": [
    {
     "data": {
      "text/plain": [
       "▿ 6 elements\n",
       "  - 0 : 0\n",
       "  - 1 : 1\n",
       "  - 2 : 2\n",
       "  - 3 : 3\n",
       "  - 4 : 4\n",
       "  - 5 : 5\n"
      ]
     },
     "execution_count": 5,
     "metadata": {},
     "output_type": "execute_result"
    }
   ],
   "source": [
    "var yeetBoi = [1,2,3,4,5]\n",
    "yeetBoi.insert(0, at:0)\n",
    "yeetBoi"
   ]
  },
  {
   "cell_type": "code",
   "execution_count": 6,
   "metadata": {},
   "outputs": [
    {
     "name": "stdout",
     "output_type": "stream",
     "text": [
      "Fam\r\n",
      "Ravioli\r\n"
     ]
    }
   ],
   "source": [
    "protocol Fam {\n",
    "    func fam()\n",
    "}\n",
    "\n",
    "extension Fam {\n",
    "    func fam() {\n",
    "        print(\"Fam\")\n",
    "    }\n",
    "}\n",
    "\n",
    "protocol Ravioli {\n",
    "    func ravioli()\n",
    "}\n",
    "\n",
    "extension Ravioli {\n",
    "    func ravioli() {\n",
    "        print(\"Ravioli\")\n",
    "    }\n",
    "}\n",
    "\n",
    "struct FamRavioli: Fam, Ravioli {}\n",
    "\n",
    "let famRav = FamRavioli()\n",
    "\n",
    "famRav.fam()\n",
    "famRav.ravioli()"
   ]
  },
  {
   "cell_type": "code",
   "execution_count": 7,
   "metadata": {},
   "outputs": [],
   "source": [
    "var thingDictionary: [Int: [Float]] =  [:]"
   ]
  },
  {
   "cell_type": "code",
   "execution_count": 8,
   "metadata": {},
   "outputs": [
    {
     "data": {
      "text/plain": [
       "▿ 10 elements\n",
       "  ▿ 0 : 2 elements\n",
       "    - key : 6\n",
       "    ▿ value : 2 elements\n",
       "      - 0 : 69.0\n",
       "      - 1 : 6.0\n",
       "  ▿ 1 : 2 elements\n",
       "    - key : 5\n",
       "    ▿ value : 2 elements\n",
       "      - 0 : 69.0\n",
       "      - 1 : 5.0\n",
       "  ▿ 2 : 2 elements\n",
       "    - key : 3\n",
       "    ▿ value : 2 elements\n",
       "      - 0 : 69.0\n",
       "      - 1 : 3.0\n",
       "  ▿ 3 : 2 elements\n",
       "    - key : 9\n",
       "    ▿ value : 2 elements\n",
       "      - 0 : 69.0\n",
       "      - 1 : 9.0\n",
       "  ▿ 4 : 2 elements\n",
       "    - key : 7\n",
       "    ▿ value : 2 elements\n",
       "      - 0 : 69.0\n",
       "      - 1 : 7.0\n",
       "  ▿ 5 : 2 elements\n",
       "    - key : 10\n",
       "    ▿ value : 2 elements\n",
       "      - 0 : 69.0\n",
       "      - 1 : 10.0\n",
       "  ▿ 6 : 2 elements\n",
       "    - key : 8\n",
       "    ▿ value : 2 elements\n",
       "      - 0 : 69.0\n",
       "      - 1 : 8.0\n",
       "  ▿ 7 : 2 elements\n",
       "    - key : 2\n",
       "    ▿ value : 2 elements\n",
       "      - 0 : 69.0\n",
       "      - 1 : 2.0\n",
       "  ▿ 8 : 2 elements\n",
       "    - key : 1\n",
       "    ▿ value : 2 elements\n",
       "      - 0 : 69.0\n",
       "      - 1 : 1.0\n",
       "  ▿ 9 : 2 elements\n",
       "    - key : 4\n",
       "    ▿ value : 2 elements\n",
       "      - 0 : 69.0\n",
       "      - 1 : 4.0\n"
      ]
     },
     "execution_count": 8,
     "metadata": {},
     "output_type": "execute_result"
    }
   ],
   "source": [
    "for a in 1...10 {\n",
    "    if thingDictionary[a] == nil {\n",
    "        thingDictionary[a] = [Float(69)]\n",
    "    } \n",
    "    \n",
    "    thingDictionary[a]?.append(Float(a))\n",
    "}\n",
    "thingDictionary"
   ]
  },
  {
   "cell_type": "markdown",
   "metadata": {},
   "source": [
    "## Model\n"
   ]
  },
  {
   "cell_type": "code",
   "execution_count": 9,
   "metadata": {},
   "outputs": [],
   "source": [
    "//export\n",
    "public struct HyperParameters {\n",
    "    public let learningRate: Float\n",
    "}"
   ]
  },
  {
   "cell_type": "code",
   "execution_count": 10,
   "metadata": {},
   "outputs": [],
   "source": [
    "//export\n",
    "public protocol ParameterActivationSubscriber {\n",
    "    func observe(parameterNumber: Int, activations: TensorFloat)\n",
    "}"
   ]
  },
  {
   "cell_type": "code",
   "execution_count": 11,
   "metadata": {},
   "outputs": [],
   "source": [
    "//export\n",
    "public protocol TeachableModel {\n",
    "    \n",
    "    func apply(inputTensor: TensorFloat) -> TensorFloat\n",
    "    \n",
    "    func forwardPass(inputTensor: TensorFloat) -> (TensorFloat, TeachableModel)\n",
    "    \n",
    "    func backwardsPass(ddx: TensorFloat, hyperParameters: HyperParameters) -> TeachableModel    \n",
    "    \n",
    "    func addActivationSubscriber(subscriber: @escaping (Int, TensorFloat) -> ()) -> TeachableModel\n",
    "}"
   ]
  },
  {
   "cell_type": "code",
   "execution_count": 12,
   "metadata": {},
   "outputs": [],
   "source": [
    "//export\n",
    "public protocol ModelParameterV2 {\n",
    "    \n",
    "    func forwardPass(inputTensor: TensorFloat) -> (TensorFloat, ModelParameterV2)\n",
    "    \n",
    "    func apply(_ inputTensor: TensorFloat) -> TensorFloat \n",
    "    \n",
    "    func backwardPass(ddx: TensorFloat, hyperParameters: HyperParameters) -> (TensorFloat, ModelParameterV2)\n",
    "}"
   ]
  },
  {
   "cell_type": "code",
   "execution_count": 13,
   "metadata": {},
   "outputs": [],
   "source": [
    "//export\n",
    "public protocol ModelParameters {\n",
    "    \n",
    "    func forwardPass(inputTensor: TensorFloat) -> (TensorFloat, ModelParameters)\n",
    "    \n",
    "    func apply(_ inputTensor: TensorFloat) -> TensorFloat \n",
    "    \n",
    "    func backwardPass(ddx: TensorFloat, hyperParameters: HyperParameters) -> (TensorFloat, ModelParameters)\n",
    "    \n",
    "    func subscribeToActivations(subscriber:@escaping (Int, TensorFloat) -> ()) -> ModelParameters\n",
    "}"
   ]
  },
  {
   "cell_type": "code",
   "execution_count": 14,
   "metadata": {},
   "outputs": [],
   "source": [
    "//export\n",
    "public struct SequentialParameter: ModelParameters {\n",
    "    \n",
    "    private let parameters: [ModelParameterV2]\n",
    "    private let subscribers: [(Int, TensorFloat) -> ()]\n",
    "    \n",
    "    public init(parameters: [ModelParameterV2]) {\n",
    "        self.parameters = parameters\n",
    "        subscribers = []\n",
    "    }\n",
    "    \n",
    "    private init(parameters: [ModelParameterV2],\n",
    "                 subscribers: [(Int, TensorFloat) -> ()]) {\n",
    "        self.parameters = parameters\n",
    "        self.subscribers = subscribers\n",
    "    }\n",
    "    \n",
    "    \n",
    "    public func apply(_ inputTensor: TensorFloat) -> TensorFloat {\n",
    "        return parameters.reduce(inputTensor) {\n",
    "            (layerInput, nextParameter) in nextParameter.apply(layerInput)\n",
    "        }\n",
    "    }\n",
    "    \n",
    "    public func forwardPass(inputTensor: TensorFloat) -> (TensorFloat, ModelParameters) {\n",
    "        return runThroughLayers({self.parameters}, inputTensor, {\n",
    "            $0.append($1)\n",
    "            return $0\n",
    "        }) { (previousActivations: TensorFloat, \n",
    "              parameter: ModelParameterV2, \n",
    "              index: Int) -> (TensorFloat, ModelParameterV2) in\n",
    "            let activations = parameter.forwardPass(inputTensor: previousActivations)\n",
    "            self.subscribers.forEach { subscriber in\n",
    "                                      subscriber(index, activations.0)\n",
    "            }\n",
    "            return activations\n",
    "        }\n",
    "    }\n",
    "    \n",
    "    public func backwardPass(ddx: TensorFloat, \n",
    "                             hyperParameters: HyperParameters) -> (TensorFloat, ModelParameters) {\n",
    "        return runThroughLayers({self.parameters.reversed()}, ddx, {\n",
    "            $0.insert($1, at: 0)\n",
    "            return $0\n",
    "        }) { (previousActivations: TensorFloat, \n",
    "              parameter: ModelParameterV2, \n",
    "              index: Int) -> (TensorFloat, ModelParameterV2) in\n",
    "            let activations = parameter.backwardPass(ddx: previousActivations,\n",
    "                                                     hyperParameters: hyperParameters)\n",
    "            \n",
    "            return activations\n",
    "        }\n",
    "    }\n",
    "    \n",
    "    \n",
    "    private func runThroughLayers(\n",
    "        _ parameterSupplier: () -> [ModelParameterV2],\n",
    "        _ initialValue: TensorFloat,\n",
    "        _ paramAccumulator: (inout [ModelParameterV2], ModelParameterV2) -> [ModelParameterV2],\n",
    "        _ paramActivator: (TensorFloat, ModelParameterV2, Int) -> (TensorFloat, ModelParameterV2)) \n",
    "                                                                            -> (TensorFloat, ModelParameters){\n",
    "        var nextParamters : [ModelParameterV2] = []\n",
    "        let (output, forwardParams) = parameterSupplier().enumerated().reduce(\n",
    "            (activations: initialValue, params:  nextParamters)) {\n",
    "            (accum, nextParameterAndValue) in \n",
    "            let (index, nextParameter) = nextParameterAndValue\n",
    "            var (activations, params) = accum\n",
    "            let (nextInput, modifiedParam) = paramActivator(activations, nextParameter, index)\n",
    "            return (activations: nextInput,\n",
    "                    params: paramAccumulator(&params, modifiedParam))\n",
    "        }\n",
    "\n",
    "        return (output, SequentialParameter(parameters: forwardParams,\n",
    "                                            subscribers: subscribers))\n",
    "    }\n",
    "    \n",
    "    public func subscribeToActivations(subscriber: @escaping (Int, TensorFloat) -> ()) -> ModelParameters {\n",
    "        let subscribers: [(Int, TensorFloat) -> ()] = [subscriber] + self.subscribers\n",
    "        return SequentialParameter(parameters: parameters, \n",
    "                                   subscribers: subscribers)\n",
    "        \n",
    "    }\n",
    "    \n",
    "}"
   ]
  },
  {
   "cell_type": "code",
   "execution_count": 15,
   "metadata": {},
   "outputs": [],
   "source": [
    "public func reLUAndGradient(inputTensor: TensorFloat) -> (value: TensorFloat, \n",
    "                                                   gradientChain: (TensorFloat) -> TensorFloat){\n",
    "    return (value: max(0.0, inputTensor), \n",
    "            gradientChain: {ddx in ddx.replacing(with: TensorFloat(zeros: ddx.shape), where: inputTensor .< 0.0 )})\n",
    "}"
   ]
  },
  {
   "cell_type": "code",
   "execution_count": 16,
   "metadata": {},
   "outputs": [],
   "source": [
    "//export\n",
    "public struct ReLUParameter: ModelParameterV2 {\n",
    "    \n",
    "    private let gradientChain: (TensorFloat) -> TensorFloat\n",
    "    \n",
    "    public init() {\n",
    "        gradientChain = { $0 }\n",
    "    }\n",
    "    \n",
    "    private init(_ gradChain: @escaping (TensorFloat) -> TensorFloat) {\n",
    "        gradientChain = gradChain\n",
    "    }\n",
    "    \n",
    "    public func apply(_ inputTensor: TensorFloat) -> TensorFloat {\n",
    "        return reLU(tensor: inputTensor)\n",
    "    }\n",
    "    \n",
    "    public func forwardPass(inputTensor: TensorFloat) -> (TensorFloat, ModelParameterV2) {\n",
    "        let (value, gradientDude) = reLUAndGradient(inputTensor: inputTensor)\n",
    "        return (value, ReLUParameter(gradientDude))\n",
    "    }\n",
    "    \n",
    "    public func backwardPass(ddx: TensorFloat,\n",
    "                             hyperParameters: HyperParameters) -> (TensorFloat, ModelParameterV2) {\n",
    "        let reluDDX = gradientChain(ddx)\n",
    "        return (reluDDX, self)\n",
    "    }\n",
    "}"
   ]
  },
  {
   "cell_type": "code",
   "execution_count": 17,
   "metadata": {},
   "outputs": [],
   "source": [
    "//export\n",
    "\n",
    "// Matrix Shapez\n",
    "// M x N * N x O = M x O\n",
    "\n",
    "// ddx shape = M x O\n",
    "\n",
    "public func linearCombinationAndGradient(inputTensor: TensorFloat, \n",
    "                                  weightParameter: TensorFloat,\n",
    "                                  biasParameter: TensorFloat) -> (value: TensorFloat, \n",
    "                                                                  gradientChain: (TensorFloat) -> (TensorFloat, TensorFloat, TensorFloat)) {\n",
    "    return (value: matmul(inputTensor, weightParameter) + biasParameter, \n",
    "            gradientChain: { ddx in \n",
    "                           ( inputTensor,\n",
    "                             matmul(inputTensor.transposed(),  ddx),\n",
    "                             ddx.unbroadcasted(to: biasParameter.shape)\n",
    "                           )\n",
    "                           })\n",
    "}"
   ]
  },
  {
   "cell_type": "code",
   "execution_count": 18,
   "metadata": {},
   "outputs": [],
   "source": [
    "//export\n",
    "public extension Tensor where Scalar: TensorFlowFloatingPoint {\n",
    "    init(kaimingUniform shape: TensorShape, negativeSlope: Double = 1.0) {\n",
    "        // Assumes Leaky ReLU nonlinearity\n",
    "        let gain = Scalar.init(TensorFlow.sqrt(2.0 / (1.0 + TensorFlow.pow(negativeSlope, 2))))\n",
    "        let spatialDimCount = shape.count - 2\n",
    "        let receptiveField = shape[0..<spatialDimCount].contiguousSize\n",
    "        let fanIn = shape[shape.count - 2] * receptiveField\n",
    "        let bound = TensorFlow.sqrt(Scalar(3.0)) * gain / TensorFlow.sqrt(Scalar(fanIn))\n",
    "        self = bound * (2 * Tensor(randomUniform: shape) - 1) // todo: I goofed with this\n",
    "    }\n",
    "}"
   ]
  },
  {
   "cell_type": "code",
   "execution_count": 19,
   "metadata": {},
   "outputs": [],
   "source": [
    "//export\n",
    "typealias ThreeInputGradient = (TensorFloat) -> (TensorFloat, TensorFloat, TensorFloat)\n",
    "public struct DenseLayerV2: ModelParameterV2 {\n",
    "    let weightParameter: TensorFloat\n",
    "    let biasParameter: TensorFloat\n",
    "    private let gradientChain: ThreeInputGradient\n",
    "\n",
    "    private init(weightParameter: TensorFloat,\n",
    "                 biasParameter: TensorFloat,\n",
    "                 gradientChain: @escaping ThreeInputGradient) {        \n",
    "        self.weightParameter = weightParameter\n",
    "        self.biasParameter = biasParameter\n",
    "        self.gradientChain = gradientChain\n",
    "    }\n",
    "\n",
    "    private init(denseLayer: DenseLayerV2,\n",
    "                 gradientChain: @escaping ThreeInputGradient) {\n",
    "        self.weightParameter = denseLayer.weightParameter\n",
    "        self.biasParameter = denseLayer.biasParameter\n",
    "        self.gradientChain = gradientChain\n",
    "    }\n",
    "\n",
    "    public init(inputSize: Int,\n",
    "                outputSize: Int){\n",
    "        self.weightParameter = TensorFloat(kaimingUniform: TensorShape([inputSize, outputSize]))\n",
    "        self.biasParameter = TensorFloat(zeros: [outputSize])\n",
    "        self.gradientChain = { (x: TensorFloat)  in (TensorFloat([1]), TensorFloat([1]), TensorFloat([1]))}\n",
    "    }\n",
    "\n",
    "    public func forwardPass(inputTensor: TensorFloat) -> (TensorFloat, ModelParameterV2) {\n",
    "        let (parameterOutput, parameterGradientChain) =\n",
    "          linearCombinationAndGradient(inputTensor: inputTensor,\n",
    "                                       weightParameter: self.weightParameter,\n",
    "                                       biasParameter: self.biasParameter)\n",
    "\n",
    "        return (parameterOutput, DenseLayerV2(denseLayer: self,\n",
    "                                       gradientChain: {ddx in parameterGradientChain(ddx)}))\n",
    "    }\n",
    "\n",
    "    public func apply(_ inputTensor: TensorFloat) -> TensorFloat {\n",
    "        return linearCombination(inputs: inputTensor,\n",
    "                                       weights: self.weightParameter,\n",
    "                                       bias: self.biasParameter)\n",
    "    }\n",
    "\n",
    "    public func backwardPass(ddx: TensorFloat, \n",
    "                             hyperParameters: HyperParameters) -> (TensorFloat, ModelParameterV2) {\n",
    "        let (ddxInput, ddxParameter, ddxBias) = self.gradientChain(ddx)\n",
    "        return (ddxInput, DenseLayerV2(\n",
    "            weightParameter: self.weightParameter - hyperParameters.learningRate * ddxParameter,\n",
    "            biasParameter: self.biasParameter - hyperParameters.learningRate * ddxBias,\n",
    "            gradientChain: self.gradientChain))\n",
    "    }\n",
    "}\n",
    "\n"
   ]
  },
  {
   "cell_type": "markdown",
   "metadata": {},
   "source": [
    "### SequentialModel"
   ]
  },
  {
   "cell_type": "code",
   "execution_count": 20,
   "metadata": {},
   "outputs": [],
   "source": [
    "struct SequentialModel : TeachableModel {\n",
    "    \n",
    "    private let sequentialParameter: ModelParameters\n",
    "    \n",
    "    private init(sequentialParameter: ModelParameters){\n",
    "        self.sequentialParameter = sequentialParameter\n",
    "    }\n",
    "    \n",
    "    public init(layerSizes: [Int]) {\n",
    "        let denseLayers = layerSizes.prefix(upTo: layerSizes.count - 1)\n",
    "                                        .enumerated()\n",
    "                                        .flatMap { \n",
    "                                            (element: (Int, Int)) -> [ModelParameterV2] in                                       \n",
    "                                            if(element.0 < layerSizes.count - 2){\n",
    "                                               return [DenseLayerV2(inputSize: element.1, \n",
    "                                                               outputSize: layerSizes[element.0 + 1]), \n",
    "                                                ReLUParameter()]\n",
    "                                            }\n",
    "                                            else {\n",
    "                                                return [\n",
    "                                                    DenseLayerV2(inputSize: element.1, \n",
    "                                                               outputSize: layerSizes[element.0 + 1])\n",
    "                                                ]\n",
    "                                            }\n",
    "                                        }\n",
    "        self.sequentialParameter = SequentialParameter(parameters: denseLayers)\n",
    "    }\n",
    "    \n",
    "    public func apply(inputTensor: TensorFloat) -> TensorFloat {\n",
    "        return self.sequentialParameter.apply(inputTensor)\n",
    "    }\n",
    "    \n",
    "    public func forwardPass(inputTensor: TensorFloat) -> (TensorFloat, TeachableModel) {\n",
    "        let (activations, newSequentialModel) = self.sequentialParameter\n",
    "                                                        .forwardPass(inputTensor: inputTensor)\n",
    "        return (activations, SequentialModel(sequentialParameter: newSequentialModel))\n",
    "    }\n",
    "    \n",
    "    public func backwardsPass(ddx: TensorFloat, \n",
    "                              hyperParameters: HyperParameters) -> TeachableModel {\n",
    "        let (_, optimizedSequentialLayer) = self.sequentialParameter.backwardPass(ddx: ddx, \n",
    "                                                          hyperParameters: hyperParameters)\n",
    "        return SequentialModel(sequentialParameter: optimizedSequentialLayer)\n",
    "    }\n",
    "    \n",
    "    public func addActivationSubscriber(subscriber: @escaping (Int, TensorFloat) -> ()) -> TeachableModel {\n",
    "     return SequentialModel(sequentialParameter: sequentialParameter\n",
    "                                                       .subscribeToActivations(subscriber: subscriber))   \n",
    "    }\n",
    "}"
   ]
  },
  {
   "cell_type": "code",
   "execution_count": 21,
   "metadata": {},
   "outputs": [
    {
     "data": {
      "text/plain": [
       "▿ SequentialModel\n",
       "  ▿ sequentialParameter : SequentialParameter\n",
       "    ▿ parameters : 5 elements\n",
       "      ▿ 0 : DenseLayerV2\n",
       "        - weightParameter : [[    0.531742,  -0.16041973,  -0.22659162,    0.4891437,  -0.13396582, -0.087965146],\n",
       " [ -0.48672417,     -0.50981,  -0.30415565,   0.48503232,  -0.54052085,  0.055182382],\n",
       " [ -0.37795827,    0.6086668,   0.44635797,   0.22115964,   0.44927347,    0.4935367],\n",
       " [  0.54640234,  -0.60888433,  -0.39720672,   0.46841404,   -0.5780957,  -0.15136695],\n",
       " [  0.20016602,   0.34465894,  0.056583554,   -0.3094701,   0.30766055,   0.28652516],\n",
       " [ 0.042751566,  -0.20981859,   0.22163516,  -0.50377005,   0.02134432,   0.32411093],\n",
       " [ -0.19172424,  -0.49839723,    0.5237634,   0.33614725,   -0.2677785,   0.49483234],\n",
       " [  -0.3919745,   0.08065444,   0.54328394,   0.17013025,  -0.31073183,   0.31374747]]\n",
       "        - biasParameter : [0.0, 0.0, 0.0, 0.0, 0.0, 0.0]\n",
       "        - gradientChain : (Function)\n",
       "      ▿ 1 : ReLUParameter\n",
       "        - gradientChain : (Function)\n",
       "      ▿ 2 : DenseLayerV2\n",
       "        - weightParameter : [[ 0.38728333,  0.41472128,  0.59161276],\n",
       " [ 0.13499264, -0.09446087,  0.34248376],\n",
       " [-0.37313515,  -0.3806705, -0.38390064],\n",
       " [-0.28260288,  0.36274916, -0.30063364],\n",
       " [ 0.35109723,  -0.5220543, -0.65966344],\n",
       " [  0.5257059,  0.39944237,    0.433071]]\n",
       "        - biasParameter : [0.0, 0.0, 0.0]\n",
       "        - gradientChain : (Function)\n",
       "      ▿ 3 : ReLUParameter\n",
       "        - gradientChain : (Function)\n",
       "      ▿ 4 : DenseLayerV2\n",
       "        - weightParameter : [[  0.5165143],\n",
       " [ 0.09769058],\n",
       " [-0.34416032]]\n",
       "        - biasParameter : [0.0]\n",
       "        - gradientChain : (Function)\n",
       "    - subscribers : 0 elements\n"
      ]
     },
     "execution_count": 21,
     "metadata": {},
     "output_type": "execute_result"
    }
   ],
   "source": [
    "let testSequentialModel = SequentialModel(layerSizes: [8, 6, 3, 1])\n",
    "testSequentialModel"
   ]
  },
  {
   "cell_type": "markdown",
   "metadata": {},
   "source": [
    "## Data"
   ]
  },
  {
   "cell_type": "code",
   "execution_count": 22,
   "metadata": {},
   "outputs": [],
   "source": [
    "//export\n",
    "public struct DataBunch<T> where T: TensorGroup {\n",
    "    public let trainingDataset: Dataset<T>\n",
    "    public let validationDataset: Dataset<T>\n",
    "}"
   ]
  },
  {
   "cell_type": "code",
   "execution_count": 23,
   "metadata": {},
   "outputs": [],
   "source": [
    "// export\n",
    "public struct SupervisedLearningGroup {\n",
    "    let features: TensorFloat\n",
    "    let labels: TensorFloat\n",
    "}\n",
    "\n",
    "extension SupervisedLearningGroup: TensorGroup {\n",
    "    \n",
    "    public static var _typeList: [TensorDataType] = [\n",
    "        Float.tensorFlowDataType,\n",
    "        Float.tensorFlowDataType\n",
    "    ]\n",
    "    public static var _unknownShapeList: [TensorShape?] = [nil, nil]\n",
    "    public var _tensorHandles: [_AnyTensorHandle] {\n",
    "        fatalError(\"unimplemented\")\n",
    "    }\n",
    "    public func _unpackTensorHandles(into address: UnsafeMutablePointer<CTensorHandle>?) {\n",
    "        address!.advanced(by: 0).initialize(to: features.handle._cTensorHandle)\n",
    "        address!.advanced(by: 1).initialize(to: labels.handle._cTensorHandle)\n",
    "    }\n",
    "    public init(_owning tensorHandles: UnsafePointer<CTensorHandle>?) {\n",
    "        features = Tensor(handle: TensorHandle(_owning: tensorHandles!.advanced(by: 0).pointee))\n",
    "        labels = Tensor(handle: TensorHandle(_owning: tensorHandles!.advanced(by: 1).pointee))\n",
    "    }\n",
    "    public init<C: RandomAccessCollection>(_handles: C) where C.Element: _AnyTensorHandle {\n",
    "        fatalError(\"unimplemented\")\n",
    "    }\n",
    "}\n",
    "\n",
    "public extension Sequence where Element == SupervisedLearningGroup {\n",
    "    var first: SupervisedLearningGroup? {\n",
    "        return first(where: { _ in true })\n",
    "    }\n",
    "}\n",
    "\n",
    "public extension Dataset where Element == SupervisedLearningGroup {\n",
    "    init(featuresTensor: TensorFloat, labelsTensor: TensorFloat) {\n",
    "        self.init(elements: SupervisedLearningGroup(\n",
    "                                                    features: featuresTensor, \n",
    "                                                    labels: labelsTensor.expandingShape(at: 1)))\n",
    "    }\n",
    "}"
   ]
  },
  {
   "cell_type": "code",
   "execution_count": 24,
   "metadata": {},
   "outputs": [],
   "source": [
    "import Python"
   ]
  },
  {
   "cell_type": "markdown",
   "metadata": {},
   "source": [
    "\n",
    "## Teach"
   ]
  },
  {
   "cell_type": "code",
   "execution_count": 25,
   "metadata": {},
   "outputs": [],
   "source": [
    "//export \n",
    "public protocol TeachingDelegate {\n",
    "    \n",
    "    func preTeach(epochs: Int)\n",
    "    \n",
    "    func postTeach()\n",
    "    \n",
    "    func preEpoch(epochNumber: Int, dataSet: Dataset<SupervisedLearningGroup>)\n",
    "    \n",
    "    func postEpoch(epochNumber: Int)\n",
    "    \n",
    "    func processBatch(model: TeachableModel, \n",
    "                      xDataPoints: TensorFloat,\n",
    "                      yValidationPoints: TensorFloat) -> TeachableModel    \n",
    "}"
   ]
  },
  {
   "cell_type": "code",
   "execution_count": 26,
   "metadata": {},
   "outputs": [],
   "source": [
    "//export\n",
    "public struct Teacher {\n",
    "    \n",
    "    private let dataBunch: DataBunch<SupervisedLearningGroup>\n",
    "    private let trainingDelegate: TeachingDelegate\n",
    "    private let validationDelegate: TeachingDelegate\n",
    "    \n",
    "    \n",
    "    public func teachModel(model: TeachableModel,\n",
    "                           numberOfEpochs: Int) -> TeachableModel {\n",
    "        notifyPreTeach(epochs: numberOfEpochs)\n",
    "        let taughtModel = (1...numberOfEpochs)\n",
    "            .reduce(into: model) { (currentModel: inout TeachableModel, \n",
    "                                    epoch: Int) in\n",
    "                let trainedModel = trainModel(modelToTeach: currentModel,\n",
    "                                              currentEpoch: epoch)\n",
    "                currentModel = validateModel(modelToValidate: trainedModel,\n",
    "                                             currentEpoch: epoch)\n",
    "            }\n",
    "        notifyPostTeach()\n",
    "        return taughtModel\n",
    "    }\n",
    "    \n",
    "    private func trainModel(modelToTeach: TeachableModel, \n",
    "                            currentEpoch: Int) -> TeachableModel {\n",
    "        return processDataSet(model: modelToTeach,\n",
    "                           epoch: currentEpoch,\n",
    "                           dataSet: dataBunch.trainingDataset,\n",
    "                           teachingDelegate: trainingDelegate)\n",
    "    }\n",
    "    \n",
    "    private func validateModel(modelToValidate: TeachableModel, \n",
    "                               currentEpoch: Int) -> TeachableModel {\n",
    "        return processDataSet(model: modelToValidate,\n",
    "                              epoch: currentEpoch,\n",
    "                              dataSet: dataBunch.validationDataset,\n",
    "                              teachingDelegate: validationDelegate)\n",
    "    }\n",
    "    \n",
    "    private func processDataSet(model: TeachableModel,\n",
    "                             epoch: Int,\n",
    "                             dataSet: Dataset<SupervisedLearningGroup>,\n",
    "                             teachingDelegate: TeachingDelegate\n",
    "                            ) -> TeachableModel {\n",
    "        \n",
    "        teachingDelegate.preEpoch(epochNumber: epoch, \n",
    "                                  dataSet: dataSet)\n",
    "        \n",
    "        let taughtModel: TeachableModel = dataSet.reduce(model) {\n",
    "            (currentModel:TeachableModel, dataGroup: SupervisedLearningGroup) in\n",
    "            return teachingDelegate.processBatch(model: currentModel, \n",
    "                                                         xDataPoints: dataGroup.features, \n",
    "                                                         yValidationPoints: dataGroup.labels)\n",
    "        }\n",
    "        \n",
    "        teachingDelegate.postEpoch(epochNumber: epoch)\n",
    "        \n",
    "        return taughtModel\n",
    "    }\n",
    "    \n",
    "    \n",
    "    private func notifyPreTeach(epochs: Int) {\n",
    "        trainingDelegate.preTeach(epochs: epochs)\n",
    "        validationDelegate.preTeach(epochs: epochs)\n",
    "    }\n",
    "    \n",
    "    private func notifyPostTeach() {\n",
    "        trainingDelegate.postTeach()\n",
    "        validationDelegate.postTeach()\n",
    "    }\n",
    "}"
   ]
  },
  {
   "cell_type": "markdown",
   "metadata": {},
   "source": [
    "## Teaching Delegates"
   ]
  },
  {
   "cell_type": "code",
   "execution_count": 27,
   "metadata": {},
   "outputs": [],
   "source": [
    "//export\n",
    "public protocol LossFunction {\n",
    "    func lossAndGradient(expectedTensor: TensorFloat,\n",
    "                         actualTensor: TensorFloat) -> (loss: TensorFloat,\n",
    "                                                        gradientSupplier: () -> TensorFloat)\n",
    "    func calculateLoss(expectedTensor: TensorFloat,\n",
    "                       actualTensor: TensorFloat) -> TensorFloat\n",
    "}"
   ]
  },
  {
   "cell_type": "code",
   "execution_count": 28,
   "metadata": {},
   "outputs": [],
   "source": [
    "//export\n",
    "public func squaredWithGradient(inputTensor: TensorFloat) -> (value: TensorFloat, \n",
    "                                                       gradientChain: (TensorFloat) -> TensorFloat) {\n",
    "    return (value: inputTensor * inputTensor, \n",
    "            gradientChain: {ddx in 2 * inputTensor * ddx})\n",
    "}"
   ]
  },
  {
   "cell_type": "code",
   "execution_count": 29,
   "metadata": {},
   "outputs": [],
   "source": [
    "//export\n",
    "public func meanWithGradient(inputTensor: TensorFloat) -> (value: TensorFloat, \n",
    "                                                       gradientChain: (TensorFloat) -> TensorFloat) {\n",
    " let totalElements = Float(inputTensor.shape.dimensions.reduce(1) { accum, thing in accum * thing })\n",
    " return (value: inputTensor.sum(squeezingAxes: Array(inputTensor.shape.indices)) / totalElements,\n",
    "         gradientChain: {ddx in TensorFloat([1]) / totalElements * ddx})   \n",
    "}"
   ]
  },
  {
   "cell_type": "code",
   "execution_count": 30,
   "metadata": {},
   "outputs": [],
   "source": [
    "//export\n",
    "public struct MeanSquaredErrorLossFunction: LossFunction {\n",
    "        \n",
    "    public func calculateLoss(expectedTensor: TensorFloat, \n",
    "                              actualTensor: TensorFloat) -> TensorFloat {\n",
    "        let error: TensorFloat = calculateError(expectedTensor: expectedTensor,\n",
    "                                   actualTensor: actualTensor)\n",
    "        return error.squared().mean()\n",
    "    }\n",
    "    \n",
    "    public func lossAndGradient(expectedTensor: TensorFloat, \n",
    "                                actualTensor: TensorFloat) -> (loss: TensorFloat, \n",
    "                                                               gradientSupplier: () -> TensorFloat) {\n",
    "        let error = calculateError(expectedTensor:expectedTensor, \n",
    "                                   actualTensor: actualTensor)\n",
    "        let (squareValue, squareGradient) = squaredWithGradient(inputTensor: error)\n",
    "        let (meanValue, meanGradient) = meanWithGradient(inputTensor: squareValue)\n",
    "\n",
    "        return (loss: meanValue, gradientSupplier: { squareGradient(meanGradient(TensorFloat([1]))) })\n",
    "    }\n",
    "    \n",
    "    private func calculateError(expectedTensor: TensorFloat,\n",
    "                                actualTensor: TensorFloat) -> TensorFloat {\n",
    "        assert(expectedTensor.shape == actualTensor.shape, \"Expected \\(expectedTensor.shape) to be the same as \\(actualTensor.shape)\")\n",
    "        return actualTensor - expectedTensor // order is SUPER important here\n",
    "    }\n",
    "}"
   ]
  },
  {
   "cell_type": "code",
   "execution_count": 31,
   "metadata": {},
   "outputs": [],
   "source": [
    "public func pullClassificationsFromPredictions(predictions: TensorFloat) -> TensorFloat {\n",
    "    return TensorFloat(predictions.argmax(squeezingAxis: 1).expandingShape(at: 1))\n",
    "}"
   ]
  },
  {
   "cell_type": "code",
   "execution_count": 32,
   "metadata": {},
   "outputs": [],
   "source": [
    "class ValidationDelegate: TeachingDelegate {\n",
    "    \n",
    "    let lossFunction: LossFunction\n",
    "    let predictionExtractor: (TensorFloat) -> TensorFloat\n",
    "    \n",
    "    public init(lossFunction: LossFunction, \n",
    "                predictionExtractor: @escaping (TensorFloat)->TensorFloat) {\n",
    "        self.lossFunction = lossFunction\n",
    "        self.predictionExtractor = predictionExtractor\n",
    "    }\n",
    "    \n",
    "    \n",
    "    private var epochNumber: Int = 0\n",
    "    private var numberOfBatches: Int = 0\n",
    "    private var totalLoss: TensorFloat = TensorFloat([0.0])\n",
    "    var lossCount: [Float] = []\n",
    "    \n",
    "    public func postEpoch(epochNumber: Int) {\n",
    "        let loss = totalLoss / Float(numberOfBatches) \n",
    "        lossCount.append(loss.scalarized())\n",
    "        \n",
    "    }\n",
    "    \n",
    "    public func preEpoch(epochNumber: Int, \n",
    "                         dataSet: Dataset<SupervisedLearningGroup>) {\n",
    "        numberOfBatches = 0\n",
    "        totalLoss = TensorFloat([0.0])\n",
    "    }\n",
    "    \n",
    "    public func preTeach(epochs: Int) {\n",
    "    \n",
    "    }\n",
    "    \n",
    "    public func postTeach() {\n",
    "    \n",
    "    }\n",
    "    \n",
    "    \n",
    "    public func processBatch(model: TeachableModel, \n",
    "                             xDataPoints: TensorFloat, \n",
    "                             yValidationPoints: TensorFloat) -> TeachableModel {\n",
    "\n",
    "        let predictions = model.apply(inputTensor: xDataPoints)\n",
    "        \n",
    "        let loss = lossFunction.calculateLoss(expectedTensor: yValidationPoints, \n",
    "                                                                    actualTensor: predictionExtractor(predictions))\n",
    "        totalLoss += loss\n",
    "        numberOfBatches += 1\n",
    "        \n",
    "        return model\n",
    "    }\n",
    "    \n",
    "}"
   ]
  },
  {
   "cell_type": "code",
   "execution_count": 33,
   "metadata": {},
   "outputs": [],
   "source": [
    "class TrainingDelegate: TeachingDelegate {\n",
    "    \n",
    "    let lossFunction: LossFunction\n",
    "    let predictionExtractor: (TensorFloat) -> TensorFloat\n",
    "    \n",
    "    public init(lossFunction: LossFunction, \n",
    "                predictionExtractor: @escaping (TensorFloat)->TensorFloat) {\n",
    "        self.lossFunction = lossFunction\n",
    "        self.predictionExtractor = predictionExtractor\n",
    "    }\n",
    "    \n",
    "    private var epochNumber: Int = 0\n",
    "    private var numberOfBatches: Int = 0\n",
    "    private var totalLoss: TensorFloat = TensorFloat([0.0])\n",
    "    var lossCount: [Float] = []\n",
    "    var activationBuckets: [Int: [[Float]]] = [:]\n",
    "    \n",
    "    \n",
    "    public func postEpoch(epochNumber: Int) {\n",
    "        let loss = totalLoss / Float(numberOfBatches)\n",
    "        lossCount.append(loss.scalarized())\n",
    "    }\n",
    "    \n",
    "    public func preEpoch(epochNumber: Int, \n",
    "                         dataSet: Dataset<SupervisedLearningGroup>) {\n",
    "        numberOfBatches = 0\n",
    "        totalLoss = TensorFloat([0.0])\n",
    "    }\n",
    "    \n",
    "    public func preTeach(epochs: Int) {\n",
    "    \n",
    "    }\n",
    "    \n",
    "    public func postTeach() {\n",
    "        \n",
    "    }\n",
    "    \n",
    "    \n",
    "    public func processBatch(model: TeachableModel, \n",
    "                             xDataPoints: TensorFloat, \n",
    "                             yValidationPoints: TensorFloat) -> TeachableModel {\n",
    "        \n",
    "        let (predictions, modelWithChain) = model.forwardPass(inputTensor: xDataPoints)\n",
    "        \n",
    "        let (lossyBoi, predictionGradientSupplier) = lossFunction.lossAndGradient(expectedTensor: yValidationPoints, \n",
    "                                                                    actualTensor: predictionExtractor(predictions))\n",
    "        \n",
    "        totalLoss += lossyBoi\n",
    "        numberOfBatches += 1\n",
    "        \n",
    "        // todo: Optimize Hyper Parameters beforehand\n",
    "        let hyperParameters = HyperParameters(learningRate: 1e-2)\n",
    "        \n",
    "        return modelWithChain.backwardsPass(ddx: predictionGradientSupplier(),\n",
    "                                            hyperParameters: hyperParameters)\n",
    "    }\n",
    "    \n",
    "}"
   ]
  },
  {
   "cell_type": "markdown",
   "metadata": {},
   "source": [
    "# Point Data Trials\n",
    "---"
   ]
  },
  {
   "cell_type": "code",
   "execution_count": 34,
   "metadata": {},
   "outputs": [
    {
     "data": {
      "text/plain": [
       "▿ [100, 2]\n",
       "  ▿ dimensions : 2 elements\n",
       "    - 0 : 100\n",
       "    - 1 : 2\n"
      ]
     },
     "execution_count": 34,
     "metadata": {},
     "output_type": "execute_result"
    }
   ],
   "source": [
    "let n = 100\n",
    "let inputPoints = TensorFloat(randomNormal: [100, 1])\n",
    "let A = inputPoints.concatenated(with: TensorFloat(ones: inputPoints.shape), alongAxis: 1)\n",
    "A.shape"
   ]
  },
  {
   "cell_type": "code",
   "execution_count": 35,
   "metadata": {},
   "outputs": [
    {
     "data": {
      "text/plain": [
       "▿ [100, 1]\n",
       "  ▿ dimensions : 2 elements\n",
       "    - 0 : 100\n",
       "    - 1 : 1\n"
      ]
     },
     "execution_count": 35,
     "metadata": {},
     "output_type": "execute_result"
    }
   ],
   "source": [
    "let yValidationPoints = matmul(A, TensorFloat([-2, 7]).expandingShape(at: 1)) + \n",
    "                (TensorFloat(randomNormal: inputPoints.shape, seed: (69, 420)) * 2.5)\n",
    "yValidationPoints.shape"
   ]
  },
  {
   "cell_type": "code",
   "execution_count": 36,
   "metadata": {},
   "outputs": [
    {
     "data": {
      "text/plain": [
       "('inline', 'module://ipykernel.pylab.backend_inline')\n"
      ]
     },
     "execution_count": 36,
     "metadata": {},
     "output_type": "execute_result"
    }
   ],
   "source": [
    "import Python\n",
    "%include \"EnableIPythonDisplay.swift\"\n",
    "IPythonDisplay.shell.enable_matplotlib(\"inline\")"
   ]
  },
  {
   "cell_type": "code",
   "execution_count": 37,
   "metadata": {},
   "outputs": [],
   "source": [
    "public let plotter = Python.import(\"matplotlib.pyplot\")"
   ]
  },
  {
   "cell_type": "code",
   "execution_count": 38,
   "metadata": {},
   "outputs": [
    {
     "data": {
      "image/png": "[encoded data removed]",
      "text/plain": [
       "<Figure size 432x288 with 1 Axes>"
      ]
     },
     "metadata": {
      "needs_background": "light"
     },
     "output_type": "display_data"
    },
    {
     "data": {
      "text/plain": [
       "None\n"
      ]
     },
     "execution_count": 38,
     "metadata": {},
     "output_type": "execute_result"
    }
   ],
   "source": [
    "plotter.scatter(x: A.slice(lowerBounds: [0, 0], upperBounds:[A.shape[0], 1] ).makeNumpyArray(), \n",
    "                y: yValidationPoints.makeNumpyArray())\n",
    "plotter.show()\n"
   ]
  },
  {
   "cell_type": "code",
   "execution_count": 39,
   "metadata": {},
   "outputs": [],
   "source": [
    "func showYHat(yHat: TensorFloat) {\n",
    "    plotter.scatter(x: A.slice(lowerBounds: [0, 0], upperBounds:[A.shape[0], 1] ).makeNumpyArray(), \n",
    "                y: yValidationPoints.makeNumpyArray())\n",
    "    plotter.scatter(x: A.slice(lowerBounds: [0, 0], upperBounds:[A.shape[0], 1] ).makeNumpyArray(), \n",
    "                y: yHat.makeNumpyArray())\n",
    "    plotter.show()\n",
    "}"
   ]
  },
  {
   "cell_type": "code",
   "execution_count": 40,
   "metadata": {},
   "outputs": [
    {
     "data": {
      "text/plain": [
       "▿ SequentialModel\n",
       "  ▿ sequentialParameter : SequentialParameter\n",
       "    ▿ parameters : 1 element\n",
       "      ▿ 0 : DenseLayerV2\n",
       "        - weightParameter : [[ 0.5442855],\n",
       " [0.13326064]]\n",
       "        - biasParameter : [0.0]\n",
       "        - gradientChain : (Function)\n",
       "    - subscribers : 0 elements\n"
      ]
     },
     "execution_count": 40,
     "metadata": {},
     "output_type": "execute_result"
    }
   ],
   "source": [
    "let linearModel = SequentialModel(layerSizes: [2, 1])\n",
    "linearModel"
   ]
  },
  {
   "cell_type": "code",
   "execution_count": 41,
   "metadata": {},
   "outputs": [
    {
     "data": {
      "image/png": "[encoded data removed]",
      "text/plain": [
       "<Figure size 432x288 with 1 Axes>"
      ]
     },
     "metadata": {
      "needs_background": "light"
     },
     "output_type": "display_data"
    }
   ],
   "source": [
    "showYHat(yHat: linearModel.apply(inputTensor: A))"
   ]
  },
  {
   "cell_type": "code",
   "execution_count": 42,
   "metadata": {},
   "outputs": [],
   "source": [
    "//export\n",
    "public extension Dataset where Element == SupervisedLearningGroup {\n",
    "    init(featureTensor: TensorFloat, labelTensor: TensorFloat) {\n",
    "        self.init(elements: SupervisedLearningGroup(features: featureTensor, \n",
    "                                     labels: labelTensor))\n",
    "    }\n",
    "}"
   ]
  },
  {
   "cell_type": "code",
   "execution_count": 43,
   "metadata": {},
   "outputs": [],
   "source": [
    "let linearDataSet = Dataset(featureTensor: A, labelTensor: yValidationPoints).batched(100)\n",
    "let linearDataBunch = DataBunch(trainingDataset: linearDataSet,\n",
    "                               validationDataset: linearDataSet)"
   ]
  },
  {
   "cell_type": "code",
   "execution_count": 44,
   "metadata": {},
   "outputs": [],
   "source": [
    "let meanSquaredLossFunction = MeanSquaredErrorLossFunction()\n",
    "let simpleTrainingDelegate = TrainingDelegate(lossFunction: meanSquaredLossFunction,\n",
    "                                              predictionExtractor: {$0})\n",
    "let simpleValidationDelegate = ValidationDelegate(lossFunction: meanSquaredLossFunction, \n",
    "                                                  predictionExtractor: {$0})"
   ]
  },
  {
   "cell_type": "code",
   "execution_count": 45,
   "metadata": {},
   "outputs": [],
   "source": [
    "let linearTeacher = Teacher(dataBunch: linearDataBunch, \n",
    "                            trainingDelegate: simpleTrainingDelegate, \n",
    "                            validationDelegate: simpleValidationDelegate)"
   ]
  },
  {
   "cell_type": "code",
   "execution_count": 46,
   "metadata": {},
   "outputs": [],
   "source": [
    "let taughtLinearModel = linearTeacher.teachModel(model: linearModel, \n",
    "                                                 numberOfEpochs: 50)"
   ]
  },
  {
   "cell_type": "code",
   "execution_count": 47,
   "metadata": {},
   "outputs": [
    {
     "data": {
      "image/png": "[encoded data removed]",
      "text/plain": [
       "<Figure size 432x288 with 1 Axes>"
      ]
     },
     "metadata": {
      "needs_background": "light"
     },
     "output_type": "display_data"
    }
   ],
   "source": [
    "showYHat(yHat: taughtLinearModel.apply(inputTensor: A))"
   ]
  },
  {
   "cell_type": "code",
   "execution_count": 48,
   "metadata": {},
   "outputs": [],
   "source": [
    "func plotLoss(lossArray: [Float]){\n",
    "    plotter.figure(figsize: [12, 8])\n",
    "\n",
    "    let lossAxes = plotter.subplot(2, 1, 2)\n",
    "    lossAxes.set_ylabel(\"Loss\")\n",
    "    lossAxes.set_xlabel(\"Epoch\")\n",
    "    lossAxes.plot(lossArray)\n",
    "\n",
    "    plotter.show()\n",
    "}"
   ]
  },
  {
   "cell_type": "code",
   "execution_count": 49,
   "metadata": {},
   "outputs": [
    {
     "data": {
      "image/png": "[encoded data removed]",
      "text/plain": [
       "<Figure size 864x576 with 1 Axes>"
      ]
     },
     "metadata": {
      "needs_background": "light"
     },
     "output_type": "display_data"
    }
   ],
   "source": [
    "plotLoss(lossArray: simpleTrainingDelegate.lossCount)"
   ]
  },
  {
   "cell_type": "code",
   "execution_count": 50,
   "metadata": {},
   "outputs": [
    {
     "data": {
      "image/png": "[encoded data removed]",
      "text/plain": [
       "<Figure size 864x576 with 1 Axes>"
      ]
     },
     "metadata": {
      "needs_background": "light"
     },
     "output_type": "display_data"
    }
   ],
   "source": [
    "plotLoss(lossArray: simpleValidationDelegate.lossCount)"
   ]
  },
  {
   "cell_type": "markdown",
   "metadata": {},
   "source": [
    "----"
   ]
  },
  {
   "cell_type": "markdown",
   "metadata": {},
   "source": [
    "# Activity Data!\n",
    "----"
   ]
  },
  {
   "cell_type": "code",
   "execution_count": 51,
   "metadata": {},
   "outputs": [],
   "source": [
    "public func reScaleTensor(tensorToRescale: TensorFloat) -> TensorFloat {\n",
    "    let maxBoi = TensorFloat([tensorToRescale.max()])\n",
    "    let minBoi = TensorFloat([tensorToRescale.min()])\n",
    "    return (tensorToRescale - minBoi) / (maxBoi - minBoi)\n",
    "}\n",
    "\n",
    "public func reScaleFeatures(featureTensor: TensorFloat, catVars: Set<Int>, contVars: Set<Int>) -> TensorFloat {\n",
    "    return TensorFloat(stacking: featureTensor.unstacked(alongAxis: 1).enumerated()\n",
    "                                               .map { (index, tensi) in \n",
    "                                                     if(catVars.contains(index)){\n",
    "                                                        return reScaleTensor(tensorToRescale: tensi)\n",
    "                                                     } else if (contVars.contains(index)){\n",
    "                                                       return normalizeTensor(tensor: tensi) \n",
    "                                                     } else {\n",
    "                                                       return tensi\n",
    "                                                     }\n",
    "                                               }, \n",
    "                       alongAxis: 1)\n",
    "}\n"
   ]
  },
  {
   "cell_type": "code",
   "execution_count": 52,
   "metadata": {},
   "outputs": [],
   "source": [
    "//export\n",
    "let carDataYCSV = \"./data/activity_labels.csv\"\n",
    "let carDataXCSV = \"./data/activities_x_data.csv\"\n",
    "\n",
    "public let numpy = Python.import(\"numpy\")\n",
    "\n",
    "func createDataSet(featureTensor: TensorFloat, \n",
    "                   labelTensor: TensorFloat, \n",
    "                   batchSize: Int) -> Dataset<SupervisedLearningGroup> {\n",
    "    return Dataset(featuresTensor: featureTensor, labelsTensor: labelTensor)\n",
    "                    .batched(batchSize)\n",
    "                    .shuffled(sampleCount: 64, \n",
    "                              randomSeed: 69, \n",
    "                              reshuffleForEachIterator: true)\n",
    "}\n",
    "\n",
    "public func getUsedCarDataBunch(validationSize: Double = 0.2,\n",
    "                             batchSize: Int = 64\n",
    "                            ) -> DataBunch<SupervisedLearningGroup> {\n",
    "    let usedCarFeaturesArray = numpy.loadtxt(carDataXCSV, \n",
    "                                delimiter: \",\", \n",
    "                                skiprows: 1, \n",
    "                                usecols: Array(1...4), \n",
    "                                dtype: Float.numpyScalarTypes.first!)\n",
    "    let categoricalVariableSet: Set = [0,1,2,3,4,5,6,7]\n",
    "    let continousVariableSet: Set = [-1]\n",
    "    let usedCarFeatureTensor = reScaleFeatures(featureTensor: TensorFloat(numpy: usedCarFeaturesArray)!, \n",
    "                                               catVars: categoricalVariableSet, \n",
    "                                               contVars: continousVariableSet)\n",
    "    \n",
    "    let usedCarPrices = numpy.loadtxt(carDataYCSV, \n",
    "                                delimiter: \",\", \n",
    "                                skiprows: 0, \n",
    "                                usecols: [1], \n",
    "                                dtype: Float.numpyScalarTypes.first!)\n",
    "    let usedCarLabelsTensor = TensorFloat(numpy: usedCarPrices)!\n",
    "    \n",
    "    let numberOfUsedCars = usedCarFeatureTensor.shape[0]\n",
    "    let numberOfUsedCarFeatures = usedCarFeatureTensor.shape[1]\n",
    "    \n",
    "    let validationDatasetSize = Int32(floor(validationSize * Double(numberOfUsedCars)))\n",
    "    let trainingDataSetSize = Int32(numberOfUsedCars) - validationDatasetSize\n",
    "    \n",
    "    \n",
    "    let splitFeatures = usedCarFeatureTensor\n",
    "                                .split(sizes: Tensor<Int32>([validationDatasetSize, trainingDataSetSize]), \n",
    "                                       alongAxis: 0)\n",
    "    let splitLabels = usedCarLabelsTensor\n",
    "                            .split(sizes: Tensor<Int32>([validationDatasetSize, trainingDataSetSize]), \n",
    "                                   alongAxis: 0)\n",
    "    \n",
    "    let validationDataSet = createDataSet(featureTensor: splitFeatures[0],\n",
    "                                        labelTensor: splitLabels[0], batchSize: batchSize)\n",
    "    let trainingDataSet = createDataSet(featureTensor: splitFeatures[1],\n",
    "                                        labelTensor: splitLabels[1], batchSize: batchSize)\n",
    "    return DataBunch(trainingDataset: trainingDataSet, \n",
    "                     validationDataset: validationDataSet)\n",
    "}"
   ]
  },
  {
   "cell_type": "code",
   "execution_count": 53,
   "metadata": {},
   "outputs": [],
   "source": [
    "let usedCarDataBunch = getUsedCarDataBunch()"
   ]
  },
  {
   "cell_type": "code",
   "execution_count": 54,
   "metadata": {},
   "outputs": [],
   "source": [
    "let numberOfClasses = usedCarDataBunch.trainingDataset.reduce(Int32(0)) {\n",
    "    (max: Int32, next: SupervisedLearningGroup) -> Int32 in \n",
    "    let argMax = Int(next.labels.argmax().scalarized())\n",
    "    let localMax = Int32(next.labels[argMax].scalarized())\n",
    "    if(max < localMax) {\n",
    "        return localMax\n",
    "    } else {\n",
    "        return max\n",
    "    }\n",
    "}"
   ]
  },
  {
   "cell_type": "code",
   "execution_count": 55,
   "metadata": {},
   "outputs": [
    {
     "data": {
      "text/plain": [
       "14\n"
      ]
     },
     "execution_count": 55,
     "metadata": {},
     "output_type": "execute_result"
    }
   ],
   "source": [
    "numberOfClasses"
   ]
  },
  {
   "cell_type": "markdown",
   "metadata": {},
   "source": [
    "# Car Data Test"
   ]
  },
  {
   "cell_type": "code",
   "execution_count": 56,
   "metadata": {},
   "outputs": [],
   "source": [
    "let meanSquaredErrorLossy = MeanSquaredErrorLossFunction()\n",
    "let protoTrainingDelegate = TrainingDelegate(lossFunction: meanSquaredErrorLossy, \n",
    "                                             predictionExtractor: {pullClassificationsFromPredictions(predictions: $0)})\n",
    "let protoValidationDelegate = ValidationDelegate(lossFunction: meanSquaredErrorLossy,\n",
    "                                                 predictionExtractor: {pullClassificationsFromPredictions(predictions: $0)})"
   ]
  },
  {
   "cell_type": "code",
   "execution_count": 57,
   "metadata": {},
   "outputs": [],
   "source": [
    "let protoModelTeacher = Teacher(dataBunch: usedCarDataBunch, \n",
    "                                trainingDelegate: protoTrainingDelegate, \n",
    "                                validationDelegate: protoValidationDelegate)"
   ]
  },
  {
   "cell_type": "code",
   "execution_count": 58,
   "metadata": {},
   "outputs": [
    {
     "data": {
      "text/plain": [
       "▿ SequentialModel\n",
       "  ▿ sequentialParameter : SequentialParameter\n",
       "    ▿ parameters : 1 element\n",
       "      ▿ 0 : DenseLayerV2\n",
       "        - weightParameter : [[   0.5010717,   0.17530045,   0.34042653,  0.009689325,  -0.11921274,   0.20843786,\n",
       "    -0.5962774,  -0.18077764,  -0.27737916,   0.48209485,   0.68900084,   -0.8071845,\n",
       "     -0.575184,   -0.8013398],\n",
       " [ 0.027738266,    0.7660936,  -0.14690827,   -0.7095668,  -0.59655887,   0.12082842,\n",
       "    0.15326382, -0.051222496,   0.45721856,    0.5421977,   0.49318635,    0.2929615,\n",
       "     0.4794406,  -0.38269788],\n",
       " [  0.34159088,   0.39239258,   -0.4031314,   0.56904525,   0.52295595,  -0.53164613,\n",
       "   -0.52174145,   0.07767709,   -0.6624697,  -0.06902614,   -0.7784723,  -0.36695114,\n",
       "    0.16288666,  -0.13242827],\n",
       " [  -0.6045771,  -0.36411643,   0.53580314,     0.160972,   0.72766155,    0.5706974,\n",
       "   -0.36569762,   -0.7971248,  0.015426895,  0.027121933,   -0.7967044,     0.528206,\n",
       "    -0.5097053,    0.4359837]]\n",
       "        - biasParameter : [0.0, 0.0, 0.0, 0.0, 0.0, 0.0, 0.0, 0.0, 0.0, 0.0, 0.0, 0.0, 0.0, 0.0]\n",
       "        - gradientChain : (Function)\n",
       "    - subscribers : 0 elements\n"
      ]
     },
     "execution_count": 58,
     "metadata": {},
     "output_type": "execute_result"
    }
   ],
   "source": [
    "let firstValidationBatch = usedCarDataBunch.validationDataset.first!\n",
    "let firstTrainingBatch = usedCarDataBunch.trainingDataset.first!\n",
    "\n",
    "let simpleUntrainedModel = SequentialModel(layerSizes: [\n",
    "    firstValidationBatch.features.shape[1],\n",
    "    Int(numberOfClasses)\n",
    "])\n",
    "simpleUntrainedModel"
   ]
  },
  {
   "cell_type": "code",
   "execution_count": 59,
   "metadata": {},
   "outputs": [],
   "source": [
    "let predictions = simpleUntrainedModel.apply(inputTensor: firstValidationBatch.features)"
   ]
  },
  {
   "cell_type": "code",
   "execution_count": 60,
   "metadata": {},
   "outputs": [
    {
     "data": {
      "text/plain": [
       "▿ 2 elements\n",
       "  - .0 : [-0.25148463,    0.688733, 0.039504953, -0.16842419,   0.3814458,  0.23972909,  -0.5030278,\n",
       "  -0.6619202, 0.012291545,  0.49559805,  -0.7067602,   0.4778348,  0.14151183, -0.09027644]\n",
       "  - .1 : 1\n"
      ]
     },
     "execution_count": 60,
     "metadata": {},
     "output_type": "execute_result"
    }
   ],
   "source": [
    "(predictions[0], predictions[0].argmax())"
   ]
  },
  {
   "cell_type": "code",
   "execution_count": 61,
   "metadata": {},
   "outputs": [
    {
     "data": {
      "text/plain": [
       "▿ 2 elements\n",
       "  ▿ .0 : [64, 1]\n",
       "    ▿ dimensions : 2 elements\n",
       "      - 0 : 64\n",
       "      - 1 : 1\n",
       "  ▿ .1 : [64, 1]\n",
       "    ▿ dimensions : 2 elements\n",
       "      - 0 : 64\n",
       "      - 1 : 1\n"
      ]
     },
     "execution_count": 61,
     "metadata": {},
     "output_type": "execute_result"
    }
   ],
   "source": [
    "(pullClassificationsFromPredictions(predictions: predictions).shape, firstTrainingBatch.labels.shape)"
   ]
  },
  {
   "cell_type": "code",
   "execution_count": 62,
   "metadata": {},
   "outputs": [
    {
     "data": {
      "text/plain": [
       "24.625\n"
      ]
     },
     "execution_count": 62,
     "metadata": {},
     "output_type": "execute_result"
    }
   ],
   "source": [
    "meanSquaredErrorLossy.calculateLoss(expectedTensor: firstValidationBatch.labels, \n",
    "                                    actualTensor: pullClassificationsFromPredictions(predictions: predictions))"
   ]
  },
  {
   "cell_type": "code",
   "execution_count": 63,
   "metadata": {},
   "outputs": [
    {
     "name": "stdout",
     "output_type": "stream",
     "text": [
      "Fatal error: Cannot unbroadcast [64, 1] to [14]: file /swift-base/tensorflow-swift-apis/Sources/TensorFlow/Operators/Basic.swift, line 745\r\n",
      "Current stack trace:\r\n",
      "0    libswiftCore.so                    0x00007f604e869940 swift_reportError + 50\r\n",
      "1    libswiftCore.so                    0x00007f604e8dacf0 _swift_stdlib_reportFatalErrorInFile + 115\r\n",
      "2    libswiftCore.so                    0x00007f604e804b48 <unavailable> + 3722056\r\n",
      "3    libswiftCore.so                    0x00007f604e804cd7 <unavailable> + 3722455\r\n",
      "4    libswiftCore.so                    0x00007f604e5d74e8 <unavailable> + 1438952\r\n",
      "5    libswiftCore.so                    0x00007f604e7d85ce <unavailable> + 3540430\r\n",
      "6    libswiftCore.so                    0x00007f604e5d6c09 <unavailable> + 1436681\r\n"
     ]
    },
    {
     "ename": "",
     "evalue": "",
     "output_type": "error",
     "traceback": [
      "Current stack trace:",
      "\tframe #3: 0x00007f604b977596 $__lldb_expr132`partial apply for closure #1 in linearCombinationAndGradient(inputTensor:weightParameter:biasParameter:) [inlined] closure #1 (ddx=\n[[     0.0],\n [     0.0],\n [     0.0],\n [     0.0],\n [     0.0],\n [-0.03125],\n [-0.03125],\n [-0.28125],\n [-0.28125],\n [-0.28125],\n [-0.28125],\n [-0.28125],\n [-0.28125],\n [-0.28125],\n [-0.28125],\n [-0.28125],\n [-0.28125],\n [-0.28125],\n [-0.28125],\n [-0.28125],\n [-0.28125],\n [-0.28125],\n [-0.28125],\n [-0.28125],\n [-0.28125],\n [-0.28125],\n [-0.28125],\n [-0.28125],\n [-0.28125],\n [-0.28125],\n [-0.28125],\n [-0.28125],\n [-0.28125],\n [-0.28125],\n [-0.28125],\n [-0.28125],\n [-0.28125],\n [-0.28125],\n [-0.28125],\n [-0.28125],\n [-0.28125],\n [-0.28125],\n [-0.28125],\n [-0.28125],\n [-0.28125],\n [-0.28125],\n [-0.28125],\n [-0.28125],\n [-0.28125],\n [-0.28125],\n [-0.28125],\n [     0.0],\n [     0.0],\n [     0.0],\n [     0.0],\n [     0.0],\n [     0.0],\n [     0.0],\n [     0.0],\n [     0.0],\n [     0.0],\n [     0.0],\n [     0.0],\n [     0.0]], inputTensor=\n[[        1.0,  0.82608694,  0.15254237,         0.0],\n [        1.0,  0.82608694,  0.16949153,         0.0],\n [        1.0,  0.82608694,  0.18644068,         0.0],\n [        1.0,  0.82608694,  0.20338982,         0.0],\n [        1.0,  0.82608694,  0.22033899,         0.0],\n [        1.0,  0.82608694,  0.23728813,         0.0],\n [        1.0,  0.82608694,   0.2542373,         0.0],\n [        1.0,  0.82608694,  0.27118644,         0.0],\n [        1.0,  0.82608694,   0.2881356,         0.0],\n [        1.0,  0.82608694,  0.30508474,         0.0],\n [        1.0,  0.82608694,   0.3220339,         0.0],\n [        1.0,  0.82608694,  0.33898306,         0.0],\n [        1.0,  0.82608694,   0.3559322,         0.0],\n [        1.0,  0.82608694,  0.37288135,         0.0],\n [        1.0,  0.82608694,   0.3898305,         0.0],\n [        1.0,  0.82608694,  0.40677965,         0.0],\n [        1.0,  0.82608694,  0.42372882,         0.0],\n [        1.0,  0.82608694,  0.44067797,         0.0],\n [        1.0,  0.82608694,  0.45762712,         0.0],\n [        1.0,  0.82608694,  0.47457626,         0.0],\n [        1.0,  0.82608694,   0.4915254,         0.0],\n [        1.0,  0.82608694,   0.5084746,         0.0],\n [        1.0,  0.82608694,   0.5254237,         0.0],\n [        1.0,  0.82608694,   0.5423729,         0.0],\n [        1.0,  0.82608694,  0.55932206,         0.0],\n [        1.0,  0.82608694,   0.5762712,         0.0],\n [        1.0,  0.82608694,  0.59322035,         0.0],\n [        1.0,  0.82608694,   0.6101695,         0.0],\n [        1.0,  0.82608694,  0.62711865,         0.0],\n [        1.0,  0.82608694,   0.6440678,         0.0],\n [        1.0,  0.82608694,  0.66101694,         0.0],\n [        1.0,  0.82608694,   0.6779661,         0.0],\n [        1.0,  0.82608694,  0.69491524,         0.0],\n [        1.0,  0.82608694,   0.7118644,         0.0],\n [        1.0,  0.82608694,   0.7288136,         0.0],\n [        1.0,  0.82608694,   0.7457627,         0.0],\n [        1.0,  0.82608694,   0.7627119,         0.0],\n [        1.0,  0.82608694,    0.779661,         0.0],\n [        1.0,  0.82608694,   0.7966102,         0.0],\n [        1.0,  0.82608694,   0.8135593,         0.0],\n [        1.0,  0.82608694,   0.8305085,         0.0],\n [        1.0,  0.82608694,  0.84745765,         0.0],\n [        1.0,  0.82608694,  0.86440676,         0.0],\n [        1.0,  0.82608694,  0.88135594,         0.0],\n [        1.0,  0.82608694,  0.89830506,         0.0],\n [        1.0,  0.82608694,  0.91525424,         0.0],\n [        1.0,  0.82608694,   0.9322034,         0.0],\n [        1.0,  0.82608694,   0.9491525,         0.0],\n [        1.0,  0.82608694,   0.9661017,         0.0],\n [        1.0,  0.82608694,   0.9830508,         0.0],\n [        1.0,  0.82608694,         1.0,         0.0],\n [        1.0,   0.8695652,         0.0,         0.0],\n [        1.0,   0.8695652, 0.016949153,         0.0],\n [        1.0,   0.8695652, 0.033898305,         0.0],\n [        1.0,   0.8695652, 0.050847456,         0.0],\n [        1.0,   0.8695652,  0.06779661,         0.0],\n [        1.0,   0.8695652, 0.084745765,         0.0],\n [        1.0,   0.8695652,  0.10169491,         0.0],\n [        1.0,   0.8695652, 0.118644066,         0.0],\n [        1.0,   0.8695652,  0.13559322,         0.0],\n [        1.0,   0.8695652,  0.15254237,         0.0],\n [        1.0,   0.8695652,  0.16949153,         0.0],\n [        1.0,   0.8695652,  0.18644068,         0.0],\n [        1.0,   0.8695652,  0.20338982,         0.0]], biasParameter=<unavailable>) -> (TensorFlow.Tensor<Swift.Float>, TensorFlow.Tensor<Swift.Float>, TensorFlow.Tensor<Swift.Float>) in __lldb_expr_131.linearCombinationAndGradient(inputTensor: TensorFlow.Tensor<Swift.Float>, weightParameter: TensorFlow.Tensor<Swift.Float>, biasParameter: TensorFlow.Tensor<Swift.Float>) -> (value: TensorFlow.Tensor<Swift.Float>, gradientChain: (TensorFlow.Tensor<Swift.Float>) -> (TensorFlow.Tensor<Swift.Float>, TensorFlow.Tensor<Swift.Float>, TensorFlow.Tensor<Swift.Float>)) at <Cell 17>:16:34",
      "\tframe #5: 0x00007f604b9715dc $__lldb_expr144`partial apply for closure #1 in DenseLayerV2.forwardPass(inputTensor:) [inlined] closure #1 (ddx=<unavailable>, parameterGradientChain=<unavailable>) -> (TensorFlow.Tensor<Swift.Float>, TensorFlow.Tensor<Swift.Float>, TensorFlow.Tensor<Swift.Float>) in __lldb_expr_143.DenseLayerV2.forwardPass(inputTensor: TensorFlow.Tensor<Swift.Float>) -> (TensorFlow.Tensor<Swift.Float>, __lldb_expr_101.ModelParameterV2) at <Cell 19>:37:63",
      "\tframe #8: 0x00007f604b96e701 $__lldb_expr144`DenseLayerV2.backwardPass(ddx=<unavailable>, hyperParameters=(learningRate = 0.00999999977), self=(weightParameter = \n[[   0.5010717,   0.17530045,   0.34042653,  0.009689325,  -0.11921274,   0.20843786,\n    -0.5962774,  -0.18077764,  -0.27737916,   0.48209485,   0.68900084,   -0.8071845,\n     -0.575184,   -0.8013398],\n [ 0.027738266,    0.7660936,  -0.14690827,   -0.7095668,  -0.59655887,   0.12082842,\n    0.15326382, -0.051222496,   0.45721856,    0.5421977,   0.49318635,    0.2929615,\n     0.4794406,  -0.38269788],\n [  0.34159088,   0.39239258,   -0.4031314,   0.56904525,   0.52295595,  -0.53164613,\n   -0.52174145,   0.07767709,   -0.6624697,  -0.06902614,   -0.7784723,  -0.36695114,\n    0.16288666,  -0.13242827],\n [  -0.6045771,  -0.36411643,   0.53580314,     0.160972,   0.72766155,    0.5706974,\n   -0.36569762,   -0.7971248,  0.015426895,  0.027121933,   -0.7967044,     0.528206,\n    -0.5097053,    0.4359837]], biasParameter = [0.0, 0.0, 0.0, 0.0, 0.0, 0.0, 0.0, 0.0, 0.0, 0.0, 0.0, 0.0, 0.0, 0.0], gradientChain = 0x00007f604b971c30 $__lldb_expr144`lazy protocol witness table accessor for type Swift.Int and conformance Swift.Int : Swift.BinaryInteger in Swift + 144)) at <Cell 19>:48:54",
      "\tframe #10: 0x00007f604b97ee6d $__lldb_expr114`SequentialParameter.backwardPass(ddx:hyperParameters:) [inlined] closure #3 (previousActivations=<unavailable>, parameter=<unavailable>, index=<unavailable>, hyperParameters=<unavailable>, previousActivations=\n[[     0.0],\n [     0.0],\n [     0.0],\n [     0.0],\n [     0.0],\n [-0.03125],\n [-0.03125],\n [-0.28125],\n [-0.28125],\n [-0.28125],\n [-0.28125],\n [-0.28125],\n [-0.28125],\n [-0.28125],\n [-0.28125],\n [-0.28125],\n [-0.28125],\n [-0.28125],\n [-0.28125],\n [-0.28125],\n [-0.28125],\n [-0.28125],\n [-0.28125],\n [-0.28125],\n [-0.28125],\n [-0.28125],\n [-0.28125],\n [-0.28125],\n [-0.28125],\n [-0.28125],\n [-0.28125],\n [-0.28125],\n [-0.28125],\n [-0.28125],\n [-0.28125],\n [-0.28125],\n [-0.28125],\n [-0.28125],\n [-0.28125],\n [-0.28125],\n [-0.28125],\n [-0.28125],\n [-0.28125],\n [-0.28125],\n [-0.28125],\n [-0.28125],\n [-0.28125],\n [-0.28125],\n [-0.28125],\n [-0.28125],\n [-0.28125],\n [     0.0],\n [     0.0],\n [     0.0],\n [     0.0],\n [     0.0],\n [     0.0],\n [     0.0],\n [     0.0],\n [     0.0],\n [     0.0],\n [     0.0],\n [     0.0],\n [     0.0]], parameter=(payload_data_0 = 0x00000000035e6190 -> 0x00007f604b973e98 , payload_data_1 = 0x00007f6045a27c02 libswiftTensorFlow.so`protocol witness table pattern for <A where A: TensorFlow.TensorGroup> Swift.Array<A> : TensorFlow.TensorArrayProtocol in TensorFlow + 10, payload_data_2 = 0x00007f604b973f88 nominal type descriptor for __lldb_expr_143.DenseLayerV2 + 36, instance_type = DenseLayerV2, witness_table_ModelParameterV2 = 0x00007f604b973ec0 protocol witness table for __lldb_expr_143.DenseLayerV2 : __lldb_expr_101.ModelParameterV2 in __lldb_expr_143), index=<unavailable>, hyperParameters=(learningRate = 0.00999999977)) -> (TensorFlow.Tensor<Swift.Float>, __lldb_expr_101.ModelParameterV2) in __lldb_expr_113.SequentialParameter.backwardPass(ddx: TensorFlow.Tensor<Swift.Float>, hyperParameters: __lldb_expr_83.HyperParameters) -> (TensorFlow.Tensor<Swift.Float>, __lldb_expr_107.ModelParameters) at <Cell 14>:48:41",
      "\tframe #11: 0x00007f604b97ee4b $__lldb_expr114`SequentialParameter.backwardPass(ddx:hyperParameters:) at <Cell 14>:68",
      "\tframe #14: 0x00007f604b97ee4b $__lldb_expr114`SequentialParameter.backwardPass(ddx:hyperParameters:) at <Cell 14>:63",
      "\tframe #15: 0x00007f604b97ee4b $__lldb_expr114`SequentialParameter.backwardPass(ddx=<unavailable>, hyperParameters=(learningRate = 0.00999999977), self=<unavailable>) at <Cell 14>:42",
      "\tframe #16: 0x00007f604b969b0c $__lldb_expr150`protocol witness for TeachableModel.backwardsPass(ddx:hyperParameters:) in conformance SequentialModel [inlined] __lldb_expr_149.SequentialModel.backwardsPass(ddx=<unavailable>, hyperParameters=<unavailable>, self=<unavailable>) -> __lldb_expr_95.TeachableModel at <Cell 20>:41:70",
      "\tframe #18: 0x00007f60187b231f $__lldb_expr234`TrainingDelegate.processBatch(model=<unavailable>, xDataPoints=<unavailable>, yValidationPoints=<unavailable>, self=<unavailable>) at <Cell 33>:54:31",
      "\tframe #20: 0x00007f60380092dd $__lldb_expr192`Teacher.teachModel(model:numberOfEpochs:) [inlined] closure #1 (currentModel=SequentialModel @ 0x0000000003412b70, dataGroup=(features = \nexpression produced error: error: Execution was interrupted, reason: signal SIGSEGV: invalid address (fault address: 0x0).\nThe process has been returned to the state before expression evaluation., labels = \n[[10.0],\n [10.0],\n [10.0],\n [10.0],\n [10.0],\n [10.0],\n [10.0],\n [10.0],\n [10.0],\n [10.0],\n [10.0],\n [10.0],\n [10.0],\n [10.0],\n [10.0],\n [10.0],\n [10.0],\n [10.0],\n [10.0],\n [10.0],\n [10.0],\n [10.0],\n [10.0],\n [10.0],\n [10.0],\n [10.0],\n [10.0],\n [10.0],\n [10.0],\n [10.0],\n [10.0],\n [10.0],\n [10.0],\n [10.0],\n [10.0],\n [10.0],\n [10.0],\n [10.0],\n [10.0],\n [10.0],\n [10.0],\n [10.0],\n [10.0],\n [10.0],\n [10.0],\n [10.0],\n [10.0],\n [10.0],\n [10.0],\n [10.0],\n [10.0],\n [10.0],\n [10.0],\n [10.0],\n [10.0],\n [10.0],\n [10.0],\n [10.0],\n [10.0],\n [10.0],\n [10.0],\n [10.0],\n [10.0],\n [10.0]]), teachingDelegate=<unavailable>) -> __lldb_expr_95.TeachableModel in __lldb_expr_191.Teacher.processDataSet(model: __lldb_expr_95.TeachableModel, epoch: Swift.Int, dataSet: TensorFlow.Dataset<__lldb_expr_173.SupervisedLearningGroup>, teachingDelegate: __lldb_expr_185.TeachingDelegate) -> __lldb_expr_95.TeachableModel at <Cell 26>:51:37",
      "\tframe #23: 0x00007f6038009232 $__lldb_expr192`Teacher.teachModel(model:numberOfEpochs:) [inlined] __lldb_expr_191.Teacher.processDataSet(model=SequentialModel @ 0x0000000003412b70, epoch=1, dataSet=TensorFlow.Dataset<SupervisedLearningGroup> @ 0x000055a79550eaf0) -> __lldb_expr_95.TeachableModel at <Cell 26>:49",
      "\tframe #24: 0x00007f6038009232 $__lldb_expr192`Teacher.teachModel(model:numberOfEpochs:) [inlined] __lldb_expr_191.Teacher.trainModel(modelToTeach=SequentialModel @ 0x0000000003412b70, currentEpoch=1, self=Teacher @ 0x00007f5f92b331e0) -> __lldb_expr_95.TeachableModel at <Cell 26>:26",
      "\tframe #25: 0x00007f6038009232 $__lldb_expr192`Teacher.teachModel(model:numberOfEpochs:) [inlined] closure #1 (currentModel=<unavailable>, epoch=<unavailable>, self=<unavailable>, currentModel=SequentialModel @ 0x0000000003412b70, epoch=1, self=Teacher @ 0x00007f5f92b331e0) -> () in __lldb_expr_191.Teacher.teachModel(model: __lldb_expr_95.TeachableModel, numberOfEpochs: Swift.Int) -> __lldb_expr_95.TeachableModel at <Cell 26>:15",
      "\tframe #28: 0x00007f6038009232 $__lldb_expr192`Teacher.teachModel(model=TeachableModel @ 0x0000000003006d40, numberOfEpochs=10, self=Teacher @ 0x00007f5f92b331e0) at <Cell 26>:13",
      "\tframe #29: 0x00007f5fcf8059c3 $__lldb_expr474`closure #1 in  at <Cell 63>:2:23",
      "\tframe #30: 0x00007f604f234360 $__lldb_expr36`withTime<T>(f=0x00007f5fcf805930 $__lldb_expr474`closure #1 () -> __lldb_expr_95.TeachableModel in __lldb_expr_473 at <Cell 63>:1) at <Cell 3>:29:17",
      "\tframe #31: 0x00007f5fcf80591f $__lldb_expr474`main at <Cell 63>:1:26"
     ]
    }
   ],
   "source": [
    "let simpleTrainedModel = withTime { \n",
    "    protoModelTeacher.teachModel(model: simpleUntrainedModel, \n",
    "                                                      numberOfEpochs: 10)\n",
    "                                  }"
   ]
  },
  {
   "cell_type": "code",
   "execution_count": null,
   "metadata": {},
   "outputs": [],
   "source": [
    "let predictions = simpleTrainedModel.apply(inputTensor: firstValidationBatch.features)\n",
    "meanSquaredErrorLossy.calculateLoss(expectedTensor: firstValidationBatch.labels, \n",
    "                                    actualTensor: predictions)"
   ]
  },
  {
   "cell_type": "code",
   "execution_count": null,
   "metadata": {},
   "outputs": [],
   "source": [
    "let predictions = simpleTrainedModel.apply(inputTensor: firstTrainingBatch.features)\n",
    "meanSquaredErrorLossy.calculateLoss(expectedTensor: firstTrainingBatch.labels, \n",
    "                                    actualTensor: predictions)"
   ]
  },
  {
   "cell_type": "code",
   "execution_count": null,
   "metadata": {},
   "outputs": [],
   "source": [
    "usedCarDataBunch.trainingDataset.reduce(simpleTrainedModel){\n",
    "    let predictions = $0.apply(inputTensor: $1.features)\n",
    "    let lossBoi = meanSquaredErrorLossy.calculateLoss(expectedTensor: $1.labels, \n",
    "                                    actualTensor: predictions)\n",
    "    print(lossBoi)\n",
    "    return $0\n",
    "}"
   ]
  },
  {
   "cell_type": "code",
   "execution_count": null,
   "metadata": {},
   "outputs": [],
   "source": [
    "plotLoss(lossArray: protoTrainingDelegate.lossCount)"
   ]
  },
  {
   "cell_type": "code",
   "execution_count": null,
   "metadata": {},
   "outputs": [],
   "source": [
    "plotLoss(lossArray: protoValidationDelegate.lossCount)"
   ]
  },
  {
   "cell_type": "code",
   "execution_count": null,
   "metadata": {},
   "outputs": [],
   "source": []
  },
  {
   "cell_type": "markdown",
   "metadata": {},
   "source": [
    "# Tensor Flow Stuff"
   ]
  },
  {
   "cell_type": "code",
   "execution_count": 137,
   "metadata": {},
   "outputs": [],
   "source": [
    "let inputSize = Int(firstValidationBatch.features.shape[1])\n",
    "let hiddenSize = Int(numberOfClasses + 1)\n",
    "\n",
    "\n",
    "struct UsedCarModel: Layer {\n",
    "    var layer1 = Dense<Float>(inputSize: inputSize, outputSize: hiddenSize / 2, activation: relu)\n",
    "    var layer2 = Dense<Float>(inputSize: hiddenSize / 2, outputSize: hiddenSize)\n",
    "    \n",
    "    @differentiable\n",
    "    func callAsFunction(_ input: Tensor<Float>) -> Tensor<Float> {\n",
    "        return input.sequenced(through: layer1, layer2)\n",
    "    }\n",
    "}"
   ]
  },
  {
   "cell_type": "code",
   "execution_count": 138,
   "metadata": {},
   "outputs": [],
   "source": [
    "var model = UsedCarModel()"
   ]
  },
  {
   "cell_type": "code",
   "execution_count": 139,
   "metadata": {},
   "outputs": [
    {
     "data": {
      "text/plain": [
       "[[  -0.16867733,    -0.3908889,   -0.11589784,   -0.33115885,   0.019876909,   -0.32318652,\n",
       "   0.0008447634,   -0.19173919,   0.082386255,   -0.49828553,      0.512353,   -0.24782668,\n",
       "      0.4339627,   0.066994555,   -0.27064428],\n",
       " [  -0.16944711,   -0.39100063,  -0.117502525,   -0.33510682,   0.021741083,    -0.3247286,\n",
       "  -0.0007767936,   -0.19178829,    0.08300799,   -0.50409687,    0.51666963,   -0.24440321,\n",
       "      0.4364759,    0.06820183,   -0.27316266],\n",
       " [  -0.17104454,   -0.39210567,   -0.11863805,   -0.33736306,   0.023826974,   -0.32485175,\n",
       "   -0.001420216,   -0.19083972,    0.08203415,    -0.5084576,    0.52030057,     -0.242687,\n",
       "     0.43761852,    0.06811581,   -0.27490062],\n",
       " [   -0.1734835,   -0.39422065,   -0.11929659,    -0.3378994,    0.02613829,    -0.3235323,\n",
       "  -0.0010691349,    -0.1888769,   0.079438016,    -0.5113435,    0.52323425,   -0.24270666,\n",
       "     0.43736774,    0.06671485,   -0.27584514],\n",
       " [   -0.1759225,    -0.3963357,   -0.11995514,   -0.33843574,    0.02844962,   -0.32221285,\n",
       "  -0.0007180507,   -0.18691404,     0.0768419,    -0.5142295,    0.52616805,   -0.24272634,\n",
       "       0.437117,    0.06531389,    -0.2767897]]\n"
      ]
     },
     "execution_count": 139,
     "metadata": {},
     "output_type": "execute_result"
    }
   ],
   "source": [
    "let firstTrainPredictions = model(firstValidationBatch.features)\n",
    "firstTrainPredictions[0..<5]"
   ]
  },
  {
   "cell_type": "code",
   "execution_count": 140,
   "metadata": {},
   "outputs": [],
   "source": [
    "func logSumExp<Scalar>(_ x: Tensor<Scalar>) -> Tensor<Scalar> where Scalar:TensorFlowFloatingPoint{\n",
    "    let m = x.max(alongAxes: -1)\n",
    "    return m + log(exp(x-m).sum(alongAxes: -1))\n",
    "}"
   ]
  },
  {
   "cell_type": "code",
   "execution_count": 141,
   "metadata": {},
   "outputs": [],
   "source": [
    "func logSoftmax<Scalar>(_ activations: Tensor<Scalar>) -> Tensor<Scalar> where Scalar:TensorFlowFloatingPoint{\n",
    "    return activations - logSumExp(activations)\n",
    "}"
   ]
  },
  {
   "cell_type": "code",
   "execution_count": 142,
   "metadata": {},
   "outputs": [],
   "source": [
    "func nll<Scalar>(_ input: Tensor<Scalar>, _ target :Tensor<Int32>) -> Tensor<Scalar> \n",
    "    where Scalar:TensorFlowFloatingPoint{\n",
    "        let idx: Tensor<Int32> = Raw.range(start: Tensor(0), limit: Tensor(numericCast(target.shape[0])), delta: Tensor(1))\n",
    "        let indices = Raw.concat(concatDim: Tensor(1), [idx.expandingShape(at: 1), target.expandingShape(at: 1)])\n",
    "        let losses = Raw.gatherNd(params: input, indices: indices)\n",
    "        return -losses.mean()\n",
    "    }"
   ]
  },
  {
   "cell_type": "code",
   "execution_count": 143,
   "metadata": {},
   "outputs": [],
   "source": [
    "let smPred = logSoftmax(firstTrainPredictions)"
   ]
  },
  {
   "cell_type": "code",
   "execution_count": 144,
   "metadata": {},
   "outputs": [
    {
     "data": {
      "text/plain": [
       "2.174168\n"
      ]
     },
     "execution_count": 144,
     "metadata": {},
     "output_type": "execute_result"
    }
   ],
   "source": [
    "nll(smPred, Tensor<Int32>(firstTrainingBatch.labels.squeezingShape(at: 1)))"
   ]
  },
  {
   "cell_type": "code",
   "execution_count": 145,
   "metadata": {},
   "outputs": [
    {
     "name": "stdout",
     "output_type": "stream",
     "text": [
      "Tensor<Float>\r\n",
      "Tensor<Float>\r\n"
     ]
    }
   ],
   "source": [
    "print(type(of: firstTrainPredictions))\n",
    "print(type(of: firstValidationBatch.labels))"
   ]
  },
  {
   "cell_type": "code",
   "execution_count": 146,
   "metadata": {},
   "outputs": [
    {
     "data": {
      "text/plain": [
       "2.1741683\n"
      ]
     },
     "execution_count": 146,
     "metadata": {},
     "output_type": "execute_result"
    }
   ],
   "source": [
    "let loss = softmaxCrossEntropy(logits: firstTrainPredictions, \n",
    "                               labels: Tensor<Int32>(firstTrainingBatch.labels.squeezingShape(at: 1)))\n",
    "loss"
   ]
  },
  {
   "cell_type": "code",
   "execution_count": 147,
   "metadata": {},
   "outputs": [
    {
     "name": "stdout",
     "output_type": "stream",
     "text": [
      "average: 78.7725 µs,   min: 76.394 µs,   max: 109.56 µs\r\n"
     ]
    }
   ],
   "source": [
    "timeTrials(trials: 100) { \n",
    "_ = nll(smPred, Tensor<Int32>(firstTrainingBatch.labels.squeezingShape(at: 1)))\n",
    "}"
   ]
  },
  {
   "cell_type": "code",
   "execution_count": 148,
   "metadata": {},
   "outputs": [
    {
     "name": "stdout",
     "output_type": "stream",
     "text": [
      "average: 54.53172 µs,   min: 52.69 µs,   max: 82.11 µs\r\n"
     ]
    }
   ],
   "source": [
    "timeTrials(trials: 100) { \n",
    "_ = softmaxCrossEntropy(logits: firstTrainPredictions, \n",
    "                               labels: Tensor<Int32>(firstTrainingBatch.labels.squeezingShape(at: 1)))\n",
    "}"
   ]
  },
  {
   "cell_type": "code",
   "execution_count": 149,
   "metadata": {},
   "outputs": [],
   "source": [
    "public func accuracy(_ output: TensorFloat, _ target: Tensor<Int32>) -> TensorFloat {\n",
    "    let corrects = TensorFloat(output.argmax(squeezingAxis: 1) .== target)\n",
    "    return corrects.mean()\n",
    "}"
   ]
  },
  {
   "cell_type": "code",
   "execution_count": 150,
   "metadata": {},
   "outputs": [
    {
     "data": {
      "text/plain": [
       "1.0\n"
      ]
     },
     "execution_count": 150,
     "metadata": {},
     "output_type": "execute_result"
    }
   ],
   "source": [
    "accuracy(firstTrainPredictions, Tensor<Int32>(firstTrainingBatch.labels.squeezingShape(at: 1)))"
   ]
  },
  {
   "cell_type": "code",
   "execution_count": 151,
   "metadata": {},
   "outputs": [],
   "source": [
    "let optimizer = SGD(for: model, learningRate: 1e-2)"
   ]
  },
  {
   "cell_type": "code",
   "execution_count": 152,
   "metadata": {},
   "outputs": [
    {
     "data": {
      "text/plain": [
       "2.9348953\n"
      ]
     },
     "execution_count": 152,
     "metadata": {},
     "output_type": "execute_result"
    }
   ],
   "source": [
    "let (libLoss2, libGrads) = model.valueWithGradient {\n",
    "    model -> TensorFloat in\n",
    "    let libPreds = model(firstValidationBatch.features)\n",
    "    return softmaxCrossEntropy(logits: libPreds, \n",
    "                               labels: Tensor<Int32>(firstValidationBatch.labels.squeezingShape(at: 1)))\n",
    "}\n",
    "libLoss2"
   ]
  },
  {
   "cell_type": "code",
   "execution_count": 153,
   "metadata": {},
   "outputs": [],
   "source": [
    "optimizer.update(&model.allDifferentiableVariables, along: libGrads)"
   ]
  },
  {
   "cell_type": "code",
   "execution_count": 154,
   "metadata": {},
   "outputs": [
    {
     "data": {
      "text/plain": [
       "[7, 7, 7, 7, 7, 7, 7, 7, 7, 7, 7, 7, 7, 7, 7, 7, 7, 7, 7, 7, 7, 7, 7, 7, 7, 7, 7, 7, 7, 7, 7, 7, 7, 7, 7, 7, 7, 7, 7, 7, 7, 7, 7, 7, 7, 7, 7, 7, 7, 7, 7, 7, 7, 7, 7, 7, 7, 7, 7, 7, 7, 7, 7, 7]\n"
      ]
     },
     "execution_count": 154,
     "metadata": {},
     "output_type": "execute_result"
    }
   ],
   "source": [
    "model(firstTrainingBatch.features).argmax(squeezingAxis: 1)"
   ]
  },
  {
   "cell_type": "code",
   "execution_count": 155,
   "metadata": {},
   "outputs": [
    {
     "data": {
      "text/plain": [
       "0.0\n"
      ]
     },
     "execution_count": 155,
     "metadata": {},
     "output_type": "execute_result"
    }
   ],
   "source": [
    "accuracy(model(firstTrainingBatch.features), Tensor<Int32>(firstTrainingBatch.labels.squeezingShape(at: 1)))"
   ]
  },
  {
   "cell_type": "code",
   "execution_count": 156,
   "metadata": {},
   "outputs": [],
   "source": [
    "let epochCount = 100\n",
    "var trainingLoss: [Float] = []\n"
   ]
  },
  {
   "cell_type": "code",
   "execution_count": 157,
   "metadata": {},
   "outputs": [],
   "source": [
    "\n",
    "var model3 = UsedCarModel()"
   ]
  },
  {
   "cell_type": "code",
   "execution_count": 158,
   "metadata": {},
   "outputs": [],
   "source": [
    "let optimizer = SGD(for: model3, learningRate: 1e-2)"
   ]
  },
  {
   "cell_type": "code",
   "execution_count": 159,
   "metadata": {},
   "outputs": [
    {
     "name": "stdout",
     "output_type": "stream",
     "text": [
      "elapsed time: 20.850573168 s\r\n"
     ]
    }
   ],
   "source": [
    "withTime { \n",
    "    for epoch in 1...100 {\n",
    "        var epochLoss: Float = 0\n",
    "        var epochAccuracy: Float = 0\n",
    "        var batchCount: Int = 0\n",
    "\n",
    "        for dataGroup in usedCarDataBunch.trainingDataset {\n",
    "            let (loss, libraryGradients) = model3.valueWithGradient {\n",
    "                model -> TensorFloat in\n",
    "                let libPreds = model(dataGroup.features)\n",
    "                return softmaxCrossEntropy(logits: libPreds, \n",
    "                               labels: Tensor<Int32>(dataGroup.labels.squeezingShape(at: 1)))\n",
    "            }\n",
    "\n",
    "            optimizer.update(&model3.self, along: libraryGradients)\n",
    "\n",
    "            let preds = model(dataGroup.features)\n",
    "            let batchAccuracy = accuracy(preds, Tensor<Int32>(dataGroup.labels.squeezingShape(at: 1))).scalarized()\n",
    "            let batchLoss = loss.scalarized()\n",
    "            epochAccuracy += batchAccuracy\n",
    "            epochLoss += batchLoss\n",
    "\n",
    "            batchCount += 1\n",
    "        }\n",
    "        trainingLoss.append(epochLoss / Float(batchCount))\n",
    "    }\n",
    "}"
   ]
  },
  {
   "cell_type": "code",
   "execution_count": null,
   "metadata": {},
   "outputs": [],
   "source": [
    "14.845449664 / 12.98729881"
   ]
  },
  {
   "cell_type": "code",
   "execution_count": 160,
   "metadata": {
    "scrolled": true
   },
   "outputs": [
    {
     "data": {
      "image/png": "[encoded data removed]",
      "text/plain": [
       "<Figure size 864x576 with 1 Axes>"
      ]
     },
     "metadata": {
      "needs_background": "light"
     },
     "output_type": "display_data"
    }
   ],
   "source": [
    "plotLoss(lossArray: trainingLoss)"
   ]
  },
  {
   "cell_type": "code",
   "execution_count": 167,
   "metadata": {},
   "outputs": [
    {
     "ename": "",
     "evalue": "",
     "output_type": "error",
     "traceback": [
      "error: <Cell 167>:11:14: error: binary operator '+' cannot be applied to operands of type 'String' and 'Tensor<Int32>'\nprint(\"Pred\" + model3(firstValidationBatch.features).argmax(squeezingAxis: 1))\n      ~~~~~~ ^ ~~~~~~~~~~~~~~~~~~~~~~~~~~~~~~~~~~~~~~~~~~~~~~~~~~~~~~~~~~~~~~\n\n<Cell 167>:11:14: note: expected an argument list of type '(String, String)'\nprint(\"Pred\" + model3(firstValidationBatch.features).argmax(squeezingAxis: 1))\n             ^\n\nerror: <Cell 167>:12:16: error: binary operator '+' cannot be applied to operands of type 'String' and 'Tensor<Float>'\nprint(\"Actual\" + firstValidationBatch.labels.squeezingShape(at: 1))\n      ~~~~~~~~ ^ ~~~~~~~~~~~~~~~~~~~~~~~~~~~~~~~~~~~~~~~~~~~~~~~~~\n\n<Cell 167>:12:16: note: expected an argument list of type '(String, String)'\nprint(\"Actual\" + firstValidationBatch.labels.squeezingShape(at: 1))\n               ^\n\n"
     ]
    }
   ],
   "source": [
    "let firstValidationBatch = usedCarDataBunch.validationDataset.first!\n",
    "\n",
    "usedCarDataBunch.validationDataset.reduce(model3){\n",
    "    model, dataBatch in\n",
    "        print(model(dataBatch.features).argmax(squeezingAxis: 1))\n",
    "print(dataBatch.labels.squeezingShape(at: 1))\n",
    "    \n",
    "    return model\n",
    "}\n",
    "\n",
    "print(\"Pred \\(model3(firstValidationBatch.features).argmax(squeezingAxis: 1))\")\n",
    "print(\"Actual\" + firstValidationBatch.labels.squeezingShape(at: 1))\n",
    "print(accuracy(model3(firstValidationBatch.features), \n",
    "               Tensor<Int32>(firstValidationBatch.labels.squeezingShape(at: 1))))"
   ]
  },
  {
   "cell_type": "markdown",
   "metadata": {},
   "source": [
    "# Tensorflow simple"
   ]
  },
  {
   "cell_type": "code",
   "execution_count": null,
   "metadata": {},
   "outputs": [],
   "source": [
    "struct SimpleModelTF: Layer {\n",
    "    var layer1 = Dense<Float>(inputSize: 2, outputSize: 1)\n",
    "    \n",
    "    @differentiable\n",
    "    func callAsFunction(_ input: Tensor<Float>) -> Tensor<Float> {\n",
    "        return layer1(input)\n",
    "    }\n",
    "}"
   ]
  },
  {
   "cell_type": "code",
   "execution_count": null,
   "metadata": {},
   "outputs": [],
   "source": [
    "var tfSimpleModel = SimpleModelTF()"
   ]
  },
  {
   "cell_type": "code",
   "execution_count": null,
   "metadata": {},
   "outputs": [],
   "source": [
    "let optimizerTF = SGD(for: tfSimpleModel, learningRate: 1e-2)"
   ]
  },
  {
   "cell_type": "code",
   "execution_count": null,
   "metadata": {},
   "outputs": [],
   "source": [
    "showYHat(yHat: tfSimpleModel(A))"
   ]
  },
  {
   "cell_type": "code",
   "execution_count": null,
   "metadata": {},
   "outputs": [],
   "source": [
    "var simpleTrainingAccuracy: [Float] = []\n",
    "var simpleTrainingLoss: [Float] = []"
   ]
  },
  {
   "cell_type": "code",
   "execution_count": null,
   "metadata": {},
   "outputs": [],
   "source": [
    "for epoch in 1...50 {\n",
    "    var epochLoss: Float = 0\n",
    "    var epochAccuracy: Float = 0\n",
    "    var batchCount: Int = 0\n",
    "    \n",
    "    for dataGroup in linearDataBunch.trainingDataset {\n",
    "        let (loss, libraryGradients) = tfSimpleModel.valueWithGradient {\n",
    "            model -> TensorFloat in\n",
    "            let libPreds = model(dataGroup.features)            \n",
    "            return  meanSquaredError(predicted: libPreds, expected: dataGroup.labels)\n",
    "        }\n",
    "        \n",
    "        optimizerTF.update(&tfSimpleModel.allDifferentiableVariables, along: libraryGradients)\n",
    "        \n",
    "        let preds = tfSimpleModel(dataGroup.features)\n",
    "        let batchAccuracy = accuracy(expected: dataGroup.labels, \n",
    "                                  actual: preds)\n",
    "        let batchLoss = loss.scalarized()\n",
    "        \n",
    "        simpleTrainingAccuracy.append(batchAccuracy)\n",
    "        simpleTrainingLoss.append(batchLoss)\n",
    "    }\n",
    "}"
   ]
  },
  {
   "cell_type": "code",
   "execution_count": null,
   "metadata": {},
   "outputs": [],
   "source": [
    "plotLoss(lossArray: simpleTrainingLoss)"
   ]
  },
  {
   "cell_type": "code",
   "execution_count": null,
   "metadata": {},
   "outputs": [],
   "source": [
    "showYHat(yHat: tfSimpleModel(A))"
   ]
  },
  {
   "cell_type": "code",
   "execution_count": null,
   "metadata": {},
   "outputs": [],
   "source": []
  }
 ],
 "metadata": {
  "kernelspec": {
   "display_name": "Swift",
   "language": "swift",
   "name": "swift"
  },
  "language_info": {
   "file_extension": ".swift",
   "mimetype": "text/x-swift",
   "name": "swift",
   "version": ""
  }
 },
 "nbformat": 4,
 "nbformat_minor": 2
}
