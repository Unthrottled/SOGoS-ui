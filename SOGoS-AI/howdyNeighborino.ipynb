{
 "cells": [
  {
   "cell_type": "code",
   "execution_count": 1,
   "metadata": {},
   "outputs": [],
   "source": [
    "import pandas as pd"
   ]
  },
  {
   "cell_type": "code",
   "execution_count": 2,
   "metadata": {},
   "outputs": [],
   "source": [
    "dataPath = \"./data/projection.json\""
   ]
  },
  {
   "cell_type": "code",
   "execution_count": 3,
   "metadata": {},
   "outputs": [],
   "source": [
    "df = pd.read_json(dataPath)"
   ]
  },
  {
   "cell_type": "code",
   "execution_count": 4,
   "metadata": {},
   "outputs": [
    {
     "data": {
      "text/html": [
       "<div>\n",
       "<style scoped>\n",
       "    .dataframe tbody tr th:only-of-type {\n",
       "        vertical-align: middle;\n",
       "    }\n",
       "\n",
       "    .dataframe tbody tr th {\n",
       "        vertical-align: top;\n",
       "    }\n",
       "\n",
       "    .dataframe thead th {\n",
       "        text-align: right;\n",
       "    }\n",
       "</style>\n",
       "<table border=\"1\" class=\"dataframe\">\n",
       "  <thead>\n",
       "    <tr style=\"text-align: right;\">\n",
       "      <th></th>\n",
       "      <th>timeStamp</th>\n",
       "      <th>spawn</th>\n",
       "    </tr>\n",
       "  </thead>\n",
       "  <tbody>\n",
       "    <tr>\n",
       "      <th>0</th>\n",
       "      <td>2019-11-09 16:20:21.846</td>\n",
       "      <td>{'start': {'antecedenceTime': 1573316421846, '...</td>\n",
       "    </tr>\n",
       "    <tr>\n",
       "      <th>1</th>\n",
       "      <td>2019-11-09 16:21:21.846</td>\n",
       "      <td>{'start': {'antecedenceTime': 1573316421846, '...</td>\n",
       "    </tr>\n",
       "    <tr>\n",
       "      <th>2</th>\n",
       "      <td>2019-11-09 16:22:21.846</td>\n",
       "      <td>{'start': {'antecedenceTime': 1573316421846, '...</td>\n",
       "    </tr>\n",
       "    <tr>\n",
       "      <th>3</th>\n",
       "      <td>2019-11-09 16:23:21.846</td>\n",
       "      <td>{'start': {'antecedenceTime': 1573316421846, '...</td>\n",
       "    </tr>\n",
       "    <tr>\n",
       "      <th>4</th>\n",
       "      <td>2019-11-09 16:24:21.846</td>\n",
       "      <td>{'start': {'antecedenceTime': 1573316421846, '...</td>\n",
       "    </tr>\n",
       "  </tbody>\n",
       "</table>\n",
       "</div>"
      ],
      "text/plain": [
       "                timeStamp                                              spawn\n",
       "0 2019-11-09 16:20:21.846  {'start': {'antecedenceTime': 1573316421846, '...\n",
       "1 2019-11-09 16:21:21.846  {'start': {'antecedenceTime': 1573316421846, '...\n",
       "2 2019-11-09 16:22:21.846  {'start': {'antecedenceTime': 1573316421846, '...\n",
       "3 2019-11-09 16:23:21.846  {'start': {'antecedenceTime': 1573316421846, '...\n",
       "4 2019-11-09 16:24:21.846  {'start': {'antecedenceTime': 1573316421846, '..."
      ]
     },
     "execution_count": 4,
     "metadata": {},
     "output_type": "execute_result"
    }
   ],
   "source": [
    "df.head()"
   ]
  },
  {
   "cell_type": "code",
   "execution_count": 5,
   "metadata": {},
   "outputs": [],
   "source": [
    "from pandas.io.json import json_normalize\n",
    "import json"
   ]
  },
  {
   "cell_type": "code",
   "execution_count": 6,
   "metadata": {},
   "outputs": [],
   "source": [
    "with open(dataPath) as dataJson:\n",
    "    rawJsonData = json.load(dataJson)"
   ]
  },
  {
   "cell_type": "code",
   "execution_count": 7,
   "metadata": {},
   "outputs": [
    {
     "data": {
      "text/plain": [
       "13553"
      ]
     },
     "execution_count": 7,
     "metadata": {},
     "output_type": "execute_result"
    }
   ],
   "source": [
    "len(rawJsonData)"
   ]
  },
  {
   "cell_type": "code",
   "execution_count": 8,
   "metadata": {},
   "outputs": [],
   "source": [
    "normalizedJson = json_normalize(rawJsonData)"
   ]
  },
  {
   "cell_type": "code",
   "execution_count": 9,
   "metadata": {},
   "outputs": [
    {
     "data": {
      "text/html": [
       "<div>\n",
       "<style scoped>\n",
       "    .dataframe tbody tr th:only-of-type {\n",
       "        vertical-align: middle;\n",
       "    }\n",
       "\n",
       "    .dataframe tbody tr th {\n",
       "        vertical-align: top;\n",
       "    }\n",
       "\n",
       "    .dataframe thead th {\n",
       "        text-align: right;\n",
       "    }\n",
       "</style>\n",
       "<table border=\"1\" class=\"dataframe\">\n",
       "  <thead>\n",
       "    <tr style=\"text-align: right;\">\n",
       "      <th></th>\n",
       "      <th>timeStamp</th>\n",
       "      <th>spawn.start.antecedenceTime</th>\n",
       "      <th>spawn.start.content.name</th>\n",
       "      <th>spawn.start.content.type</th>\n",
       "      <th>spawn.start.content.veryFirstActivity</th>\n",
       "      <th>spawn.start.content.uuid</th>\n",
       "      <th>spawn.stop.antecedenceTime</th>\n",
       "      <th>spawn.stop.content.name</th>\n",
       "      <th>spawn.stop.content.type</th>\n",
       "      <th>spawn.stop.content.timedType</th>\n",
       "      <th>...</th>\n",
       "      <th>spawn.start.content.timedType</th>\n",
       "      <th>spawn.start.content.workStartedWomboCombo</th>\n",
       "      <th>spawn.stop.content.paused</th>\n",
       "      <th>spawn.start.content.paused</th>\n",
       "      <th>spawn.stop.content.activityID</th>\n",
       "      <th>spawn.start.content.activityID</th>\n",
       "      <th>spawn.stop.content.duration</th>\n",
       "      <th>spawn.start.content.duration</th>\n",
       "      <th>spawn.stop.content.autoStart</th>\n",
       "      <th>spawn.start.content.autoStart</th>\n",
       "    </tr>\n",
       "  </thead>\n",
       "  <tbody>\n",
       "    <tr>\n",
       "      <th>0</th>\n",
       "      <td>1573316421846</td>\n",
       "      <td>1573316421846</td>\n",
       "      <td>RECOVERY</td>\n",
       "      <td>ACTIVE</td>\n",
       "      <td>True</td>\n",
       "      <td>7b1cfbdf-32e2-40f9-a44e-31fc32581bc2</td>\n",
       "      <td>1573321480328</td>\n",
       "      <td>GENERIC_ACTIVITY</td>\n",
       "      <td>ACTIVE</td>\n",
       "      <td>STOP_WATCH</td>\n",
       "      <td>...</td>\n",
       "      <td>NaN</td>\n",
       "      <td>NaN</td>\n",
       "      <td>NaN</td>\n",
       "      <td>NaN</td>\n",
       "      <td>NaN</td>\n",
       "      <td>NaN</td>\n",
       "      <td>NaN</td>\n",
       "      <td>NaN</td>\n",
       "      <td>NaN</td>\n",
       "      <td>NaN</td>\n",
       "    </tr>\n",
       "    <tr>\n",
       "      <th>1</th>\n",
       "      <td>1573316481846</td>\n",
       "      <td>1573316421846</td>\n",
       "      <td>RECOVERY</td>\n",
       "      <td>ACTIVE</td>\n",
       "      <td>True</td>\n",
       "      <td>7b1cfbdf-32e2-40f9-a44e-31fc32581bc2</td>\n",
       "      <td>1573321480328</td>\n",
       "      <td>GENERIC_ACTIVITY</td>\n",
       "      <td>ACTIVE</td>\n",
       "      <td>STOP_WATCH</td>\n",
       "      <td>...</td>\n",
       "      <td>NaN</td>\n",
       "      <td>NaN</td>\n",
       "      <td>NaN</td>\n",
       "      <td>NaN</td>\n",
       "      <td>NaN</td>\n",
       "      <td>NaN</td>\n",
       "      <td>NaN</td>\n",
       "      <td>NaN</td>\n",
       "      <td>NaN</td>\n",
       "      <td>NaN</td>\n",
       "    </tr>\n",
       "    <tr>\n",
       "      <th>2</th>\n",
       "      <td>1573316541846</td>\n",
       "      <td>1573316421846</td>\n",
       "      <td>RECOVERY</td>\n",
       "      <td>ACTIVE</td>\n",
       "      <td>True</td>\n",
       "      <td>7b1cfbdf-32e2-40f9-a44e-31fc32581bc2</td>\n",
       "      <td>1573321480328</td>\n",
       "      <td>GENERIC_ACTIVITY</td>\n",
       "      <td>ACTIVE</td>\n",
       "      <td>STOP_WATCH</td>\n",
       "      <td>...</td>\n",
       "      <td>NaN</td>\n",
       "      <td>NaN</td>\n",
       "      <td>NaN</td>\n",
       "      <td>NaN</td>\n",
       "      <td>NaN</td>\n",
       "      <td>NaN</td>\n",
       "      <td>NaN</td>\n",
       "      <td>NaN</td>\n",
       "      <td>NaN</td>\n",
       "      <td>NaN</td>\n",
       "    </tr>\n",
       "    <tr>\n",
       "      <th>3</th>\n",
       "      <td>1573316601846</td>\n",
       "      <td>1573316421846</td>\n",
       "      <td>RECOVERY</td>\n",
       "      <td>ACTIVE</td>\n",
       "      <td>True</td>\n",
       "      <td>7b1cfbdf-32e2-40f9-a44e-31fc32581bc2</td>\n",
       "      <td>1573321480328</td>\n",
       "      <td>GENERIC_ACTIVITY</td>\n",
       "      <td>ACTIVE</td>\n",
       "      <td>STOP_WATCH</td>\n",
       "      <td>...</td>\n",
       "      <td>NaN</td>\n",
       "      <td>NaN</td>\n",
       "      <td>NaN</td>\n",
       "      <td>NaN</td>\n",
       "      <td>NaN</td>\n",
       "      <td>NaN</td>\n",
       "      <td>NaN</td>\n",
       "      <td>NaN</td>\n",
       "      <td>NaN</td>\n",
       "      <td>NaN</td>\n",
       "    </tr>\n",
       "    <tr>\n",
       "      <th>4</th>\n",
       "      <td>1573316661846</td>\n",
       "      <td>1573316421846</td>\n",
       "      <td>RECOVERY</td>\n",
       "      <td>ACTIVE</td>\n",
       "      <td>True</td>\n",
       "      <td>7b1cfbdf-32e2-40f9-a44e-31fc32581bc2</td>\n",
       "      <td>1573321480328</td>\n",
       "      <td>GENERIC_ACTIVITY</td>\n",
       "      <td>ACTIVE</td>\n",
       "      <td>STOP_WATCH</td>\n",
       "      <td>...</td>\n",
       "      <td>NaN</td>\n",
       "      <td>NaN</td>\n",
       "      <td>NaN</td>\n",
       "      <td>NaN</td>\n",
       "      <td>NaN</td>\n",
       "      <td>NaN</td>\n",
       "      <td>NaN</td>\n",
       "      <td>NaN</td>\n",
       "      <td>NaN</td>\n",
       "      <td>NaN</td>\n",
       "    </tr>\n",
       "  </tbody>\n",
       "</table>\n",
       "<p>5 rows × 22 columns</p>\n",
       "</div>"
      ],
      "text/plain": [
       "       timeStamp  spawn.start.antecedenceTime spawn.start.content.name  \\\n",
       "0  1573316421846                1573316421846                 RECOVERY   \n",
       "1  1573316481846                1573316421846                 RECOVERY   \n",
       "2  1573316541846                1573316421846                 RECOVERY   \n",
       "3  1573316601846                1573316421846                 RECOVERY   \n",
       "4  1573316661846                1573316421846                 RECOVERY   \n",
       "\n",
       "  spawn.start.content.type spawn.start.content.veryFirstActivity  \\\n",
       "0                   ACTIVE                                  True   \n",
       "1                   ACTIVE                                  True   \n",
       "2                   ACTIVE                                  True   \n",
       "3                   ACTIVE                                  True   \n",
       "4                   ACTIVE                                  True   \n",
       "\n",
       "               spawn.start.content.uuid  spawn.stop.antecedenceTime  \\\n",
       "0  7b1cfbdf-32e2-40f9-a44e-31fc32581bc2               1573321480328   \n",
       "1  7b1cfbdf-32e2-40f9-a44e-31fc32581bc2               1573321480328   \n",
       "2  7b1cfbdf-32e2-40f9-a44e-31fc32581bc2               1573321480328   \n",
       "3  7b1cfbdf-32e2-40f9-a44e-31fc32581bc2               1573321480328   \n",
       "4  7b1cfbdf-32e2-40f9-a44e-31fc32581bc2               1573321480328   \n",
       "\n",
       "  spawn.stop.content.name spawn.stop.content.type  \\\n",
       "0        GENERIC_ACTIVITY                  ACTIVE   \n",
       "1        GENERIC_ACTIVITY                  ACTIVE   \n",
       "2        GENERIC_ACTIVITY                  ACTIVE   \n",
       "3        GENERIC_ACTIVITY                  ACTIVE   \n",
       "4        GENERIC_ACTIVITY                  ACTIVE   \n",
       "\n",
       "  spawn.stop.content.timedType  ... spawn.start.content.timedType  \\\n",
       "0                   STOP_WATCH  ...                           NaN   \n",
       "1                   STOP_WATCH  ...                           NaN   \n",
       "2                   STOP_WATCH  ...                           NaN   \n",
       "3                   STOP_WATCH  ...                           NaN   \n",
       "4                   STOP_WATCH  ...                           NaN   \n",
       "\n",
       "   spawn.start.content.workStartedWomboCombo spawn.stop.content.paused  \\\n",
       "0                                        NaN                       NaN   \n",
       "1                                        NaN                       NaN   \n",
       "2                                        NaN                       NaN   \n",
       "3                                        NaN                       NaN   \n",
       "4                                        NaN                       NaN   \n",
       "\n",
       "   spawn.start.content.paused spawn.stop.content.activityID  \\\n",
       "0                         NaN                           NaN   \n",
       "1                         NaN                           NaN   \n",
       "2                         NaN                           NaN   \n",
       "3                         NaN                           NaN   \n",
       "4                         NaN                           NaN   \n",
       "\n",
       "  spawn.start.content.activityID spawn.stop.content.duration  \\\n",
       "0                            NaN                         NaN   \n",
       "1                            NaN                         NaN   \n",
       "2                            NaN                         NaN   \n",
       "3                            NaN                         NaN   \n",
       "4                            NaN                         NaN   \n",
       "\n",
       "  spawn.start.content.duration  spawn.stop.content.autoStart  \\\n",
       "0                          NaN                           NaN   \n",
       "1                          NaN                           NaN   \n",
       "2                          NaN                           NaN   \n",
       "3                          NaN                           NaN   \n",
       "4                          NaN                           NaN   \n",
       "\n",
       "   spawn.start.content.autoStart  \n",
       "0                            NaN  \n",
       "1                            NaN  \n",
       "2                            NaN  \n",
       "3                            NaN  \n",
       "4                            NaN  \n",
       "\n",
       "[5 rows x 22 columns]"
      ]
     },
     "execution_count": 9,
     "metadata": {},
     "output_type": "execute_result"
    }
   ],
   "source": [
    "normalizedJson.head()"
   ]
  },
  {
   "cell_type": "code",
   "execution_count": 10,
   "metadata": {},
   "outputs": [],
   "source": [
    "normalizedJson['dateTime'] = pd.to_datetime(normalizedJson['timeStamp'], unit='ms')"
   ]
  },
  {
   "cell_type": "code",
   "execution_count": 11,
   "metadata": {},
   "outputs": [],
   "source": [
    "normalizedJson['dayOfTheWeek'] = normalizedJson['dateTime'].dt.dayofweek"
   ]
  },
  {
   "cell_type": "code",
   "execution_count": 12,
   "metadata": {},
   "outputs": [],
   "source": [
    "dateTimeSeries = normalizedJson['dateTime']"
   ]
  },
  {
   "cell_type": "code",
   "execution_count": 13,
   "metadata": {},
   "outputs": [],
   "source": [
    "normalizedJson['hourOfTheDay'] = dateTimeSeries.dt.hour\n",
    "normalizedJson['minuteOfTheHour'] = dateTimeSeries.dt.minute"
   ]
  },
  {
   "cell_type": "code",
   "execution_count": 14,
   "metadata": {},
   "outputs": [
    {
     "data": {
      "text/html": [
       "<div>\n",
       "<style scoped>\n",
       "    .dataframe tbody tr th:only-of-type {\n",
       "        vertical-align: middle;\n",
       "    }\n",
       "\n",
       "    .dataframe tbody tr th {\n",
       "        vertical-align: top;\n",
       "    }\n",
       "\n",
       "    .dataframe thead th {\n",
       "        text-align: right;\n",
       "    }\n",
       "</style>\n",
       "<table border=\"1\" class=\"dataframe\">\n",
       "  <thead>\n",
       "    <tr style=\"text-align: right;\">\n",
       "      <th></th>\n",
       "      <th>timeStamp</th>\n",
       "      <th>spawn.start.antecedenceTime</th>\n",
       "      <th>spawn.start.content.name</th>\n",
       "      <th>spawn.start.content.type</th>\n",
       "      <th>spawn.start.content.veryFirstActivity</th>\n",
       "      <th>spawn.start.content.uuid</th>\n",
       "      <th>spawn.stop.antecedenceTime</th>\n",
       "      <th>spawn.stop.content.name</th>\n",
       "      <th>spawn.stop.content.type</th>\n",
       "      <th>spawn.stop.content.timedType</th>\n",
       "      <th>...</th>\n",
       "      <th>spawn.stop.content.activityID</th>\n",
       "      <th>spawn.start.content.activityID</th>\n",
       "      <th>spawn.stop.content.duration</th>\n",
       "      <th>spawn.start.content.duration</th>\n",
       "      <th>spawn.stop.content.autoStart</th>\n",
       "      <th>spawn.start.content.autoStart</th>\n",
       "      <th>dateTime</th>\n",
       "      <th>dayOfTheWeek</th>\n",
       "      <th>hourOfTheDay</th>\n",
       "      <th>minuteOfTheHour</th>\n",
       "    </tr>\n",
       "  </thead>\n",
       "  <tbody>\n",
       "    <tr>\n",
       "      <th>0</th>\n",
       "      <td>1573316421846</td>\n",
       "      <td>1573316421846</td>\n",
       "      <td>RECOVERY</td>\n",
       "      <td>ACTIVE</td>\n",
       "      <td>True</td>\n",
       "      <td>7b1cfbdf-32e2-40f9-a44e-31fc32581bc2</td>\n",
       "      <td>1573321480328</td>\n",
       "      <td>GENERIC_ACTIVITY</td>\n",
       "      <td>ACTIVE</td>\n",
       "      <td>STOP_WATCH</td>\n",
       "      <td>...</td>\n",
       "      <td>NaN</td>\n",
       "      <td>NaN</td>\n",
       "      <td>NaN</td>\n",
       "      <td>NaN</td>\n",
       "      <td>NaN</td>\n",
       "      <td>NaN</td>\n",
       "      <td>2019-11-09 16:20:21.846</td>\n",
       "      <td>5</td>\n",
       "      <td>16</td>\n",
       "      <td>20</td>\n",
       "    </tr>\n",
       "    <tr>\n",
       "      <th>1</th>\n",
       "      <td>1573316481846</td>\n",
       "      <td>1573316421846</td>\n",
       "      <td>RECOVERY</td>\n",
       "      <td>ACTIVE</td>\n",
       "      <td>True</td>\n",
       "      <td>7b1cfbdf-32e2-40f9-a44e-31fc32581bc2</td>\n",
       "      <td>1573321480328</td>\n",
       "      <td>GENERIC_ACTIVITY</td>\n",
       "      <td>ACTIVE</td>\n",
       "      <td>STOP_WATCH</td>\n",
       "      <td>...</td>\n",
       "      <td>NaN</td>\n",
       "      <td>NaN</td>\n",
       "      <td>NaN</td>\n",
       "      <td>NaN</td>\n",
       "      <td>NaN</td>\n",
       "      <td>NaN</td>\n",
       "      <td>2019-11-09 16:21:21.846</td>\n",
       "      <td>5</td>\n",
       "      <td>16</td>\n",
       "      <td>21</td>\n",
       "    </tr>\n",
       "    <tr>\n",
       "      <th>2</th>\n",
       "      <td>1573316541846</td>\n",
       "      <td>1573316421846</td>\n",
       "      <td>RECOVERY</td>\n",
       "      <td>ACTIVE</td>\n",
       "      <td>True</td>\n",
       "      <td>7b1cfbdf-32e2-40f9-a44e-31fc32581bc2</td>\n",
       "      <td>1573321480328</td>\n",
       "      <td>GENERIC_ACTIVITY</td>\n",
       "      <td>ACTIVE</td>\n",
       "      <td>STOP_WATCH</td>\n",
       "      <td>...</td>\n",
       "      <td>NaN</td>\n",
       "      <td>NaN</td>\n",
       "      <td>NaN</td>\n",
       "      <td>NaN</td>\n",
       "      <td>NaN</td>\n",
       "      <td>NaN</td>\n",
       "      <td>2019-11-09 16:22:21.846</td>\n",
       "      <td>5</td>\n",
       "      <td>16</td>\n",
       "      <td>22</td>\n",
       "    </tr>\n",
       "    <tr>\n",
       "      <th>3</th>\n",
       "      <td>1573316601846</td>\n",
       "      <td>1573316421846</td>\n",
       "      <td>RECOVERY</td>\n",
       "      <td>ACTIVE</td>\n",
       "      <td>True</td>\n",
       "      <td>7b1cfbdf-32e2-40f9-a44e-31fc32581bc2</td>\n",
       "      <td>1573321480328</td>\n",
       "      <td>GENERIC_ACTIVITY</td>\n",
       "      <td>ACTIVE</td>\n",
       "      <td>STOP_WATCH</td>\n",
       "      <td>...</td>\n",
       "      <td>NaN</td>\n",
       "      <td>NaN</td>\n",
       "      <td>NaN</td>\n",
       "      <td>NaN</td>\n",
       "      <td>NaN</td>\n",
       "      <td>NaN</td>\n",
       "      <td>2019-11-09 16:23:21.846</td>\n",
       "      <td>5</td>\n",
       "      <td>16</td>\n",
       "      <td>23</td>\n",
       "    </tr>\n",
       "    <tr>\n",
       "      <th>4</th>\n",
       "      <td>1573316661846</td>\n",
       "      <td>1573316421846</td>\n",
       "      <td>RECOVERY</td>\n",
       "      <td>ACTIVE</td>\n",
       "      <td>True</td>\n",
       "      <td>7b1cfbdf-32e2-40f9-a44e-31fc32581bc2</td>\n",
       "      <td>1573321480328</td>\n",
       "      <td>GENERIC_ACTIVITY</td>\n",
       "      <td>ACTIVE</td>\n",
       "      <td>STOP_WATCH</td>\n",
       "      <td>...</td>\n",
       "      <td>NaN</td>\n",
       "      <td>NaN</td>\n",
       "      <td>NaN</td>\n",
       "      <td>NaN</td>\n",
       "      <td>NaN</td>\n",
       "      <td>NaN</td>\n",
       "      <td>2019-11-09 16:24:21.846</td>\n",
       "      <td>5</td>\n",
       "      <td>16</td>\n",
       "      <td>24</td>\n",
       "    </tr>\n",
       "  </tbody>\n",
       "</table>\n",
       "<p>5 rows × 26 columns</p>\n",
       "</div>"
      ],
      "text/plain": [
       "       timeStamp  spawn.start.antecedenceTime spawn.start.content.name  \\\n",
       "0  1573316421846                1573316421846                 RECOVERY   \n",
       "1  1573316481846                1573316421846                 RECOVERY   \n",
       "2  1573316541846                1573316421846                 RECOVERY   \n",
       "3  1573316601846                1573316421846                 RECOVERY   \n",
       "4  1573316661846                1573316421846                 RECOVERY   \n",
       "\n",
       "  spawn.start.content.type spawn.start.content.veryFirstActivity  \\\n",
       "0                   ACTIVE                                  True   \n",
       "1                   ACTIVE                                  True   \n",
       "2                   ACTIVE                                  True   \n",
       "3                   ACTIVE                                  True   \n",
       "4                   ACTIVE                                  True   \n",
       "\n",
       "               spawn.start.content.uuid  spawn.stop.antecedenceTime  \\\n",
       "0  7b1cfbdf-32e2-40f9-a44e-31fc32581bc2               1573321480328   \n",
       "1  7b1cfbdf-32e2-40f9-a44e-31fc32581bc2               1573321480328   \n",
       "2  7b1cfbdf-32e2-40f9-a44e-31fc32581bc2               1573321480328   \n",
       "3  7b1cfbdf-32e2-40f9-a44e-31fc32581bc2               1573321480328   \n",
       "4  7b1cfbdf-32e2-40f9-a44e-31fc32581bc2               1573321480328   \n",
       "\n",
       "  spawn.stop.content.name spawn.stop.content.type  \\\n",
       "0        GENERIC_ACTIVITY                  ACTIVE   \n",
       "1        GENERIC_ACTIVITY                  ACTIVE   \n",
       "2        GENERIC_ACTIVITY                  ACTIVE   \n",
       "3        GENERIC_ACTIVITY                  ACTIVE   \n",
       "4        GENERIC_ACTIVITY                  ACTIVE   \n",
       "\n",
       "  spawn.stop.content.timedType  ... spawn.stop.content.activityID  \\\n",
       "0                   STOP_WATCH  ...                           NaN   \n",
       "1                   STOP_WATCH  ...                           NaN   \n",
       "2                   STOP_WATCH  ...                           NaN   \n",
       "3                   STOP_WATCH  ...                           NaN   \n",
       "4                   STOP_WATCH  ...                           NaN   \n",
       "\n",
       "   spawn.start.content.activityID spawn.stop.content.duration  \\\n",
       "0                             NaN                         NaN   \n",
       "1                             NaN                         NaN   \n",
       "2                             NaN                         NaN   \n",
       "3                             NaN                         NaN   \n",
       "4                             NaN                         NaN   \n",
       "\n",
       "   spawn.start.content.duration spawn.stop.content.autoStart  \\\n",
       "0                           NaN                          NaN   \n",
       "1                           NaN                          NaN   \n",
       "2                           NaN                          NaN   \n",
       "3                           NaN                          NaN   \n",
       "4                           NaN                          NaN   \n",
       "\n",
       "  spawn.start.content.autoStart                dateTime dayOfTheWeek  \\\n",
       "0                           NaN 2019-11-09 16:20:21.846            5   \n",
       "1                           NaN 2019-11-09 16:21:21.846            5   \n",
       "2                           NaN 2019-11-09 16:22:21.846            5   \n",
       "3                           NaN 2019-11-09 16:23:21.846            5   \n",
       "4                           NaN 2019-11-09 16:24:21.846            5   \n",
       "\n",
       "   hourOfTheDay  minuteOfTheHour  \n",
       "0            16               20  \n",
       "1            16               21  \n",
       "2            16               22  \n",
       "3            16               23  \n",
       "4            16               24  \n",
       "\n",
       "[5 rows x 26 columns]"
      ]
     },
     "execution_count": 14,
     "metadata": {},
     "output_type": "execute_result"
    }
   ],
   "source": [
    "normalizedJson.head()"
   ]
  },
  {
   "cell_type": "code",
   "execution_count": 15,
   "metadata": {},
   "outputs": [
    {
     "data": {
      "text/plain": [
       "13553"
      ]
     },
     "execution_count": 15,
     "metadata": {},
     "output_type": "execute_result"
    }
   ],
   "source": [
    "len(normalizedJson)"
   ]
  },
  {
   "cell_type": "code",
   "execution_count": null,
   "metadata": {},
   "outputs": [],
   "source": []
  },
  {
   "cell_type": "code",
   "execution_count": 16,
   "metadata": {},
   "outputs": [],
   "source": [
    "normalizedJson['isWeekDay'] = dateTimeSeries.dt.weekday < 5\n"
   ]
  },
  {
   "cell_type": "code",
   "execution_count": 17,
   "metadata": {},
   "outputs": [
    {
     "data": {
      "text/html": [
       "<div>\n",
       "<style scoped>\n",
       "    .dataframe tbody tr th:only-of-type {\n",
       "        vertical-align: middle;\n",
       "    }\n",
       "\n",
       "    .dataframe tbody tr th {\n",
       "        vertical-align: top;\n",
       "    }\n",
       "\n",
       "    .dataframe thead th {\n",
       "        text-align: right;\n",
       "    }\n",
       "</style>\n",
       "<table border=\"1\" class=\"dataframe\">\n",
       "  <thead>\n",
       "    <tr style=\"text-align: right;\">\n",
       "      <th></th>\n",
       "      <th>timeStamp</th>\n",
       "      <th>spawn.start.antecedenceTime</th>\n",
       "      <th>spawn.start.content.name</th>\n",
       "      <th>spawn.start.content.type</th>\n",
       "      <th>spawn.start.content.veryFirstActivity</th>\n",
       "      <th>spawn.start.content.uuid</th>\n",
       "      <th>spawn.stop.antecedenceTime</th>\n",
       "      <th>spawn.stop.content.name</th>\n",
       "      <th>spawn.stop.content.type</th>\n",
       "      <th>spawn.stop.content.timedType</th>\n",
       "      <th>...</th>\n",
       "      <th>spawn.start.content.activityID</th>\n",
       "      <th>spawn.stop.content.duration</th>\n",
       "      <th>spawn.start.content.duration</th>\n",
       "      <th>spawn.stop.content.autoStart</th>\n",
       "      <th>spawn.start.content.autoStart</th>\n",
       "      <th>dateTime</th>\n",
       "      <th>dayOfTheWeek</th>\n",
       "      <th>hourOfTheDay</th>\n",
       "      <th>minuteOfTheHour</th>\n",
       "      <th>isWeekDay</th>\n",
       "    </tr>\n",
       "  </thead>\n",
       "  <tbody>\n",
       "    <tr>\n",
       "      <th>0</th>\n",
       "      <td>1573316421846</td>\n",
       "      <td>1573316421846</td>\n",
       "      <td>RECOVERY</td>\n",
       "      <td>ACTIVE</td>\n",
       "      <td>True</td>\n",
       "      <td>7b1cfbdf-32e2-40f9-a44e-31fc32581bc2</td>\n",
       "      <td>1573321480328</td>\n",
       "      <td>GENERIC_ACTIVITY</td>\n",
       "      <td>ACTIVE</td>\n",
       "      <td>STOP_WATCH</td>\n",
       "      <td>...</td>\n",
       "      <td>NaN</td>\n",
       "      <td>NaN</td>\n",
       "      <td>NaN</td>\n",
       "      <td>NaN</td>\n",
       "      <td>NaN</td>\n",
       "      <td>2019-11-09 16:20:21.846</td>\n",
       "      <td>5</td>\n",
       "      <td>16</td>\n",
       "      <td>20</td>\n",
       "      <td>False</td>\n",
       "    </tr>\n",
       "    <tr>\n",
       "      <th>1</th>\n",
       "      <td>1573316481846</td>\n",
       "      <td>1573316421846</td>\n",
       "      <td>RECOVERY</td>\n",
       "      <td>ACTIVE</td>\n",
       "      <td>True</td>\n",
       "      <td>7b1cfbdf-32e2-40f9-a44e-31fc32581bc2</td>\n",
       "      <td>1573321480328</td>\n",
       "      <td>GENERIC_ACTIVITY</td>\n",
       "      <td>ACTIVE</td>\n",
       "      <td>STOP_WATCH</td>\n",
       "      <td>...</td>\n",
       "      <td>NaN</td>\n",
       "      <td>NaN</td>\n",
       "      <td>NaN</td>\n",
       "      <td>NaN</td>\n",
       "      <td>NaN</td>\n",
       "      <td>2019-11-09 16:21:21.846</td>\n",
       "      <td>5</td>\n",
       "      <td>16</td>\n",
       "      <td>21</td>\n",
       "      <td>False</td>\n",
       "    </tr>\n",
       "    <tr>\n",
       "      <th>2</th>\n",
       "      <td>1573316541846</td>\n",
       "      <td>1573316421846</td>\n",
       "      <td>RECOVERY</td>\n",
       "      <td>ACTIVE</td>\n",
       "      <td>True</td>\n",
       "      <td>7b1cfbdf-32e2-40f9-a44e-31fc32581bc2</td>\n",
       "      <td>1573321480328</td>\n",
       "      <td>GENERIC_ACTIVITY</td>\n",
       "      <td>ACTIVE</td>\n",
       "      <td>STOP_WATCH</td>\n",
       "      <td>...</td>\n",
       "      <td>NaN</td>\n",
       "      <td>NaN</td>\n",
       "      <td>NaN</td>\n",
       "      <td>NaN</td>\n",
       "      <td>NaN</td>\n",
       "      <td>2019-11-09 16:22:21.846</td>\n",
       "      <td>5</td>\n",
       "      <td>16</td>\n",
       "      <td>22</td>\n",
       "      <td>False</td>\n",
       "    </tr>\n",
       "    <tr>\n",
       "      <th>3</th>\n",
       "      <td>1573316601846</td>\n",
       "      <td>1573316421846</td>\n",
       "      <td>RECOVERY</td>\n",
       "      <td>ACTIVE</td>\n",
       "      <td>True</td>\n",
       "      <td>7b1cfbdf-32e2-40f9-a44e-31fc32581bc2</td>\n",
       "      <td>1573321480328</td>\n",
       "      <td>GENERIC_ACTIVITY</td>\n",
       "      <td>ACTIVE</td>\n",
       "      <td>STOP_WATCH</td>\n",
       "      <td>...</td>\n",
       "      <td>NaN</td>\n",
       "      <td>NaN</td>\n",
       "      <td>NaN</td>\n",
       "      <td>NaN</td>\n",
       "      <td>NaN</td>\n",
       "      <td>2019-11-09 16:23:21.846</td>\n",
       "      <td>5</td>\n",
       "      <td>16</td>\n",
       "      <td>23</td>\n",
       "      <td>False</td>\n",
       "    </tr>\n",
       "    <tr>\n",
       "      <th>4</th>\n",
       "      <td>1573316661846</td>\n",
       "      <td>1573316421846</td>\n",
       "      <td>RECOVERY</td>\n",
       "      <td>ACTIVE</td>\n",
       "      <td>True</td>\n",
       "      <td>7b1cfbdf-32e2-40f9-a44e-31fc32581bc2</td>\n",
       "      <td>1573321480328</td>\n",
       "      <td>GENERIC_ACTIVITY</td>\n",
       "      <td>ACTIVE</td>\n",
       "      <td>STOP_WATCH</td>\n",
       "      <td>...</td>\n",
       "      <td>NaN</td>\n",
       "      <td>NaN</td>\n",
       "      <td>NaN</td>\n",
       "      <td>NaN</td>\n",
       "      <td>NaN</td>\n",
       "      <td>2019-11-09 16:24:21.846</td>\n",
       "      <td>5</td>\n",
       "      <td>16</td>\n",
       "      <td>24</td>\n",
       "      <td>False</td>\n",
       "    </tr>\n",
       "  </tbody>\n",
       "</table>\n",
       "<p>5 rows × 27 columns</p>\n",
       "</div>"
      ],
      "text/plain": [
       "       timeStamp  spawn.start.antecedenceTime spawn.start.content.name  \\\n",
       "0  1573316421846                1573316421846                 RECOVERY   \n",
       "1  1573316481846                1573316421846                 RECOVERY   \n",
       "2  1573316541846                1573316421846                 RECOVERY   \n",
       "3  1573316601846                1573316421846                 RECOVERY   \n",
       "4  1573316661846                1573316421846                 RECOVERY   \n",
       "\n",
       "  spawn.start.content.type spawn.start.content.veryFirstActivity  \\\n",
       "0                   ACTIVE                                  True   \n",
       "1                   ACTIVE                                  True   \n",
       "2                   ACTIVE                                  True   \n",
       "3                   ACTIVE                                  True   \n",
       "4                   ACTIVE                                  True   \n",
       "\n",
       "               spawn.start.content.uuid  spawn.stop.antecedenceTime  \\\n",
       "0  7b1cfbdf-32e2-40f9-a44e-31fc32581bc2               1573321480328   \n",
       "1  7b1cfbdf-32e2-40f9-a44e-31fc32581bc2               1573321480328   \n",
       "2  7b1cfbdf-32e2-40f9-a44e-31fc32581bc2               1573321480328   \n",
       "3  7b1cfbdf-32e2-40f9-a44e-31fc32581bc2               1573321480328   \n",
       "4  7b1cfbdf-32e2-40f9-a44e-31fc32581bc2               1573321480328   \n",
       "\n",
       "  spawn.stop.content.name spawn.stop.content.type  \\\n",
       "0        GENERIC_ACTIVITY                  ACTIVE   \n",
       "1        GENERIC_ACTIVITY                  ACTIVE   \n",
       "2        GENERIC_ACTIVITY                  ACTIVE   \n",
       "3        GENERIC_ACTIVITY                  ACTIVE   \n",
       "4        GENERIC_ACTIVITY                  ACTIVE   \n",
       "\n",
       "  spawn.stop.content.timedType  ... spawn.start.content.activityID  \\\n",
       "0                   STOP_WATCH  ...                            NaN   \n",
       "1                   STOP_WATCH  ...                            NaN   \n",
       "2                   STOP_WATCH  ...                            NaN   \n",
       "3                   STOP_WATCH  ...                            NaN   \n",
       "4                   STOP_WATCH  ...                            NaN   \n",
       "\n",
       "   spawn.stop.content.duration spawn.start.content.duration  \\\n",
       "0                          NaN                          NaN   \n",
       "1                          NaN                          NaN   \n",
       "2                          NaN                          NaN   \n",
       "3                          NaN                          NaN   \n",
       "4                          NaN                          NaN   \n",
       "\n",
       "   spawn.stop.content.autoStart spawn.start.content.autoStart  \\\n",
       "0                           NaN                           NaN   \n",
       "1                           NaN                           NaN   \n",
       "2                           NaN                           NaN   \n",
       "3                           NaN                           NaN   \n",
       "4                           NaN                           NaN   \n",
       "\n",
       "                 dateTime dayOfTheWeek hourOfTheDay  minuteOfTheHour  \\\n",
       "0 2019-11-09 16:20:21.846            5           16               20   \n",
       "1 2019-11-09 16:21:21.846            5           16               21   \n",
       "2 2019-11-09 16:22:21.846            5           16               22   \n",
       "3 2019-11-09 16:23:21.846            5           16               23   \n",
       "4 2019-11-09 16:24:21.846            5           16               24   \n",
       "\n",
       "   isWeekDay  \n",
       "0      False  \n",
       "1      False  \n",
       "2      False  \n",
       "3      False  \n",
       "4      False  \n",
       "\n",
       "[5 rows x 27 columns]"
      ]
     },
     "execution_count": 17,
     "metadata": {},
     "output_type": "execute_result"
    }
   ],
   "source": [
    "normalizedJson.head()"
   ]
  },
  {
   "cell_type": "code",
   "execution_count": 18,
   "metadata": {},
   "outputs": [],
   "source": [
    "from sklearn.compose import ColumnTransformer\n",
    "from sklearn.pipeline import Pipeline\n",
    "from sklearn.impute import SimpleImputer\n",
    "from sklearn.preprocessing import OneHotEncoder\n",
    "from sklearn.preprocessing import OrdinalEncoder"
   ]
  },
  {
   "cell_type": "code",
   "execution_count": 19,
   "metadata": {},
   "outputs": [],
   "source": [
    "from sklearn.metrics import mean_absolute_error, mean_squared_error"
   ]
  },
  {
   "cell_type": "code",
   "execution_count": 20,
   "metadata": {},
   "outputs": [],
   "source": [
    "categoricalVariables = ['isWeekDay']\n",
    "continuousVariables = ['hourOfTheDay', 'minuteOfTheHour', 'dayOfTheWeek']"
   ]
  },
  {
   "cell_type": "code",
   "execution_count": 21,
   "metadata": {},
   "outputs": [],
   "source": [
    "allCategories = [normalizedJson[column].unique().tolist() + ['missing_value'] for column in categoricalVariables]"
   ]
  },
  {
   "cell_type": "code",
   "execution_count": 22,
   "metadata": {},
   "outputs": [
    {
     "data": {
      "text/plain": [
       "[[False, True, 'missing_value']]"
      ]
     },
     "execution_count": 22,
     "metadata": {},
     "output_type": "execute_result"
    }
   ],
   "source": [
    "allCategories"
   ]
  },
  {
   "cell_type": "code",
   "execution_count": 23,
   "metadata": {},
   "outputs": [],
   "source": [
    "continuousTransformer = SimpleImputer(strategy='constant')\n",
    "categoricalTransformer = Pipeline(steps=[\n",
    "#     ('impute', SimpleImputer(strategy='constant')),\n",
    "    ('encode', OrdinalEncoder(categories=allCategories))\n",
    "])"
   ]
  },
  {
   "cell_type": "code",
   "execution_count": 24,
   "metadata": {},
   "outputs": [],
   "source": [
    "dataPreProcessor = ColumnTransformer(transformers=[\n",
    "    ('continuous', continuousTransformer, continuousVariables),\n",
    "    ('categorical', categoricalTransformer, categoricalVariables)\n",
    "])"
   ]
  },
  {
   "cell_type": "code",
   "execution_count": 25,
   "metadata": {},
   "outputs": [],
   "source": [
    "xDataset = normalizedJson[categoricalVariables + continuousVariables]"
   ]
  },
  {
   "cell_type": "code",
   "execution_count": 107,
   "metadata": {},
   "outputs": [
    {
     "data": {
      "text/html": [
       "<div>\n",
       "<style scoped>\n",
       "    .dataframe tbody tr th:only-of-type {\n",
       "        vertical-align: middle;\n",
       "    }\n",
       "\n",
       "    .dataframe tbody tr th {\n",
       "        vertical-align: top;\n",
       "    }\n",
       "\n",
       "    .dataframe thead th {\n",
       "        text-align: right;\n",
       "    }\n",
       "</style>\n",
       "<table border=\"1\" class=\"dataframe\">\n",
       "  <thead>\n",
       "    <tr style=\"text-align: right;\">\n",
       "      <th></th>\n",
       "      <th>isWeekDay</th>\n",
       "      <th>hourOfTheDay</th>\n",
       "      <th>minuteOfTheHour</th>\n",
       "      <th>dayOfTheWeek</th>\n",
       "    </tr>\n",
       "  </thead>\n",
       "  <tbody>\n",
       "    <tr>\n",
       "      <th>0</th>\n",
       "      <td>False</td>\n",
       "      <td>16</td>\n",
       "      <td>20</td>\n",
       "      <td>5</td>\n",
       "    </tr>\n",
       "    <tr>\n",
       "      <th>1</th>\n",
       "      <td>False</td>\n",
       "      <td>16</td>\n",
       "      <td>21</td>\n",
       "      <td>5</td>\n",
       "    </tr>\n",
       "    <tr>\n",
       "      <th>2</th>\n",
       "      <td>False</td>\n",
       "      <td>16</td>\n",
       "      <td>22</td>\n",
       "      <td>5</td>\n",
       "    </tr>\n",
       "    <tr>\n",
       "      <th>3</th>\n",
       "      <td>False</td>\n",
       "      <td>16</td>\n",
       "      <td>23</td>\n",
       "      <td>5</td>\n",
       "    </tr>\n",
       "    <tr>\n",
       "      <th>4</th>\n",
       "      <td>False</td>\n",
       "      <td>16</td>\n",
       "      <td>24</td>\n",
       "      <td>5</td>\n",
       "    </tr>\n",
       "  </tbody>\n",
       "</table>\n",
       "</div>"
      ],
      "text/plain": [
       "   isWeekDay  hourOfTheDay  minuteOfTheHour  dayOfTheWeek\n",
       "0      False            16               20             5\n",
       "1      False            16               21             5\n",
       "2      False            16               22             5\n",
       "3      False            16               23             5\n",
       "4      False            16               24             5"
      ]
     },
     "execution_count": 107,
     "metadata": {},
     "output_type": "execute_result"
    }
   ],
   "source": [
    "xDataset.head()"
   ]
  },
  {
   "cell_type": "code",
   "execution_count": 108,
   "metadata": {},
   "outputs": [
    {
     "data": {
      "text/html": [
       "<div>\n",
       "<style scoped>\n",
       "    .dataframe tbody tr th:only-of-type {\n",
       "        vertical-align: middle;\n",
       "    }\n",
       "\n",
       "    .dataframe tbody tr th {\n",
       "        vertical-align: top;\n",
       "    }\n",
       "\n",
       "    .dataframe thead th {\n",
       "        text-align: right;\n",
       "    }\n",
       "</style>\n",
       "<table border=\"1\" class=\"dataframe\">\n",
       "  <thead>\n",
       "    <tr style=\"text-align: right;\">\n",
       "      <th></th>\n",
       "      <th>hourOfTheDay</th>\n",
       "      <th>minuteOfTheHour</th>\n",
       "      <th>dayOfTheWeek</th>\n",
       "    </tr>\n",
       "  </thead>\n",
       "  <tbody>\n",
       "    <tr>\n",
       "      <th>count</th>\n",
       "      <td>13553.000000</td>\n",
       "      <td>13553.000000</td>\n",
       "      <td>13553.000000</td>\n",
       "    </tr>\n",
       "    <tr>\n",
       "      <th>mean</th>\n",
       "      <td>11.768981</td>\n",
       "      <td>29.495979</td>\n",
       "      <td>3.081606</td>\n",
       "    </tr>\n",
       "    <tr>\n",
       "      <th>std</th>\n",
       "      <td>6.957588</td>\n",
       "      <td>17.332343</td>\n",
       "      <td>2.248634</td>\n",
       "    </tr>\n",
       "    <tr>\n",
       "      <th>min</th>\n",
       "      <td>0.000000</td>\n",
       "      <td>0.000000</td>\n",
       "      <td>0.000000</td>\n",
       "    </tr>\n",
       "    <tr>\n",
       "      <th>25%</th>\n",
       "      <td>6.000000</td>\n",
       "      <td>14.000000</td>\n",
       "      <td>1.000000</td>\n",
       "    </tr>\n",
       "    <tr>\n",
       "      <th>50%</th>\n",
       "      <td>12.000000</td>\n",
       "      <td>29.000000</td>\n",
       "      <td>3.000000</td>\n",
       "    </tr>\n",
       "    <tr>\n",
       "      <th>75%</th>\n",
       "      <td>18.000000</td>\n",
       "      <td>45.000000</td>\n",
       "      <td>5.000000</td>\n",
       "    </tr>\n",
       "    <tr>\n",
       "      <th>max</th>\n",
       "      <td>23.000000</td>\n",
       "      <td>59.000000</td>\n",
       "      <td>6.000000</td>\n",
       "    </tr>\n",
       "  </tbody>\n",
       "</table>\n",
       "</div>"
      ],
      "text/plain": [
       "       hourOfTheDay  minuteOfTheHour  dayOfTheWeek\n",
       "count  13553.000000     13553.000000  13553.000000\n",
       "mean      11.768981        29.495979      3.081606\n",
       "std        6.957588        17.332343      2.248634\n",
       "min        0.000000         0.000000      0.000000\n",
       "25%        6.000000        14.000000      1.000000\n",
       "50%       12.000000        29.000000      3.000000\n",
       "75%       18.000000        45.000000      5.000000\n",
       "max       23.000000        59.000000      6.000000"
      ]
     },
     "execution_count": 108,
     "metadata": {},
     "output_type": "execute_result"
    }
   ],
   "source": [
    "xDataset.describe()"
   ]
  },
  {
   "cell_type": "code",
   "execution_count": 111,
   "metadata": {},
   "outputs": [],
   "source": [
    "yDF = pd.DataFrame(yDataset, columns=['activity'])"
   ]
  },
  {
   "cell_type": "code",
   "execution_count": 112,
   "metadata": {},
   "outputs": [],
   "source": [
    "xDataset.join(yDF, how='outer').to_csv('./data/timeToActivity.csv')"
   ]
  },
  {
   "cell_type": "code",
   "execution_count": 114,
   "metadata": {},
   "outputs": [],
   "source": [
    "allYCategories = [normalizedJson[column].unique().tolist() + ['missing_value'] for column in ['spawn.start.content.name']]"
   ]
  },
  {
   "cell_type": "code",
   "execution_count": 115,
   "metadata": {},
   "outputs": [
    {
     "data": {
      "text/plain": [
       "[['RECOVERY',\n",
       "  'GENERIC_ACTIVITY',\n",
       "  'Construct Audio-Book',\n",
       "  'Family Time',\n",
       "  'Strategic Admin',\n",
       "  'Meditation',\n",
       "  'Overhead',\n",
       "  'Coding',\n",
       "  'Workout',\n",
       "  'Tech Research',\n",
       "  'Work',\n",
       "  'ML',\n",
       "  'Comp Sci',\n",
       "  'Assist Others',\n",
       "  'Emails',\n",
       "  'missing_value']]"
      ]
     },
     "execution_count": 115,
     "metadata": {},
     "output_type": "execute_result"
    }
   ],
   "source": [
    "allYCategories"
   ]
  },
  {
   "cell_type": "code",
   "execution_count": 116,
   "metadata": {},
   "outputs": [
    {
     "data": {
      "text/plain": [
       "16"
      ]
     },
     "execution_count": 116,
     "metadata": {},
     "output_type": "execute_result"
    }
   ],
   "source": [
    "len(allYCategories[0])"
   ]
  },
  {
   "cell_type": "code",
   "execution_count": 30,
   "metadata": {},
   "outputs": [],
   "source": [
    "yEncoder = OrdinalEncoder(categories=allYCategories)"
   ]
  },
  {
   "cell_type": "code",
   "execution_count": 31,
   "metadata": {},
   "outputs": [],
   "source": [
    "preY = normalizedJson['spawn.start.content.name']"
   ]
  },
  {
   "cell_type": "code",
   "execution_count": 32,
   "metadata": {},
   "outputs": [],
   "source": [
    "yDataset = yEncoder.fit_transform(preY.to_numpy().reshape(-1, 1))"
   ]
  },
  {
   "cell_type": "code",
   "execution_count": 89,
   "metadata": {},
   "outputs": [],
   "source": [
    "from sklearn.neighbors import KNeighborsClassifier\n",
    "\n",
    "model = KNeighborsClassifier(n_neighbors=8)"
   ]
  },
  {
   "cell_type": "code",
   "execution_count": 90,
   "metadata": {},
   "outputs": [],
   "source": [
    "modelPipeline = Pipeline(steps=[\n",
    "    ('preProcessor', dataPreProcessor),\n",
    "    ('randoForestModel', model)\n",
    "])"
   ]
  },
  {
   "cell_type": "code",
   "execution_count": 91,
   "metadata": {},
   "outputs": [],
   "source": [
    "from sklearn.model_selection import cross_validate"
   ]
  },
  {
   "cell_type": "code",
   "execution_count": 92,
   "metadata": {},
   "outputs": [
    {
     "name": "stderr",
     "output_type": "stream",
     "text": [
      "/home/alex/miniconda3/envs/swift-env/lib/python3.6/site-packages/sklearn/model_selection/_split.py:657: Warning: The least populated class in y has only 2 members, which is too few. The minimum number of members in any class cannot be less than n_splits=8.\n",
      "  % (min_groups, self.n_splits)), Warning)\n"
     ]
    }
   ],
   "source": [
    "learntStuff = cross_validate(modelPipeline,\n",
    "                             xDataset,\n",
    "                             yDataset,\n",
    "                             cv=8,\n",
    "                             return_estimator=True,\n",
    "                                n_jobs=-1,\n",
    "                             scoring='accuracy')"
   ]
  },
  {
   "cell_type": "code",
   "execution_count": 93,
   "metadata": {},
   "outputs": [],
   "source": [
    "from sklearn.model_selection import cross_val_score"
   ]
  },
  {
   "cell_type": "code",
   "execution_count": 94,
   "metadata": {},
   "outputs": [],
   "source": [
    "learntModel = learntStuff['estimator'][0]"
   ]
  },
  {
   "cell_type": "code",
   "execution_count": 95,
   "metadata": {},
   "outputs": [
    {
     "name": "stderr",
     "output_type": "stream",
     "text": [
      "/home/alex/miniconda3/envs/swift-env/lib/python3.6/site-packages/sklearn/model_selection/_split.py:657: Warning: The least populated class in y has only 2 members, which is too few. The minimum number of members in any class cannot be less than n_splits=8.\n",
      "  % (min_groups, self.n_splits)), Warning)\n"
     ]
    }
   ],
   "source": [
    "losses = 1 * cross_val_score(learntModel,\n",
    "                             xDataset,\n",
    "                             yDataset,\n",
    "                             cv=8,\n",
    "                             n_jobs=-1,\n",
    "                             scoring='accuracy')"
   ]
  },
  {
   "cell_type": "code",
   "execution_count": 96,
   "metadata": {},
   "outputs": [
    {
     "data": {
      "text/plain": [
       "array([0.63176471, 0.61411765, 0.65055981, 0.74218289, 0.6824085 ,\n",
       "       0.644589  , 0.63668639, 0.57354686])"
      ]
     },
     "execution_count": 96,
     "metadata": {},
     "output_type": "execute_result"
    }
   ],
   "source": [
    "losses"
   ]
  },
  {
   "cell_type": "markdown",
   "metadata": {},
   "source": [
    "# Time Series Split"
   ]
  },
  {
   "cell_type": "code",
   "execution_count": 97,
   "metadata": {},
   "outputs": [],
   "source": [
    "from sklearn.model_selection import TimeSeriesSplit"
   ]
  },
  {
   "cell_type": "code",
   "execution_count": 98,
   "metadata": {},
   "outputs": [],
   "source": [
    "tsp = TimeSeriesSplit(n_splits=12)"
   ]
  },
  {
   "cell_type": "code",
   "execution_count": 99,
   "metadata": {},
   "outputs": [
    {
     "name": "stderr",
     "output_type": "stream",
     "text": [
      "/home/alex/miniconda3/envs/swift-env/lib/python3.6/site-packages/sklearn/pipeline.py:356: DataConversionWarning: A column-vector y was passed when a 1d array was expected. Please change the shape of y to (n_samples, ), for example using ravel().\n",
      "  self._final_estimator.fit(Xt, y, **fit_params)\n",
      "/home/alex/miniconda3/envs/swift-env/lib/python3.6/site-packages/sklearn/pipeline.py:356: DataConversionWarning: A column-vector y was passed when a 1d array was expected. Please change the shape of y to (n_samples, ), for example using ravel().\n",
      "  self._final_estimator.fit(Xt, y, **fit_params)\n",
      "/home/alex/miniconda3/envs/swift-env/lib/python3.6/site-packages/sklearn/pipeline.py:356: DataConversionWarning: A column-vector y was passed when a 1d array was expected. Please change the shape of y to (n_samples, ), for example using ravel().\n",
      "  self._final_estimator.fit(Xt, y, **fit_params)\n"
     ]
    },
    {
     "name": "stdout",
     "output_type": "stream",
     "text": [
      "Test loss of 20.120921305182343\n",
      "Train loss of 0.4966634890371783\n",
      "Test loss of 39.743761996161226\n",
      "Train loss of 3.8871353419416548\n",
      "Test loss of 13.826295585412668\n",
      "Train loss of 3.773060963932333\n",
      "Test loss of 16.888675623800385\n",
      "Train loss of 4.9892215568862275\n",
      "Test loss of 15.543186180422264\n"
     ]
    },
    {
     "name": "stderr",
     "output_type": "stream",
     "text": [
      "/home/alex/miniconda3/envs/swift-env/lib/python3.6/site-packages/sklearn/pipeline.py:356: DataConversionWarning: A column-vector y was passed when a 1d array was expected. Please change the shape of y to (n_samples, ), for example using ravel().\n",
      "  self._final_estimator.fit(Xt, y, **fit_params)\n",
      "/home/alex/miniconda3/envs/swift-env/lib/python3.6/site-packages/sklearn/pipeline.py:356: DataConversionWarning: A column-vector y was passed when a 1d array was expected. Please change the shape of y to (n_samples, ), for example using ravel().\n",
      "  self._final_estimator.fit(Xt, y, **fit_params)\n"
     ]
    },
    {
     "name": "stdout",
     "output_type": "stream",
     "text": [
      "Train loss of 5.812152578110025\n",
      "Test loss of 8.885796545105567\n",
      "Train loss of 4.972998881610481\n"
     ]
    },
    {
     "name": "stderr",
     "output_type": "stream",
     "text": [
      "/home/alex/miniconda3/envs/swift-env/lib/python3.6/site-packages/sklearn/pipeline.py:356: DataConversionWarning: A column-vector y was passed when a 1d array was expected. Please change the shape of y to (n_samples, ), for example using ravel().\n",
      "  self._final_estimator.fit(Xt, y, **fit_params)\n",
      "/home/alex/miniconda3/envs/swift-env/lib/python3.6/site-packages/sklearn/pipeline.py:356: DataConversionWarning: A column-vector y was passed when a 1d array was expected. Please change the shape of y to (n_samples, ), for example using ravel().\n",
      "  self._final_estimator.fit(Xt, y, **fit_params)\n"
     ]
    },
    {
     "name": "stdout",
     "output_type": "stream",
     "text": [
      "Test loss of 6.3310940499040305\n",
      "Train loss of 5.055745788248185\n"
     ]
    },
    {
     "name": "stderr",
     "output_type": "stream",
     "text": [
      "/home/alex/miniconda3/envs/swift-env/lib/python3.6/site-packages/sklearn/pipeline.py:356: DataConversionWarning: A column-vector y was passed when a 1d array was expected. Please change the shape of y to (n_samples, ), for example using ravel().\n",
      "  self._final_estimator.fit(Xt, y, **fit_params)\n"
     ]
    },
    {
     "name": "stdout",
     "output_type": "stream",
     "text": [
      "Test loss of 18.71017274472169\n",
      "Train loss of 5.011626513244636\n",
      "Test loss of 9.047024952015356\n"
     ]
    },
    {
     "name": "stderr",
     "output_type": "stream",
     "text": [
      "/home/alex/miniconda3/envs/swift-env/lib/python3.6/site-packages/sklearn/pipeline.py:356: DataConversionWarning: A column-vector y was passed when a 1d array was expected. Please change the shape of y to (n_samples, ), for example using ravel().\n",
      "  self._final_estimator.fit(Xt, y, **fit_params)\n"
     ]
    },
    {
     "name": "stdout",
     "output_type": "stream",
     "text": [
      "Train loss of 4.94746936600959\n",
      "Test loss of 3.605566218809981\n"
     ]
    },
    {
     "name": "stderr",
     "output_type": "stream",
     "text": [
      "/home/alex/miniconda3/envs/swift-env/lib/python3.6/site-packages/sklearn/pipeline.py:356: DataConversionWarning: A column-vector y was passed when a 1d array was expected. Please change the shape of y to (n_samples, ), for example using ravel().\n",
      "  self._final_estimator.fit(Xt, y, **fit_params)\n"
     ]
    },
    {
     "name": "stdout",
     "output_type": "stream",
     "text": [
      "Train loss of 5.067133403663566\n",
      "Test loss of 18.66506717850288\n"
     ]
    },
    {
     "name": "stderr",
     "output_type": "stream",
     "text": [
      "/home/alex/miniconda3/envs/swift-env/lib/python3.6/site-packages/sklearn/pipeline.py:356: DataConversionWarning: A column-vector y was passed when a 1d array was expected. Please change the shape of y to (n_samples, ), for example using ravel().\n",
      "  self._final_estimator.fit(Xt, y, **fit_params)\n"
     ]
    },
    {
     "name": "stdout",
     "output_type": "stream",
     "text": [
      "Train loss of 4.684104978638068\n",
      "Test loss of 7.070057581573896\n"
     ]
    },
    {
     "name": "stderr",
     "output_type": "stream",
     "text": [
      "/home/alex/miniconda3/envs/swift-env/lib/python3.6/site-packages/sklearn/pipeline.py:356: DataConversionWarning: A column-vector y was passed when a 1d array was expected. Please change the shape of y to (n_samples, ), for example using ravel().\n",
      "  self._final_estimator.fit(Xt, y, **fit_params)\n"
     ]
    },
    {
     "name": "stdout",
     "output_type": "stream",
     "text": [
      "Train loss of 5.736072256414356\n"
     ]
    }
   ],
   "source": [
    "for train, test, in tsp.split(xDataset, yDataset):\n",
    "    modelPipeline.fit(xDataset.iloc[train], yDataset[train])\n",
    "    pred = modelPipeline.predict(xDataset.iloc[test])\n",
    "    loss = mean_squared_error(yDataset[test], pred)\n",
    "    print(f'Test loss of {loss}')\n",
    "    trainPred = modelPipeline.predict(xDataset.iloc[train])\n",
    "    print(f'Train loss of {mean_squared_error(yDataset[train], trainPred)}')"
   ]
  },
  {
   "cell_type": "markdown",
   "metadata": {},
   "source": [
    "# Testing it out"
   ]
  },
  {
   "cell_type": "code",
   "execution_count": 100,
   "metadata": {},
   "outputs": [
    {
     "data": {
      "text/plain": [
       "(isWeekDay          True\n",
       " hourOfTheDay         20\n",
       " minuteOfTheHour      20\n",
       " dayOfTheWeek          4\n",
       " Name: 9001, dtype: object, 'Work')"
      ]
     },
     "execution_count": 100,
     "metadata": {},
     "output_type": "execute_result"
    }
   ],
   "source": [
    "xDataset.iloc[9001], preY.iloc[9001]"
   ]
  },
  {
   "cell_type": "code",
   "execution_count": 101,
   "metadata": {},
   "outputs": [],
   "source": [
    "pred = learntModel.predict(xDataset.iloc[[9001]])"
   ]
  },
  {
   "cell_type": "code",
   "execution_count": 119,
   "metadata": {},
   "outputs": [
    {
     "data": {
      "text/plain": [
       "array([10.])"
      ]
     },
     "execution_count": 119,
     "metadata": {},
     "output_type": "execute_result"
    }
   ],
   "source": [
    "pred"
   ]
  },
  {
   "cell_type": "code",
   "execution_count": 102,
   "metadata": {},
   "outputs": [
    {
     "data": {
      "text/plain": [
       "array([['Work']], dtype=object)"
      ]
     },
     "execution_count": 102,
     "metadata": {},
     "output_type": "execute_result"
    }
   ],
   "source": [
    "yEncoder.inverse_transform(pred.reshape(1,-1))"
   ]
  },
  {
   "cell_type": "code",
   "execution_count": 103,
   "metadata": {},
   "outputs": [],
   "source": [
    "testData = [[19.0, 30.0, 3.0, False]]\n",
    "testDF = pd.DataFrame(testData, columns=['hourOfTheDay', 'minuteOfTheHour', 'dayOfTheWeek', 'isWeekDay'])"
   ]
  },
  {
   "cell_type": "code",
   "execution_count": 104,
   "metadata": {},
   "outputs": [
    {
     "data": {
      "text/html": [
       "<div>\n",
       "<style scoped>\n",
       "    .dataframe tbody tr th:only-of-type {\n",
       "        vertical-align: middle;\n",
       "    }\n",
       "\n",
       "    .dataframe tbody tr th {\n",
       "        vertical-align: top;\n",
       "    }\n",
       "\n",
       "    .dataframe thead th {\n",
       "        text-align: right;\n",
       "    }\n",
       "</style>\n",
       "<table border=\"1\" class=\"dataframe\">\n",
       "  <thead>\n",
       "    <tr style=\"text-align: right;\">\n",
       "      <th></th>\n",
       "      <th>hourOfTheDay</th>\n",
       "      <th>minuteOfTheHour</th>\n",
       "      <th>dayOfTheWeek</th>\n",
       "      <th>isWeekDay</th>\n",
       "    </tr>\n",
       "  </thead>\n",
       "  <tbody>\n",
       "    <tr>\n",
       "      <th>0</th>\n",
       "      <td>19.0</td>\n",
       "      <td>30.0</td>\n",
       "      <td>3.0</td>\n",
       "      <td>False</td>\n",
       "    </tr>\n",
       "  </tbody>\n",
       "</table>\n",
       "</div>"
      ],
      "text/plain": [
       "   hourOfTheDay  minuteOfTheHour  dayOfTheWeek  isWeekDay\n",
       "0          19.0             30.0           3.0      False"
      ]
     },
     "execution_count": 104,
     "metadata": {},
     "output_type": "execute_result"
    }
   ],
   "source": [
    "testDF"
   ]
  },
  {
   "cell_type": "code",
   "execution_count": 105,
   "metadata": {},
   "outputs": [],
   "source": [
    "testPred = learntModel.predict(testDF)"
   ]
  },
  {
   "cell_type": "code",
   "execution_count": 106,
   "metadata": {},
   "outputs": [
    {
     "data": {
      "text/plain": [
       "array([['Work']], dtype=object)"
      ]
     },
     "execution_count": 106,
     "metadata": {},
     "output_type": "execute_result"
    }
   ],
   "source": [
    "yEncoder.inverse_transform(testPred.reshape(1,-1))"
   ]
  },
  {
   "cell_type": "code",
   "execution_count": 124,
   "metadata": {},
   "outputs": [
    {
     "data": {
      "text/plain": [
       "array([['Family Time'],\n",
       "       ['Coding'],\n",
       "       ['RECOVERY']], dtype=object)"
      ]
     },
     "execution_count": 124,
     "metadata": {},
     "output_type": "execute_result"
    }
   ],
   "source": [
    "yEncoder.inverse_transform([[3.],[7],[0]])"
   ]
  },
  {
   "cell_type": "code",
   "execution_count": null,
   "metadata": {},
   "outputs": [],
   "source": []
  }
 ],
 "metadata": {
  "kernelspec": {
   "display_name": "Python 3",
   "language": "python",
   "name": "python3"
  },
  "language_info": {
   "codemirror_mode": {
    "name": "ipython",
    "version": 3
   },
   "file_extension": ".py",
   "mimetype": "text/x-python",
   "name": "python",
   "nbconvert_exporter": "python",
   "pygments_lexer": "ipython3",
   "version": "3.6.9"
  }
 },
 "nbformat": 4,
 "nbformat_minor": 2
}
