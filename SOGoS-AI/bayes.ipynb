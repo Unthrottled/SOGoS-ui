{
 "cells": [
  {
   "cell_type": "code",
   "execution_count": 1,
   "metadata": {},
   "outputs": [],
   "source": [
    "import pandas as pd"
   ]
  },
  {
   "cell_type": "code",
   "execution_count": 7,
   "metadata": {},
   "outputs": [],
   "source": [
    "dataPath = \"./data/projection.json\""
   ]
  },
  {
   "cell_type": "code",
   "execution_count": 8,
   "metadata": {},
   "outputs": [],
   "source": [
    "df = pd.read_json(dataPath)"
   ]
  },
  {
   "cell_type": "code",
   "execution_count": 9,
   "metadata": {},
   "outputs": [
    {
     "data": {
      "text/html": [
       "<div>\n",
       "<style scoped>\n",
       "    .dataframe tbody tr th:only-of-type {\n",
       "        vertical-align: middle;\n",
       "    }\n",
       "\n",
       "    .dataframe tbody tr th {\n",
       "        vertical-align: top;\n",
       "    }\n",
       "\n",
       "    .dataframe thead th {\n",
       "        text-align: right;\n",
       "    }\n",
       "</style>\n",
       "<table border=\"1\" class=\"dataframe\">\n",
       "  <thead>\n",
       "    <tr style=\"text-align: right;\">\n",
       "      <th></th>\n",
       "      <th>timeStamp</th>\n",
       "      <th>spawn</th>\n",
       "    </tr>\n",
       "  </thead>\n",
       "  <tbody>\n",
       "    <tr>\n",
       "      <th>0</th>\n",
       "      <td>2019-11-09 16:20:21.846</td>\n",
       "      <td>{'start': {'antecedenceTime': 1573316421846, '...</td>\n",
       "    </tr>\n",
       "    <tr>\n",
       "      <th>1</th>\n",
       "      <td>2019-11-09 16:21:21.846</td>\n",
       "      <td>{'start': {'antecedenceTime': 1573316421846, '...</td>\n",
       "    </tr>\n",
       "    <tr>\n",
       "      <th>2</th>\n",
       "      <td>2019-11-09 16:22:21.846</td>\n",
       "      <td>{'start': {'antecedenceTime': 1573316421846, '...</td>\n",
       "    </tr>\n",
       "    <tr>\n",
       "      <th>3</th>\n",
       "      <td>2019-11-09 16:23:21.846</td>\n",
       "      <td>{'start': {'antecedenceTime': 1573316421846, '...</td>\n",
       "    </tr>\n",
       "    <tr>\n",
       "      <th>4</th>\n",
       "      <td>2019-11-09 16:24:21.846</td>\n",
       "      <td>{'start': {'antecedenceTime': 1573316421846, '...</td>\n",
       "    </tr>\n",
       "  </tbody>\n",
       "</table>\n",
       "</div>"
      ],
      "text/plain": [
       "                timeStamp                                              spawn\n",
       "0 2019-11-09 16:20:21.846  {'start': {'antecedenceTime': 1573316421846, '...\n",
       "1 2019-11-09 16:21:21.846  {'start': {'antecedenceTime': 1573316421846, '...\n",
       "2 2019-11-09 16:22:21.846  {'start': {'antecedenceTime': 1573316421846, '...\n",
       "3 2019-11-09 16:23:21.846  {'start': {'antecedenceTime': 1573316421846, '...\n",
       "4 2019-11-09 16:24:21.846  {'start': {'antecedenceTime': 1573316421846, '..."
      ]
     },
     "execution_count": 9,
     "metadata": {},
     "output_type": "execute_result"
    }
   ],
   "source": [
    "df.head()"
   ]
  },
  {
   "cell_type": "code",
   "execution_count": 10,
   "metadata": {},
   "outputs": [],
   "source": [
    "from pandas.io.json import json_normalize\n",
    "import json"
   ]
  },
  {
   "cell_type": "code",
   "execution_count": 11,
   "metadata": {},
   "outputs": [],
   "source": [
    "with open(dataPath) as dataJson:\n",
    "    rawJsonData = json.load(dataJson)"
   ]
  },
  {
   "cell_type": "code",
   "execution_count": 27,
   "metadata": {},
   "outputs": [
    {
     "data": {
      "text/plain": [
       "13553"
      ]
     },
     "execution_count": 27,
     "metadata": {},
     "output_type": "execute_result"
    }
   ],
   "source": [
    "len(rawJsonData)"
   ]
  },
  {
   "cell_type": "code",
   "execution_count": 14,
   "metadata": {},
   "outputs": [],
   "source": [
    "normalizedJson = json_normalize(rawJsonData)"
   ]
  },
  {
   "cell_type": "code",
   "execution_count": 15,
   "metadata": {},
   "outputs": [
    {
     "data": {
      "text/html": [
       "<div>\n",
       "<style scoped>\n",
       "    .dataframe tbody tr th:only-of-type {\n",
       "        vertical-align: middle;\n",
       "    }\n",
       "\n",
       "    .dataframe tbody tr th {\n",
       "        vertical-align: top;\n",
       "    }\n",
       "\n",
       "    .dataframe thead th {\n",
       "        text-align: right;\n",
       "    }\n",
       "</style>\n",
       "<table border=\"1\" class=\"dataframe\">\n",
       "  <thead>\n",
       "    <tr style=\"text-align: right;\">\n",
       "      <th></th>\n",
       "      <th>timeStamp</th>\n",
       "      <th>spawn.start.antecedenceTime</th>\n",
       "      <th>spawn.start.content.name</th>\n",
       "      <th>spawn.start.content.type</th>\n",
       "      <th>spawn.start.content.veryFirstActivity</th>\n",
       "      <th>spawn.start.content.uuid</th>\n",
       "      <th>spawn.stop.antecedenceTime</th>\n",
       "      <th>spawn.stop.content.name</th>\n",
       "      <th>spawn.stop.content.type</th>\n",
       "      <th>spawn.stop.content.timedType</th>\n",
       "      <th>...</th>\n",
       "      <th>spawn.start.content.timedType</th>\n",
       "      <th>spawn.start.content.workStartedWomboCombo</th>\n",
       "      <th>spawn.stop.content.paused</th>\n",
       "      <th>spawn.start.content.paused</th>\n",
       "      <th>spawn.stop.content.activityID</th>\n",
       "      <th>spawn.start.content.activityID</th>\n",
       "      <th>spawn.stop.content.duration</th>\n",
       "      <th>spawn.start.content.duration</th>\n",
       "      <th>spawn.stop.content.autoStart</th>\n",
       "      <th>spawn.start.content.autoStart</th>\n",
       "    </tr>\n",
       "  </thead>\n",
       "  <tbody>\n",
       "    <tr>\n",
       "      <th>0</th>\n",
       "      <td>1573316421846</td>\n",
       "      <td>1573316421846</td>\n",
       "      <td>RECOVERY</td>\n",
       "      <td>ACTIVE</td>\n",
       "      <td>True</td>\n",
       "      <td>7b1cfbdf-32e2-40f9-a44e-31fc32581bc2</td>\n",
       "      <td>1573321480328</td>\n",
       "      <td>GENERIC_ACTIVITY</td>\n",
       "      <td>ACTIVE</td>\n",
       "      <td>STOP_WATCH</td>\n",
       "      <td>...</td>\n",
       "      <td>NaN</td>\n",
       "      <td>NaN</td>\n",
       "      <td>NaN</td>\n",
       "      <td>NaN</td>\n",
       "      <td>NaN</td>\n",
       "      <td>NaN</td>\n",
       "      <td>NaN</td>\n",
       "      <td>NaN</td>\n",
       "      <td>NaN</td>\n",
       "      <td>NaN</td>\n",
       "    </tr>\n",
       "    <tr>\n",
       "      <th>1</th>\n",
       "      <td>1573316481846</td>\n",
       "      <td>1573316421846</td>\n",
       "      <td>RECOVERY</td>\n",
       "      <td>ACTIVE</td>\n",
       "      <td>True</td>\n",
       "      <td>7b1cfbdf-32e2-40f9-a44e-31fc32581bc2</td>\n",
       "      <td>1573321480328</td>\n",
       "      <td>GENERIC_ACTIVITY</td>\n",
       "      <td>ACTIVE</td>\n",
       "      <td>STOP_WATCH</td>\n",
       "      <td>...</td>\n",
       "      <td>NaN</td>\n",
       "      <td>NaN</td>\n",
       "      <td>NaN</td>\n",
       "      <td>NaN</td>\n",
       "      <td>NaN</td>\n",
       "      <td>NaN</td>\n",
       "      <td>NaN</td>\n",
       "      <td>NaN</td>\n",
       "      <td>NaN</td>\n",
       "      <td>NaN</td>\n",
       "    </tr>\n",
       "    <tr>\n",
       "      <th>2</th>\n",
       "      <td>1573316541846</td>\n",
       "      <td>1573316421846</td>\n",
       "      <td>RECOVERY</td>\n",
       "      <td>ACTIVE</td>\n",
       "      <td>True</td>\n",
       "      <td>7b1cfbdf-32e2-40f9-a44e-31fc32581bc2</td>\n",
       "      <td>1573321480328</td>\n",
       "      <td>GENERIC_ACTIVITY</td>\n",
       "      <td>ACTIVE</td>\n",
       "      <td>STOP_WATCH</td>\n",
       "      <td>...</td>\n",
       "      <td>NaN</td>\n",
       "      <td>NaN</td>\n",
       "      <td>NaN</td>\n",
       "      <td>NaN</td>\n",
       "      <td>NaN</td>\n",
       "      <td>NaN</td>\n",
       "      <td>NaN</td>\n",
       "      <td>NaN</td>\n",
       "      <td>NaN</td>\n",
       "      <td>NaN</td>\n",
       "    </tr>\n",
       "    <tr>\n",
       "      <th>3</th>\n",
       "      <td>1573316601846</td>\n",
       "      <td>1573316421846</td>\n",
       "      <td>RECOVERY</td>\n",
       "      <td>ACTIVE</td>\n",
       "      <td>True</td>\n",
       "      <td>7b1cfbdf-32e2-40f9-a44e-31fc32581bc2</td>\n",
       "      <td>1573321480328</td>\n",
       "      <td>GENERIC_ACTIVITY</td>\n",
       "      <td>ACTIVE</td>\n",
       "      <td>STOP_WATCH</td>\n",
       "      <td>...</td>\n",
       "      <td>NaN</td>\n",
       "      <td>NaN</td>\n",
       "      <td>NaN</td>\n",
       "      <td>NaN</td>\n",
       "      <td>NaN</td>\n",
       "      <td>NaN</td>\n",
       "      <td>NaN</td>\n",
       "      <td>NaN</td>\n",
       "      <td>NaN</td>\n",
       "      <td>NaN</td>\n",
       "    </tr>\n",
       "    <tr>\n",
       "      <th>4</th>\n",
       "      <td>1573316661846</td>\n",
       "      <td>1573316421846</td>\n",
       "      <td>RECOVERY</td>\n",
       "      <td>ACTIVE</td>\n",
       "      <td>True</td>\n",
       "      <td>7b1cfbdf-32e2-40f9-a44e-31fc32581bc2</td>\n",
       "      <td>1573321480328</td>\n",
       "      <td>GENERIC_ACTIVITY</td>\n",
       "      <td>ACTIVE</td>\n",
       "      <td>STOP_WATCH</td>\n",
       "      <td>...</td>\n",
       "      <td>NaN</td>\n",
       "      <td>NaN</td>\n",
       "      <td>NaN</td>\n",
       "      <td>NaN</td>\n",
       "      <td>NaN</td>\n",
       "      <td>NaN</td>\n",
       "      <td>NaN</td>\n",
       "      <td>NaN</td>\n",
       "      <td>NaN</td>\n",
       "      <td>NaN</td>\n",
       "    </tr>\n",
       "  </tbody>\n",
       "</table>\n",
       "<p>5 rows × 22 columns</p>\n",
       "</div>"
      ],
      "text/plain": [
       "       timeStamp  spawn.start.antecedenceTime spawn.start.content.name  \\\n",
       "0  1573316421846                1573316421846                 RECOVERY   \n",
       "1  1573316481846                1573316421846                 RECOVERY   \n",
       "2  1573316541846                1573316421846                 RECOVERY   \n",
       "3  1573316601846                1573316421846                 RECOVERY   \n",
       "4  1573316661846                1573316421846                 RECOVERY   \n",
       "\n",
       "  spawn.start.content.type spawn.start.content.veryFirstActivity  \\\n",
       "0                   ACTIVE                                  True   \n",
       "1                   ACTIVE                                  True   \n",
       "2                   ACTIVE                                  True   \n",
       "3                   ACTIVE                                  True   \n",
       "4                   ACTIVE                                  True   \n",
       "\n",
       "               spawn.start.content.uuid  spawn.stop.antecedenceTime  \\\n",
       "0  7b1cfbdf-32e2-40f9-a44e-31fc32581bc2               1573321480328   \n",
       "1  7b1cfbdf-32e2-40f9-a44e-31fc32581bc2               1573321480328   \n",
       "2  7b1cfbdf-32e2-40f9-a44e-31fc32581bc2               1573321480328   \n",
       "3  7b1cfbdf-32e2-40f9-a44e-31fc32581bc2               1573321480328   \n",
       "4  7b1cfbdf-32e2-40f9-a44e-31fc32581bc2               1573321480328   \n",
       "\n",
       "  spawn.stop.content.name spawn.stop.content.type  \\\n",
       "0        GENERIC_ACTIVITY                  ACTIVE   \n",
       "1        GENERIC_ACTIVITY                  ACTIVE   \n",
       "2        GENERIC_ACTIVITY                  ACTIVE   \n",
       "3        GENERIC_ACTIVITY                  ACTIVE   \n",
       "4        GENERIC_ACTIVITY                  ACTIVE   \n",
       "\n",
       "  spawn.stop.content.timedType  ... spawn.start.content.timedType  \\\n",
       "0                   STOP_WATCH  ...                           NaN   \n",
       "1                   STOP_WATCH  ...                           NaN   \n",
       "2                   STOP_WATCH  ...                           NaN   \n",
       "3                   STOP_WATCH  ...                           NaN   \n",
       "4                   STOP_WATCH  ...                           NaN   \n",
       "\n",
       "   spawn.start.content.workStartedWomboCombo spawn.stop.content.paused  \\\n",
       "0                                        NaN                       NaN   \n",
       "1                                        NaN                       NaN   \n",
       "2                                        NaN                       NaN   \n",
       "3                                        NaN                       NaN   \n",
       "4                                        NaN                       NaN   \n",
       "\n",
       "   spawn.start.content.paused spawn.stop.content.activityID  \\\n",
       "0                         NaN                           NaN   \n",
       "1                         NaN                           NaN   \n",
       "2                         NaN                           NaN   \n",
       "3                         NaN                           NaN   \n",
       "4                         NaN                           NaN   \n",
       "\n",
       "  spawn.start.content.activityID spawn.stop.content.duration  \\\n",
       "0                            NaN                         NaN   \n",
       "1                            NaN                         NaN   \n",
       "2                            NaN                         NaN   \n",
       "3                            NaN                         NaN   \n",
       "4                            NaN                         NaN   \n",
       "\n",
       "  spawn.start.content.duration  spawn.stop.content.autoStart  \\\n",
       "0                          NaN                           NaN   \n",
       "1                          NaN                           NaN   \n",
       "2                          NaN                           NaN   \n",
       "3                          NaN                           NaN   \n",
       "4                          NaN                           NaN   \n",
       "\n",
       "   spawn.start.content.autoStart  \n",
       "0                            NaN  \n",
       "1                            NaN  \n",
       "2                            NaN  \n",
       "3                            NaN  \n",
       "4                            NaN  \n",
       "\n",
       "[5 rows x 22 columns]"
      ]
     },
     "execution_count": 15,
     "metadata": {},
     "output_type": "execute_result"
    }
   ],
   "source": [
    "normalizedJson.head()"
   ]
  },
  {
   "cell_type": "code",
   "execution_count": 21,
   "metadata": {},
   "outputs": [],
   "source": [
    "normalizedJson['dateTime'] = pd.to_datetime(normalizedJson['timeStamp'], unit='ms')"
   ]
  },
  {
   "cell_type": "code",
   "execution_count": 23,
   "metadata": {},
   "outputs": [
    {
     "data": {
      "text/plain": [
       "0       2019-11-09 16:20:21.846\n",
       "1       2019-11-09 16:21:21.846\n",
       "2       2019-11-09 16:22:21.846\n",
       "3       2019-11-09 16:23:21.846\n",
       "4       2019-11-09 16:24:21.846\n",
       "                  ...          \n",
       "13548   2019-11-18 23:08:01.545\n",
       "13549   2019-11-18 23:09:01.545\n",
       "13550   2019-11-18 23:10:01.545\n",
       "13551   2019-11-18 23:11:01.545\n",
       "13552   2019-11-18 23:12:01.545\n",
       "Name: dateTime, Length: 13553, dtype: datetime64[ns]"
      ]
     },
     "execution_count": 23,
     "metadata": {},
     "output_type": "execute_result"
    }
   ],
   "source": [
    "normalizedJson['dateTime']"
   ]
  },
  {
   "cell_type": "code",
   "execution_count": 30,
   "metadata": {},
   "outputs": [],
   "source": [
    "normalizedJson['dayOfTheWeek'] = normalizedJson['dateTime'].dt.dayofweek"
   ]
  },
  {
   "cell_type": "code",
   "execution_count": 33,
   "metadata": {},
   "outputs": [
    {
     "data": {
      "text/html": [
       "<div>\n",
       "<style scoped>\n",
       "    .dataframe tbody tr th:only-of-type {\n",
       "        vertical-align: middle;\n",
       "    }\n",
       "\n",
       "    .dataframe tbody tr th {\n",
       "        vertical-align: top;\n",
       "    }\n",
       "\n",
       "    .dataframe thead th {\n",
       "        text-align: right;\n",
       "    }\n",
       "</style>\n",
       "<table border=\"1\" class=\"dataframe\">\n",
       "  <thead>\n",
       "    <tr style=\"text-align: right;\">\n",
       "      <th></th>\n",
       "      <th>timeStamp</th>\n",
       "      <th>spawn.start.antecedenceTime</th>\n",
       "      <th>spawn.start.content.name</th>\n",
       "      <th>spawn.start.content.type</th>\n",
       "      <th>spawn.start.content.veryFirstActivity</th>\n",
       "      <th>spawn.start.content.uuid</th>\n",
       "      <th>spawn.stop.antecedenceTime</th>\n",
       "      <th>spawn.stop.content.name</th>\n",
       "      <th>spawn.stop.content.type</th>\n",
       "      <th>spawn.stop.content.timedType</th>\n",
       "      <th>...</th>\n",
       "      <th>spawn.start.content.paused</th>\n",
       "      <th>spawn.stop.content.activityID</th>\n",
       "      <th>spawn.start.content.activityID</th>\n",
       "      <th>spawn.stop.content.duration</th>\n",
       "      <th>spawn.start.content.duration</th>\n",
       "      <th>spawn.stop.content.autoStart</th>\n",
       "      <th>spawn.start.content.autoStart</th>\n",
       "      <th>dateTime</th>\n",
       "      <th>dayOfTheWeek</th>\n",
       "      <th>isWeekDay</th>\n",
       "    </tr>\n",
       "  </thead>\n",
       "  <tbody>\n",
       "    <tr>\n",
       "      <th>0</th>\n",
       "      <td>1573316421846</td>\n",
       "      <td>1573316421846</td>\n",
       "      <td>RECOVERY</td>\n",
       "      <td>ACTIVE</td>\n",
       "      <td>True</td>\n",
       "      <td>7b1cfbdf-32e2-40f9-a44e-31fc32581bc2</td>\n",
       "      <td>1573321480328</td>\n",
       "      <td>GENERIC_ACTIVITY</td>\n",
       "      <td>ACTIVE</td>\n",
       "      <td>STOP_WATCH</td>\n",
       "      <td>...</td>\n",
       "      <td>NaN</td>\n",
       "      <td>NaN</td>\n",
       "      <td>NaN</td>\n",
       "      <td>NaN</td>\n",
       "      <td>NaN</td>\n",
       "      <td>NaN</td>\n",
       "      <td>NaN</td>\n",
       "      <td>2019-11-09 16:20:21.846</td>\n",
       "      <td>5</td>\n",
       "      <td>0.0</td>\n",
       "    </tr>\n",
       "    <tr>\n",
       "      <th>1</th>\n",
       "      <td>1573316481846</td>\n",
       "      <td>1573316421846</td>\n",
       "      <td>RECOVERY</td>\n",
       "      <td>ACTIVE</td>\n",
       "      <td>True</td>\n",
       "      <td>7b1cfbdf-32e2-40f9-a44e-31fc32581bc2</td>\n",
       "      <td>1573321480328</td>\n",
       "      <td>GENERIC_ACTIVITY</td>\n",
       "      <td>ACTIVE</td>\n",
       "      <td>STOP_WATCH</td>\n",
       "      <td>...</td>\n",
       "      <td>NaN</td>\n",
       "      <td>NaN</td>\n",
       "      <td>NaN</td>\n",
       "      <td>NaN</td>\n",
       "      <td>NaN</td>\n",
       "      <td>NaN</td>\n",
       "      <td>NaN</td>\n",
       "      <td>2019-11-09 16:21:21.846</td>\n",
       "      <td>5</td>\n",
       "      <td>0.0</td>\n",
       "    </tr>\n",
       "    <tr>\n",
       "      <th>2</th>\n",
       "      <td>1573316541846</td>\n",
       "      <td>1573316421846</td>\n",
       "      <td>RECOVERY</td>\n",
       "      <td>ACTIVE</td>\n",
       "      <td>True</td>\n",
       "      <td>7b1cfbdf-32e2-40f9-a44e-31fc32581bc2</td>\n",
       "      <td>1573321480328</td>\n",
       "      <td>GENERIC_ACTIVITY</td>\n",
       "      <td>ACTIVE</td>\n",
       "      <td>STOP_WATCH</td>\n",
       "      <td>...</td>\n",
       "      <td>NaN</td>\n",
       "      <td>NaN</td>\n",
       "      <td>NaN</td>\n",
       "      <td>NaN</td>\n",
       "      <td>NaN</td>\n",
       "      <td>NaN</td>\n",
       "      <td>NaN</td>\n",
       "      <td>2019-11-09 16:22:21.846</td>\n",
       "      <td>5</td>\n",
       "      <td>0.0</td>\n",
       "    </tr>\n",
       "    <tr>\n",
       "      <th>3</th>\n",
       "      <td>1573316601846</td>\n",
       "      <td>1573316421846</td>\n",
       "      <td>RECOVERY</td>\n",
       "      <td>ACTIVE</td>\n",
       "      <td>True</td>\n",
       "      <td>7b1cfbdf-32e2-40f9-a44e-31fc32581bc2</td>\n",
       "      <td>1573321480328</td>\n",
       "      <td>GENERIC_ACTIVITY</td>\n",
       "      <td>ACTIVE</td>\n",
       "      <td>STOP_WATCH</td>\n",
       "      <td>...</td>\n",
       "      <td>NaN</td>\n",
       "      <td>NaN</td>\n",
       "      <td>NaN</td>\n",
       "      <td>NaN</td>\n",
       "      <td>NaN</td>\n",
       "      <td>NaN</td>\n",
       "      <td>NaN</td>\n",
       "      <td>2019-11-09 16:23:21.846</td>\n",
       "      <td>5</td>\n",
       "      <td>0.0</td>\n",
       "    </tr>\n",
       "    <tr>\n",
       "      <th>4</th>\n",
       "      <td>1573316661846</td>\n",
       "      <td>1573316421846</td>\n",
       "      <td>RECOVERY</td>\n",
       "      <td>ACTIVE</td>\n",
       "      <td>True</td>\n",
       "      <td>7b1cfbdf-32e2-40f9-a44e-31fc32581bc2</td>\n",
       "      <td>1573321480328</td>\n",
       "      <td>GENERIC_ACTIVITY</td>\n",
       "      <td>ACTIVE</td>\n",
       "      <td>STOP_WATCH</td>\n",
       "      <td>...</td>\n",
       "      <td>NaN</td>\n",
       "      <td>NaN</td>\n",
       "      <td>NaN</td>\n",
       "      <td>NaN</td>\n",
       "      <td>NaN</td>\n",
       "      <td>NaN</td>\n",
       "      <td>NaN</td>\n",
       "      <td>2019-11-09 16:24:21.846</td>\n",
       "      <td>5</td>\n",
       "      <td>0.0</td>\n",
       "    </tr>\n",
       "  </tbody>\n",
       "</table>\n",
       "<p>5 rows × 25 columns</p>\n",
       "</div>"
      ],
      "text/plain": [
       "       timeStamp  spawn.start.antecedenceTime spawn.start.content.name  \\\n",
       "0  1573316421846                1573316421846                 RECOVERY   \n",
       "1  1573316481846                1573316421846                 RECOVERY   \n",
       "2  1573316541846                1573316421846                 RECOVERY   \n",
       "3  1573316601846                1573316421846                 RECOVERY   \n",
       "4  1573316661846                1573316421846                 RECOVERY   \n",
       "\n",
       "  spawn.start.content.type spawn.start.content.veryFirstActivity  \\\n",
       "0                   ACTIVE                                  True   \n",
       "1                   ACTIVE                                  True   \n",
       "2                   ACTIVE                                  True   \n",
       "3                   ACTIVE                                  True   \n",
       "4                   ACTIVE                                  True   \n",
       "\n",
       "               spawn.start.content.uuid  spawn.stop.antecedenceTime  \\\n",
       "0  7b1cfbdf-32e2-40f9-a44e-31fc32581bc2               1573321480328   \n",
       "1  7b1cfbdf-32e2-40f9-a44e-31fc32581bc2               1573321480328   \n",
       "2  7b1cfbdf-32e2-40f9-a44e-31fc32581bc2               1573321480328   \n",
       "3  7b1cfbdf-32e2-40f9-a44e-31fc32581bc2               1573321480328   \n",
       "4  7b1cfbdf-32e2-40f9-a44e-31fc32581bc2               1573321480328   \n",
       "\n",
       "  spawn.stop.content.name spawn.stop.content.type  \\\n",
       "0        GENERIC_ACTIVITY                  ACTIVE   \n",
       "1        GENERIC_ACTIVITY                  ACTIVE   \n",
       "2        GENERIC_ACTIVITY                  ACTIVE   \n",
       "3        GENERIC_ACTIVITY                  ACTIVE   \n",
       "4        GENERIC_ACTIVITY                  ACTIVE   \n",
       "\n",
       "  spawn.stop.content.timedType  ... spawn.start.content.paused  \\\n",
       "0                   STOP_WATCH  ...                        NaN   \n",
       "1                   STOP_WATCH  ...                        NaN   \n",
       "2                   STOP_WATCH  ...                        NaN   \n",
       "3                   STOP_WATCH  ...                        NaN   \n",
       "4                   STOP_WATCH  ...                        NaN   \n",
       "\n",
       "   spawn.stop.content.activityID spawn.start.content.activityID  \\\n",
       "0                            NaN                            NaN   \n",
       "1                            NaN                            NaN   \n",
       "2                            NaN                            NaN   \n",
       "3                            NaN                            NaN   \n",
       "4                            NaN                            NaN   \n",
       "\n",
       "   spawn.stop.content.duration spawn.start.content.duration  \\\n",
       "0                          NaN                          NaN   \n",
       "1                          NaN                          NaN   \n",
       "2                          NaN                          NaN   \n",
       "3                          NaN                          NaN   \n",
       "4                          NaN                          NaN   \n",
       "\n",
       "  spawn.stop.content.autoStart spawn.start.content.autoStart  \\\n",
       "0                          NaN                           NaN   \n",
       "1                          NaN                           NaN   \n",
       "2                          NaN                           NaN   \n",
       "3                          NaN                           NaN   \n",
       "4                          NaN                           NaN   \n",
       "\n",
       "                 dateTime  dayOfTheWeek  isWeekDay  \n",
       "0 2019-11-09 16:20:21.846             5        0.0  \n",
       "1 2019-11-09 16:21:21.846             5        0.0  \n",
       "2 2019-11-09 16:22:21.846             5        0.0  \n",
       "3 2019-11-09 16:23:21.846             5        0.0  \n",
       "4 2019-11-09 16:24:21.846             5        0.0  \n",
       "\n",
       "[5 rows x 25 columns]"
      ]
     },
     "execution_count": 33,
     "metadata": {},
     "output_type": "execute_result"
    }
   ],
   "source": [
    "normalizedJson.head()"
   ]
  },
  {
   "cell_type": "code",
   "execution_count": 26,
   "metadata": {},
   "outputs": [
    {
     "data": {
      "text/plain": [
       "13553"
      ]
     },
     "execution_count": 26,
     "metadata": {},
     "output_type": "execute_result"
    }
   ],
   "source": [
    "len(normalizedJson)"
   ]
  },
  {
   "cell_type": "code",
   "execution_count": 28,
   "metadata": {},
   "outputs": [],
   "source": [
    "normalizedJson['isWeekDay'] = ((pd.DatetimeIndex(normalizedJson.index).dayofweek) // 5 == 1).astype(float)\n"
   ]
  },
  {
   "cell_type": "code",
   "execution_count": 39,
   "metadata": {},
   "outputs": [
    {
     "data": {
      "text/html": [
       "<div>\n",
       "<style scoped>\n",
       "    .dataframe tbody tr th:only-of-type {\n",
       "        vertical-align: middle;\n",
       "    }\n",
       "\n",
       "    .dataframe tbody tr th {\n",
       "        vertical-align: top;\n",
       "    }\n",
       "\n",
       "    .dataframe thead th {\n",
       "        text-align: right;\n",
       "    }\n",
       "</style>\n",
       "<table border=\"1\" class=\"dataframe\">\n",
       "  <thead>\n",
       "    <tr style=\"text-align: right;\">\n",
       "      <th></th>\n",
       "      <th>timeStamp</th>\n",
       "      <th>spawn.start.antecedenceTime</th>\n",
       "      <th>spawn.start.content.name</th>\n",
       "      <th>spawn.start.content.type</th>\n",
       "      <th>spawn.start.content.veryFirstActivity</th>\n",
       "      <th>spawn.start.content.uuid</th>\n",
       "      <th>spawn.stop.antecedenceTime</th>\n",
       "      <th>spawn.stop.content.name</th>\n",
       "      <th>spawn.stop.content.type</th>\n",
       "      <th>spawn.stop.content.timedType</th>\n",
       "      <th>...</th>\n",
       "      <th>spawn.start.content.paused</th>\n",
       "      <th>spawn.stop.content.activityID</th>\n",
       "      <th>spawn.start.content.activityID</th>\n",
       "      <th>spawn.stop.content.duration</th>\n",
       "      <th>spawn.start.content.duration</th>\n",
       "      <th>spawn.stop.content.autoStart</th>\n",
       "      <th>spawn.start.content.autoStart</th>\n",
       "      <th>dateTime</th>\n",
       "      <th>dayOfTheWeek</th>\n",
       "      <th>isWeekDay</th>\n",
       "    </tr>\n",
       "  </thead>\n",
       "  <tbody>\n",
       "    <tr>\n",
       "      <th>0</th>\n",
       "      <td>1573316421846</td>\n",
       "      <td>1573316421846</td>\n",
       "      <td>RECOVERY</td>\n",
       "      <td>ACTIVE</td>\n",
       "      <td>True</td>\n",
       "      <td>7b1cfbdf-32e2-40f9-a44e-31fc32581bc2</td>\n",
       "      <td>1573321480328</td>\n",
       "      <td>GENERIC_ACTIVITY</td>\n",
       "      <td>ACTIVE</td>\n",
       "      <td>STOP_WATCH</td>\n",
       "      <td>...</td>\n",
       "      <td>NaN</td>\n",
       "      <td>NaN</td>\n",
       "      <td>NaN</td>\n",
       "      <td>NaN</td>\n",
       "      <td>NaN</td>\n",
       "      <td>NaN</td>\n",
       "      <td>NaN</td>\n",
       "      <td>2019-11-09 16:20:21.846</td>\n",
       "      <td>5</td>\n",
       "      <td>0.0</td>\n",
       "    </tr>\n",
       "    <tr>\n",
       "      <th>1</th>\n",
       "      <td>1573316481846</td>\n",
       "      <td>1573316421846</td>\n",
       "      <td>RECOVERY</td>\n",
       "      <td>ACTIVE</td>\n",
       "      <td>True</td>\n",
       "      <td>7b1cfbdf-32e2-40f9-a44e-31fc32581bc2</td>\n",
       "      <td>1573321480328</td>\n",
       "      <td>GENERIC_ACTIVITY</td>\n",
       "      <td>ACTIVE</td>\n",
       "      <td>STOP_WATCH</td>\n",
       "      <td>...</td>\n",
       "      <td>NaN</td>\n",
       "      <td>NaN</td>\n",
       "      <td>NaN</td>\n",
       "      <td>NaN</td>\n",
       "      <td>NaN</td>\n",
       "      <td>NaN</td>\n",
       "      <td>NaN</td>\n",
       "      <td>2019-11-09 16:21:21.846</td>\n",
       "      <td>5</td>\n",
       "      <td>0.0</td>\n",
       "    </tr>\n",
       "    <tr>\n",
       "      <th>2</th>\n",
       "      <td>1573316541846</td>\n",
       "      <td>1573316421846</td>\n",
       "      <td>RECOVERY</td>\n",
       "      <td>ACTIVE</td>\n",
       "      <td>True</td>\n",
       "      <td>7b1cfbdf-32e2-40f9-a44e-31fc32581bc2</td>\n",
       "      <td>1573321480328</td>\n",
       "      <td>GENERIC_ACTIVITY</td>\n",
       "      <td>ACTIVE</td>\n",
       "      <td>STOP_WATCH</td>\n",
       "      <td>...</td>\n",
       "      <td>NaN</td>\n",
       "      <td>NaN</td>\n",
       "      <td>NaN</td>\n",
       "      <td>NaN</td>\n",
       "      <td>NaN</td>\n",
       "      <td>NaN</td>\n",
       "      <td>NaN</td>\n",
       "      <td>2019-11-09 16:22:21.846</td>\n",
       "      <td>5</td>\n",
       "      <td>0.0</td>\n",
       "    </tr>\n",
       "    <tr>\n",
       "      <th>3</th>\n",
       "      <td>1573316601846</td>\n",
       "      <td>1573316421846</td>\n",
       "      <td>RECOVERY</td>\n",
       "      <td>ACTIVE</td>\n",
       "      <td>True</td>\n",
       "      <td>7b1cfbdf-32e2-40f9-a44e-31fc32581bc2</td>\n",
       "      <td>1573321480328</td>\n",
       "      <td>GENERIC_ACTIVITY</td>\n",
       "      <td>ACTIVE</td>\n",
       "      <td>STOP_WATCH</td>\n",
       "      <td>...</td>\n",
       "      <td>NaN</td>\n",
       "      <td>NaN</td>\n",
       "      <td>NaN</td>\n",
       "      <td>NaN</td>\n",
       "      <td>NaN</td>\n",
       "      <td>NaN</td>\n",
       "      <td>NaN</td>\n",
       "      <td>2019-11-09 16:23:21.846</td>\n",
       "      <td>5</td>\n",
       "      <td>0.0</td>\n",
       "    </tr>\n",
       "    <tr>\n",
       "      <th>4</th>\n",
       "      <td>1573316661846</td>\n",
       "      <td>1573316421846</td>\n",
       "      <td>RECOVERY</td>\n",
       "      <td>ACTIVE</td>\n",
       "      <td>True</td>\n",
       "      <td>7b1cfbdf-32e2-40f9-a44e-31fc32581bc2</td>\n",
       "      <td>1573321480328</td>\n",
       "      <td>GENERIC_ACTIVITY</td>\n",
       "      <td>ACTIVE</td>\n",
       "      <td>STOP_WATCH</td>\n",
       "      <td>...</td>\n",
       "      <td>NaN</td>\n",
       "      <td>NaN</td>\n",
       "      <td>NaN</td>\n",
       "      <td>NaN</td>\n",
       "      <td>NaN</td>\n",
       "      <td>NaN</td>\n",
       "      <td>NaN</td>\n",
       "      <td>2019-11-09 16:24:21.846</td>\n",
       "      <td>5</td>\n",
       "      <td>0.0</td>\n",
       "    </tr>\n",
       "  </tbody>\n",
       "</table>\n",
       "<p>5 rows × 25 columns</p>\n",
       "</div>"
      ],
      "text/plain": [
       "       timeStamp  spawn.start.antecedenceTime spawn.start.content.name  \\\n",
       "0  1573316421846                1573316421846                 RECOVERY   \n",
       "1  1573316481846                1573316421846                 RECOVERY   \n",
       "2  1573316541846                1573316421846                 RECOVERY   \n",
       "3  1573316601846                1573316421846                 RECOVERY   \n",
       "4  1573316661846                1573316421846                 RECOVERY   \n",
       "\n",
       "  spawn.start.content.type spawn.start.content.veryFirstActivity  \\\n",
       "0                   ACTIVE                                  True   \n",
       "1                   ACTIVE                                  True   \n",
       "2                   ACTIVE                                  True   \n",
       "3                   ACTIVE                                  True   \n",
       "4                   ACTIVE                                  True   \n",
       "\n",
       "               spawn.start.content.uuid  spawn.stop.antecedenceTime  \\\n",
       "0  7b1cfbdf-32e2-40f9-a44e-31fc32581bc2               1573321480328   \n",
       "1  7b1cfbdf-32e2-40f9-a44e-31fc32581bc2               1573321480328   \n",
       "2  7b1cfbdf-32e2-40f9-a44e-31fc32581bc2               1573321480328   \n",
       "3  7b1cfbdf-32e2-40f9-a44e-31fc32581bc2               1573321480328   \n",
       "4  7b1cfbdf-32e2-40f9-a44e-31fc32581bc2               1573321480328   \n",
       "\n",
       "  spawn.stop.content.name spawn.stop.content.type  \\\n",
       "0        GENERIC_ACTIVITY                  ACTIVE   \n",
       "1        GENERIC_ACTIVITY                  ACTIVE   \n",
       "2        GENERIC_ACTIVITY                  ACTIVE   \n",
       "3        GENERIC_ACTIVITY                  ACTIVE   \n",
       "4        GENERIC_ACTIVITY                  ACTIVE   \n",
       "\n",
       "  spawn.stop.content.timedType  ... spawn.start.content.paused  \\\n",
       "0                   STOP_WATCH  ...                        NaN   \n",
       "1                   STOP_WATCH  ...                        NaN   \n",
       "2                   STOP_WATCH  ...                        NaN   \n",
       "3                   STOP_WATCH  ...                        NaN   \n",
       "4                   STOP_WATCH  ...                        NaN   \n",
       "\n",
       "   spawn.stop.content.activityID spawn.start.content.activityID  \\\n",
       "0                            NaN                            NaN   \n",
       "1                            NaN                            NaN   \n",
       "2                            NaN                            NaN   \n",
       "3                            NaN                            NaN   \n",
       "4                            NaN                            NaN   \n",
       "\n",
       "   spawn.stop.content.duration spawn.start.content.duration  \\\n",
       "0                          NaN                          NaN   \n",
       "1                          NaN                          NaN   \n",
       "2                          NaN                          NaN   \n",
       "3                          NaN                          NaN   \n",
       "4                          NaN                          NaN   \n",
       "\n",
       "  spawn.stop.content.autoStart spawn.start.content.autoStart  \\\n",
       "0                          NaN                           NaN   \n",
       "1                          NaN                           NaN   \n",
       "2                          NaN                           NaN   \n",
       "3                          NaN                           NaN   \n",
       "4                          NaN                           NaN   \n",
       "\n",
       "                 dateTime  dayOfTheWeek  isWeekDay  \n",
       "0 2019-11-09 16:20:21.846             5        0.0  \n",
       "1 2019-11-09 16:21:21.846             5        0.0  \n",
       "2 2019-11-09 16:22:21.846             5        0.0  \n",
       "3 2019-11-09 16:23:21.846             5        0.0  \n",
       "4 2019-11-09 16:24:21.846             5        0.0  \n",
       "\n",
       "[5 rows x 25 columns]"
      ]
     },
     "execution_count": 39,
     "metadata": {},
     "output_type": "execute_result"
    }
   ],
   "source": [
    "normalizedJson.head()"
   ]
  },
  {
   "cell_type": "code",
   "execution_count": 37,
   "metadata": {},
   "outputs": [],
   "source": [
    "from sklearn.compose import ColumnTransformer\n",
    "from sklearn.pipeline import Pipeline\n",
    "from sklearn.impute import SimpleImputer\n",
    "from sklearn.preprocessing import OneHotEncoder\n",
    "from sklearn.preprocessing import OrdinalEncoder"
   ]
  },
  {
   "cell_type": "code",
   "execution_count": 167,
   "metadata": {},
   "outputs": [],
   "source": [
    "from sklearn.metrics import mean_absolute_error, mean_squared_error"
   ]
  },
  {
   "cell_type": "code",
   "execution_count": 54,
   "metadata": {},
   "outputs": [],
   "source": [
    "categoricalVariables = ['spawn.start.content.type']\n",
    "continuousVariables = ['timeStamp', 'dayOfTheWeek', 'isWeekDay']"
   ]
  },
  {
   "cell_type": "code",
   "execution_count": 55,
   "metadata": {},
   "outputs": [],
   "source": [
    "allCategories = [normalizedJson[column].unique().tolist() + ['missing_value'] for column in categoricalVariables]"
   ]
  },
  {
   "cell_type": "code",
   "execution_count": 56,
   "metadata": {},
   "outputs": [
    {
     "data": {
      "text/plain": [
       "[['ACTIVE', 'missing_value']]"
      ]
     },
     "execution_count": 56,
     "metadata": {},
     "output_type": "execute_result"
    }
   ],
   "source": [
    "allCategories"
   ]
  },
  {
   "cell_type": "code",
   "execution_count": 57,
   "metadata": {},
   "outputs": [],
   "source": [
    "continuousTransformer = SimpleImputer(strategy='constant')\n",
    "categoricalTransformer = Pipeline(steps=[\n",
    "    ('impute', SimpleImputer(strategy='constant')),\n",
    "    ('encode', OrdinalEncoder(categories=allCategories))\n",
    "])"
   ]
  },
  {
   "cell_type": "code",
   "execution_count": 58,
   "metadata": {},
   "outputs": [],
   "source": [
    "dataPreProcessor = ColumnTransformer(transformers=[\n",
    "    ('continuous', continuousTransformer, continuousVariables),\n",
    "    ('categorical', categoricalTransformer, categoricalVariables)\n",
    "])"
   ]
  },
  {
   "cell_type": "code",
   "execution_count": 59,
   "metadata": {},
   "outputs": [],
   "source": [
    "xDataset = normalizedJson[categoricalVariables + continuousVariables]"
   ]
  },
  {
   "cell_type": "code",
   "execution_count": 62,
   "metadata": {},
   "outputs": [],
   "source": [
    "allYCategories = [normalizedJson[column].unique().tolist() + ['missing_value'] for column in ['spawn.start.content.name']]"
   ]
  },
  {
   "cell_type": "code",
   "execution_count": 79,
   "metadata": {},
   "outputs": [
    {
     "data": {
      "text/plain": [
       "[['RECOVERY',\n",
       "  'GENERIC_ACTIVITY',\n",
       "  'Construct Audio-Book',\n",
       "  'Family Time',\n",
       "  'Strategic Admin',\n",
       "  'Meditation',\n",
       "  'Overhead',\n",
       "  'Coding',\n",
       "  'Workout',\n",
       "  'Tech Research',\n",
       "  'Work',\n",
       "  'ML',\n",
       "  'Comp Sci',\n",
       "  'Assist Others',\n",
       "  'Emails',\n",
       "  'missing_value']]"
      ]
     },
     "execution_count": 79,
     "metadata": {},
     "output_type": "execute_result"
    }
   ],
   "source": [
    "allYCategories"
   ]
  },
  {
   "cell_type": "code",
   "execution_count": 172,
   "metadata": {},
   "outputs": [],
   "source": [
    "yEncoder = OrdinalEncoder(categories=allYCategories)"
   ]
  },
  {
   "cell_type": "code",
   "execution_count": 173,
   "metadata": {},
   "outputs": [],
   "source": [
    "preY = normalizedJson['spawn.start.content.name']"
   ]
  },
  {
   "cell_type": "code",
   "execution_count": 174,
   "metadata": {},
   "outputs": [],
   "source": [
    "yDataset = yEncoder.fit_transform(preY.to_numpy().reshape(-1, 1))"
   ]
  },
  {
   "cell_type": "code",
   "execution_count": 175,
   "metadata": {},
   "outputs": [],
   "source": [
    "from sklearn.naive_bayes import GaussianNB"
   ]
  },
  {
   "cell_type": "code",
   "execution_count": 176,
   "metadata": {},
   "outputs": [],
   "source": [
    "model = GaussianNB()"
   ]
  },
  {
   "cell_type": "code",
   "execution_count": 177,
   "metadata": {},
   "outputs": [],
   "source": [
    "modelPipeline = Pipeline(steps=[\n",
    "    ('preProcessor', dataPreProcessor),\n",
    "    ('randoForestModel', model)\n",
    "])"
   ]
  },
  {
   "cell_type": "code",
   "execution_count": 178,
   "metadata": {},
   "outputs": [],
   "source": [
    "from sklearn.model_selection import TimeSeriesSplit"
   ]
  },
  {
   "cell_type": "code",
   "execution_count": 179,
   "metadata": {},
   "outputs": [],
   "source": [
    "tsp = TimeSeriesSplit(n_splits=12)"
   ]
  },
  {
   "cell_type": "code",
   "execution_count": 180,
   "metadata": {},
   "outputs": [
    {
     "name": "stderr",
     "output_type": "stream",
     "text": [
      "/home/alex/miniconda3/envs/swift-env/lib/python3.6/site-packages/sklearn/utils/validation.py:724: DataConversionWarning: A column-vector y was passed when a 1d array was expected. Please change the shape of y to (n_samples, ), for example using ravel().\n",
      "  y = column_or_1d(y, warn=True)\n",
      "/home/alex/miniconda3/envs/swift-env/lib/python3.6/site-packages/sklearn/utils/validation.py:724: DataConversionWarning: A column-vector y was passed when a 1d array was expected. Please change the shape of y to (n_samples, ), for example using ravel().\n",
      "  y = column_or_1d(y, warn=True)\n",
      "/home/alex/miniconda3/envs/swift-env/lib/python3.6/site-packages/sklearn/utils/validation.py:724: DataConversionWarning: A column-vector y was passed when a 1d array was expected. Please change the shape of y to (n_samples, ), for example using ravel().\n",
      "  y = column_or_1d(y, warn=True)\n",
      "/home/alex/miniconda3/envs/swift-env/lib/python3.6/site-packages/sklearn/utils/validation.py:724: DataConversionWarning: A column-vector y was passed when a 1d array was expected. Please change the shape of y to (n_samples, ), for example using ravel().\n",
      "  y = column_or_1d(y, warn=True)\n",
      "/home/alex/miniconda3/envs/swift-env/lib/python3.6/site-packages/sklearn/utils/validation.py:724: DataConversionWarning: A column-vector y was passed when a 1d array was expected. Please change the shape of y to (n_samples, ), for example using ravel().\n",
      "  y = column_or_1d(y, warn=True)\n",
      "/home/alex/miniconda3/envs/swift-env/lib/python3.6/site-packages/sklearn/utils/validation.py:724: DataConversionWarning: A column-vector y was passed when a 1d array was expected. Please change the shape of y to (n_samples, ), for example using ravel().\n",
      "  y = column_or_1d(y, warn=True)\n",
      "/home/alex/miniconda3/envs/swift-env/lib/python3.6/site-packages/sklearn/utils/validation.py:724: DataConversionWarning: A column-vector y was passed when a 1d array was expected. Please change the shape of y to (n_samples, ), for example using ravel().\n",
      "  y = column_or_1d(y, warn=True)\n",
      "/home/alex/miniconda3/envs/swift-env/lib/python3.6/site-packages/sklearn/utils/validation.py:724: DataConversionWarning: A column-vector y was passed when a 1d array was expected. Please change the shape of y to (n_samples, ), for example using ravel().\n",
      "  y = column_or_1d(y, warn=True)\n",
      "/home/alex/miniconda3/envs/swift-env/lib/python3.6/site-packages/sklearn/utils/validation.py:724: DataConversionWarning: A column-vector y was passed when a 1d array was expected. Please change the shape of y to (n_samples, ), for example using ravel().\n",
      "  y = column_or_1d(y, warn=True)\n",
      "/home/alex/miniconda3/envs/swift-env/lib/python3.6/site-packages/sklearn/utils/validation.py:724: DataConversionWarning: A column-vector y was passed when a 1d array was expected. Please change the shape of y to (n_samples, ), for example using ravel().\n",
      "  y = column_or_1d(y, warn=True)\n",
      "/home/alex/miniconda3/envs/swift-env/lib/python3.6/site-packages/sklearn/utils/validation.py:724: DataConversionWarning: A column-vector y was passed when a 1d array was expected. Please change the shape of y to (n_samples, ), for example using ravel().\n",
      "  y = column_or_1d(y, warn=True)\n"
     ]
    },
    {
     "name": "stdout",
     "output_type": "stream",
     "text": [
      "Test loss of 27.39443378119002\n",
      "Train loss of 0.9618684461391802\n",
      "Test loss of 37.130518234165066\n",
      "Train loss of 6.624103299856528\n",
      "Test loss of 31.472168905950095\n",
      "Train loss of 11.207468879668049\n",
      "Test loss of 54.880998080614205\n",
      "Train loss of 13.809820359281437\n",
      "Test loss of 53.201535508637235\n",
      "Train loss of 26.187464059804487\n",
      "Test loss of 56.3426103646833\n",
      "Train loss of 31.28646748681898\n",
      "Test loss of 47.33301343570058\n",
      "Train loss of 33.55225311601151\n",
      "Test loss of 71.77543186180422\n",
      "Train loss of 36.0405130049143\n",
      "Test loss of 71.4961612284069\n",
      "Train loss of 33.510388918486946\n",
      "Test loss of 9.805182341650672\n",
      "Train loss of 36.400498705284356\n",
      "Test loss of 18.122840690978887\n",
      "Train loss of 33.9353038625861\n",
      "Test loss of 57.34548944337812\n",
      "Train loss of 33.29885700583487\n"
     ]
    },
    {
     "name": "stderr",
     "output_type": "stream",
     "text": [
      "/home/alex/miniconda3/envs/swift-env/lib/python3.6/site-packages/sklearn/utils/validation.py:724: DataConversionWarning: A column-vector y was passed when a 1d array was expected. Please change the shape of y to (n_samples, ), for example using ravel().\n",
      "  y = column_or_1d(y, warn=True)\n"
     ]
    }
   ],
   "source": [
    "for train, test, in tsp.split(xDataset, yDataset):\n",
    "    modelPipeline.fit(xDataset.iloc[train], yDataset[train])\n",
    "    pred = modelPipeline.predict(xDataset.iloc[test])\n",
    "    loss = mean_squared_error(yDataset[test], pred)\n",
    "    print(f'Test loss of {loss}')\n",
    "    trainPred = modelPipeline.predict(xDataset.iloc[train])\n",
    "    print(f'Train loss of {mean_squared_error(yDataset[train], trainPred)}')"
   ]
  },
  {
   "cell_type": "code",
   "execution_count": 181,
   "metadata": {},
   "outputs": [
    {
     "data": {
      "text/plain": [
       "(spawn.start.content.type           ACTIVE\n",
       " timeStamp                   1573849216475\n",
       " dayOfTheWeek                            4\n",
       " isWeekDay                               0\n",
       " Name: 9001, dtype: object, 'Work')"
      ]
     },
     "execution_count": 181,
     "metadata": {},
     "output_type": "execute_result"
    }
   ],
   "source": [
    "xDataset.iloc[9001], preY.iloc[9001]"
   ]
  },
  {
   "cell_type": "code",
   "execution_count": 182,
   "metadata": {},
   "outputs": [],
   "source": [
    "pred = modelPipeline.predict(xDataset.iloc[[9001]])"
   ]
  },
  {
   "cell_type": "code",
   "execution_count": 183,
   "metadata": {},
   "outputs": [
    {
     "data": {
      "text/plain": [
       "array([0.])"
      ]
     },
     "execution_count": 183,
     "metadata": {},
     "output_type": "execute_result"
    }
   ],
   "source": [
    "pred"
   ]
  },
  {
   "cell_type": "code",
   "execution_count": null,
   "metadata": {},
   "outputs": [],
   "source": []
  }
 ],
 "metadata": {
  "kernelspec": {
   "display_name": "Python 3",
   "language": "python",
   "name": "python3"
  },
  "language_info": {
   "codemirror_mode": {
    "name": "ipython",
    "version": 3
   },
   "file_extension": ".py",
   "mimetype": "text/x-python",
   "name": "python",
   "nbconvert_exporter": "python",
   "pygments_lexer": "ipython3",
   "version": "3.6.9"
  }
 },
 "nbformat": 4,
 "nbformat_minor": 2
}
